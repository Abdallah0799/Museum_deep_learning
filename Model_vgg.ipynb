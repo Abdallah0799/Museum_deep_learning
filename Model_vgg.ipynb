{
  "nbformat": 4,
  "nbformat_minor": 0,
  "metadata": {
    "colab": {
      "name": "Applied DL Project.ipynb",
      "provenance": [],
      "collapsed_sections": []
    },
    "kernelspec": {
      "name": "python3",
      "display_name": "Python 3"
    },
    "language_info": {
      "name": "python"
    },
    "accelerator": "GPU"
  },
  "cells": [
    {
      "cell_type": "code",
      "execution_count": 1,
      "metadata": {
        "id": "3lUdiHiy5_zc"
      },
      "outputs": [],
      "source": [
        "import numpy as np\n",
        "import matplotlib.pyplot as plt\n",
        "from tensorflow.keras.preprocessing.image import array_to_img, img_to_array, load_img\n",
        "from keras.layers import Input, Lambda, Dense, Flatten\n",
        "from keras.models import Model\n",
        "from keras.applications.vgg16 import VGG16\n",
        "from keras.applications.vgg16 import preprocess_input\n",
        "from keras.preprocessing import image\n",
        "from keras.preprocessing.image import ImageDataGenerator\n",
        "from keras.models import Sequential\n",
        "import numpy as np\n",
        "from glob import glob\n",
        "import matplotlib.pyplot as plt\n",
        "import os\n",
        "import tensorflow as tf\n",
        "from google.colab import drive"
      ]
    },
    {
      "cell_type": "code",
      "source": [
        "drive.mount('/content/gdrive')"
      ],
      "metadata": {
        "colab": {
          "base_uri": "https://localhost:8080/"
        },
        "id": "8Ckp_g2vVNd7",
        "outputId": "daf3be4c-8670-49c8-e18f-c6aa9f9fbd07"
      },
      "execution_count": 2,
      "outputs": [
        {
          "output_type": "stream",
          "name": "stdout",
          "text": [
            "Drive already mounted at /content/gdrive; to attempt to forcibly remount, call drive.mount(\"/content/gdrive\", force_remount=True).\n"
          ]
        }
      ]
    },
    {
      "cell_type": "code",
      "source": [
        "zip_file = '/content/gdrive/MyDrive/dataset.zip'"
      ],
      "metadata": {
        "id": "2lY6lU3IVimM"
      },
      "execution_count": 3,
      "outputs": []
    },
    {
      "cell_type": "code",
      "source": [
        "import zipfile\n",
        "with zipfile.ZipFile(zip_file, 'r') as zip_ref:\n",
        "    zip_ref.extractall('/content/gdrive/MyDrive')"
      ],
      "metadata": {
        "id": "ptqytLV0VbLy"
      },
      "execution_count": 4,
      "outputs": []
    },
    {
      "cell_type": "code",
      "source": [
        "batch_size = 64\n",
        "IMAGE_SIZE = [224, 224]\n",
        "data_dir_train = os.path.join('/content/gdrive/MyDrive/dataset', 'TRAIN')\n",
        "\n",
        "train = tf.keras.utils.image_dataset_from_directory(\n",
        "  data_dir_train,\n",
        "  validation_split=0.2,\n",
        "  subset=\"training\",\n",
        "  image_size= IMAGE_SIZE,\n",
        "  seed=1,\n",
        "  batch_size= batch_size)\n",
        "\n",
        "val = tf.keras.utils.image_dataset_from_directory(\n",
        "  data_dir_train,\n",
        "  validation_split=0.2,\n",
        "  subset=\"validation\",\n",
        "  seed=1,\n",
        "  image_size= IMAGE_SIZE,\n",
        "  batch_size= batch_size)"
      ],
      "metadata": {
        "colab": {
          "base_uri": "https://localhost:8080/"
        },
        "id": "UdbXOGe2WbNz",
        "outputId": "31901f5c-08c9-49da-ec8a-e2b72c949e0f"
      },
      "execution_count": 5,
      "outputs": [
        {
          "output_type": "stream",
          "name": "stdout",
          "text": [
            "Found 3182 files belonging to 4 classes.\n",
            "Using 2546 files for training.\n",
            "Found 3182 files belonging to 4 classes.\n",
            "Using 636 files for validation.\n"
          ]
        }
      ]
    },
    {
      "cell_type": "code",
      "source": [
        "vgg = VGG16(input_shape=IMAGE_SIZE + [3], weights='imagenet', include_top=False)\n",
        "\n",
        "# don't train existing weights\n",
        "for layer in vgg.layers:\n",
        "    \n",
        "    layer.trainable = False\n",
        "  "
      ],
      "metadata": {
        "id": "d_XHeHZwW1IU"
      },
      "execution_count": 6,
      "outputs": []
    },
    {
      "cell_type": "code",
      "source": [
        "\n",
        "x = Flatten()(vgg.output)\n",
        "prediction = Dense(4, activation='softmax')(x)\n",
        "\n",
        "# create a model object\n",
        "model = Model(inputs=vgg.input, outputs=prediction)\n",
        "\n",
        "# view the structure of the model\n",
        "model.summary()"
      ],
      "metadata": {
        "colab": {
          "base_uri": "https://localhost:8080/"
        },
        "id": "m8phSo6IW34_",
        "outputId": "80a2bab8-fc3e-438b-bec3-4f97a3640b9a"
      },
      "execution_count": 7,
      "outputs": [
        {
          "output_type": "stream",
          "name": "stdout",
          "text": [
            "Model: \"model\"\n",
            "_________________________________________________________________\n",
            " Layer (type)                Output Shape              Param #   \n",
            "=================================================================\n",
            " input_1 (InputLayer)        [(None, 224, 224, 3)]     0         \n",
            "                                                                 \n",
            " block1_conv1 (Conv2D)       (None, 224, 224, 64)      1792      \n",
            "                                                                 \n",
            " block1_conv2 (Conv2D)       (None, 224, 224, 64)      36928     \n",
            "                                                                 \n",
            " block1_pool (MaxPooling2D)  (None, 112, 112, 64)      0         \n",
            "                                                                 \n",
            " block2_conv1 (Conv2D)       (None, 112, 112, 128)     73856     \n",
            "                                                                 \n",
            " block2_conv2 (Conv2D)       (None, 112, 112, 128)     147584    \n",
            "                                                                 \n",
            " block2_pool (MaxPooling2D)  (None, 56, 56, 128)       0         \n",
            "                                                                 \n",
            " block3_conv1 (Conv2D)       (None, 56, 56, 256)       295168    \n",
            "                                                                 \n",
            " block3_conv2 (Conv2D)       (None, 56, 56, 256)       590080    \n",
            "                                                                 \n",
            " block3_conv3 (Conv2D)       (None, 56, 56, 256)       590080    \n",
            "                                                                 \n",
            " block3_pool (MaxPooling2D)  (None, 28, 28, 256)       0         \n",
            "                                                                 \n",
            " block4_conv1 (Conv2D)       (None, 28, 28, 512)       1180160   \n",
            "                                                                 \n",
            " block4_conv2 (Conv2D)       (None, 28, 28, 512)       2359808   \n",
            "                                                                 \n",
            " block4_conv3 (Conv2D)       (None, 28, 28, 512)       2359808   \n",
            "                                                                 \n",
            " block4_pool (MaxPooling2D)  (None, 14, 14, 512)       0         \n",
            "                                                                 \n",
            " block5_conv1 (Conv2D)       (None, 14, 14, 512)       2359808   \n",
            "                                                                 \n",
            " block5_conv2 (Conv2D)       (None, 14, 14, 512)       2359808   \n",
            "                                                                 \n",
            " block5_conv3 (Conv2D)       (None, 14, 14, 512)       2359808   \n",
            "                                                                 \n",
            " block5_pool (MaxPooling2D)  (None, 7, 7, 512)         0         \n",
            "                                                                 \n",
            " flatten (Flatten)           (None, 25088)             0         \n",
            "                                                                 \n",
            " dense (Dense)               (None, 4)                 100356    \n",
            "                                                                 \n",
            "=================================================================\n",
            "Total params: 14,815,044\n",
            "Trainable params: 100,356\n",
            "Non-trainable params: 14,714,688\n",
            "_________________________________________________________________\n"
          ]
        }
      ]
    },
    {
      "cell_type": "code",
      "source": [
        "from tensorflow.keras import optimizers\n",
        "model.compile(\n",
        "  loss='sparse_categorical_crossentropy',\n",
        "  optimizer=optimizers.Adam(learning_rate=0.01),\n",
        "  metrics=['accuracy']\n",
        ")"
      ],
      "metadata": {
        "id": "vYPID4ojW53D"
      },
      "execution_count": 12,
      "outputs": []
    },
    {
      "cell_type": "code",
      "source": [
        "\n",
        "model.fit( \n",
        "    train,\n",
        "    validation_data=val,\n",
        "    epochs=20,\n",
        "    batch_size=batch_size\n",
        ")"
      ],
      "metadata": {
        "colab": {
          "base_uri": "https://localhost:8080/"
        },
        "id": "IblzSQrJW6Yy",
        "outputId": "fd1ab61f-9308-414f-8732-7184aeb92a3a"
      },
      "execution_count": 13,
      "outputs": [
        {
          "output_type": "stream",
          "name": "stdout",
          "text": [
            "Epoch 1/20\n",
            "40/40 [==============================] - 19s 439ms/step - loss: 113.4356 - accuracy: 0.5958 - val_loss: 89.7483 - val_accuracy: 0.5833\n",
            "Epoch 2/20\n",
            "40/40 [==============================] - 19s 441ms/step - loss: 27.6637 - accuracy: 0.8213 - val_loss: 82.7489 - val_accuracy: 0.6053\n",
            "Epoch 3/20\n",
            "40/40 [==============================] - 19s 442ms/step - loss: 10.6823 - accuracy: 0.9128 - val_loss: 101.8335 - val_accuracy: 0.6038\n",
            "Epoch 4/20\n",
            "40/40 [==============================] - 19s 443ms/step - loss: 5.4562 - accuracy: 0.9438 - val_loss: 125.2008 - val_accuracy: 0.6258\n",
            "Epoch 5/20\n",
            "40/40 [==============================] - 19s 453ms/step - loss: 6.1031 - accuracy: 0.9497 - val_loss: 111.5959 - val_accuracy: 0.6226\n",
            "Epoch 6/20\n",
            "40/40 [==============================] - 20s 459ms/step - loss: 4.2344 - accuracy: 0.9576 - val_loss: 113.5481 - val_accuracy: 0.6132\n",
            "Epoch 7/20\n",
            "40/40 [==============================] - 20s 459ms/step - loss: 3.3090 - accuracy: 0.9698 - val_loss: 125.4942 - val_accuracy: 0.6148\n",
            "Epoch 8/20\n",
            "40/40 [==============================] - 20s 463ms/step - loss: 3.5876 - accuracy: 0.9694 - val_loss: 114.3582 - val_accuracy: 0.6415\n",
            "Epoch 9/20\n",
            "40/40 [==============================] - 20s 466ms/step - loss: 2.9895 - accuracy: 0.9749 - val_loss: 126.0188 - val_accuracy: 0.6116\n",
            "Epoch 10/20\n",
            "40/40 [==============================] - 20s 469ms/step - loss: 1.4353 - accuracy: 0.9823 - val_loss: 125.8736 - val_accuracy: 0.6006\n",
            "Epoch 11/20\n",
            "40/40 [==============================] - 20s 475ms/step - loss: 2.5742 - accuracy: 0.9784 - val_loss: 127.3000 - val_accuracy: 0.6258\n",
            "Epoch 12/20\n",
            "40/40 [==============================] - 20s 473ms/step - loss: 1.2430 - accuracy: 0.9804 - val_loss: 126.2322 - val_accuracy: 0.6226\n",
            "Epoch 13/20\n",
            "40/40 [==============================] - 20s 471ms/step - loss: 2.6449 - accuracy: 0.9792 - val_loss: 135.1873 - val_accuracy: 0.6195\n",
            "Epoch 14/20\n",
            "40/40 [==============================] - 20s 470ms/step - loss: 2.9551 - accuracy: 0.9760 - val_loss: 150.7676 - val_accuracy: 0.6336\n",
            "Epoch 15/20\n",
            "40/40 [==============================] - 20s 473ms/step - loss: 4.1372 - accuracy: 0.9713 - val_loss: 163.9498 - val_accuracy: 0.6352\n",
            "Epoch 16/20\n",
            "40/40 [==============================] - 20s 473ms/step - loss: 4.3774 - accuracy: 0.9705 - val_loss: 155.5502 - val_accuracy: 0.6289\n",
            "Epoch 17/20\n",
            "40/40 [==============================] - 20s 474ms/step - loss: 2.8380 - accuracy: 0.9780 - val_loss: 203.0029 - val_accuracy: 0.5991\n",
            "Epoch 18/20\n",
            "40/40 [==============================] - 20s 476ms/step - loss: 3.4026 - accuracy: 0.9768 - val_loss: 181.7177 - val_accuracy: 0.6321\n",
            "Epoch 19/20\n",
            "40/40 [==============================] - 20s 474ms/step - loss: 3.6011 - accuracy: 0.9760 - val_loss: 175.4253 - val_accuracy: 0.6085\n",
            "Epoch 20/20\n",
            "40/40 [==============================] - 20s 474ms/step - loss: 2.0382 - accuracy: 0.9882 - val_loss: 175.4308 - val_accuracy: 0.6101\n"
          ]
        },
        {
          "output_type": "execute_result",
          "data": {
            "text/plain": [
              "<keras.callbacks.History at 0x7fb7c00de4d0>"
            ]
          },
          "metadata": {},
          "execution_count": 13
        }
      ]
    },
    {
      "cell_type": "code",
      "source": [
        "data_dir_test = os.path.join('/content/gdrive/MyDrive/dataset', 'TEST')\n",
        "\n",
        "\n",
        "test = tf.keras.utils.image_dataset_from_directory(\n",
        "  data_dir_test,\n",
        "  image_size= IMAGE_SIZE,\n",
        "  seed=1,\n",
        "  batch_size= batch_size)"
      ],
      "metadata": {
        "colab": {
          "base_uri": "https://localhost:8080/"
        },
        "id": "ExXPvu2ZhUPr",
        "outputId": "267fe203-c8ad-47cf-b9b8-e83a2a7c6191"
      },
      "execution_count": 15,
      "outputs": [
        {
          "output_type": "stream",
          "name": "stdout",
          "text": [
            "Found 796 files belonging to 4 classes.\n"
          ]
        }
      ]
    },
    {
      "cell_type": "code",
      "source": [
        "score = model.evaluate(test, verbose=False)\n",
        "print('Test accuracy:', score[1])"
      ],
      "metadata": {
        "colab": {
          "base_uri": "https://localhost:8080/"
        },
        "id": "MZYebNwelFZj",
        "outputId": "dfad5577-7263-424b-e3d4-b2b5735a54d0"
      },
      "execution_count": 17,
      "outputs": [
        {
          "output_type": "stream",
          "name": "stdout",
          "text": [
            "Test accuracy: 0.6407034993171692\n"
          ]
        }
      ]
    }
  ]
}