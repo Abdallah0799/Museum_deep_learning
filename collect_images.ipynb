{
 "cells": [
  {
   "cell_type": "code",
   "execution_count": 1,
   "id": "0f506883",
   "metadata": {},
   "outputs": [],
   "source": [
    "import numpy as np\n",
    "import pandas as pd"
   ]
  },
  {
   "cell_type": "code",
   "execution_count": 2,
   "id": "7dd11d75",
   "metadata": {},
   "outputs": [],
   "source": [
    "df = pd.read_csv('data_loic.csv',sep=\",\", low_memory=False)"
   ]
  },
  {
   "cell_type": "code",
   "execution_count": 3,
   "id": "1cec43cf",
   "metadata": {},
   "outputs": [
    {
     "data": {
      "text/plain": [
       "<AxesSubplot:>"
      ]
     },
     "execution_count": 3,
     "metadata": {},
     "output_type": "execute_result"
    },
    {
     "data": {
      "image/png": "[encoded data removed]",
      "text/plain": [
       "<Figure size 432x288 with 1 Axes>"
      ]
     },
     "metadata": {
      "needs_background": "light"
     },
     "output_type": "display_data"
    }
   ],
   "source": [
    "df['Historical Period'].hist()"
   ]
  },
  {
   "cell_type": "code",
   "execution_count": 4,
   "id": "abd9c670",
   "metadata": {},
   "outputs": [
    {
     "data": {
      "text/plain": [
       "(399598, 55)"
      ]
     },
     "execution_count": 4,
     "metadata": {},
     "output_type": "execute_result"
    }
   ],
   "source": [
    "df.shape"
   ]
  },
  {
   "cell_type": "code",
   "execution_count": 61,
   "id": "723fc013",
   "metadata": {},
   "outputs": [
    {
     "data": {
      "text/plain": [
       "Object Number                                                2011.604.2.1501\n",
       "Is Highlight                                                           False\n",
       "Is Timeline Work                                                       False\n",
       "Is Public Domain                                                        True\n",
       "Object ID                                                             737191\n",
       "Gallery Number                                                           NaN\n",
       "Department                                               Greek and Roman Art\n",
       "AccessionYear                                                           2011\n",
       "Object Name                                                 Skyphos fragment\n",
       "Title                      Terracotta fragment of a skyphos (deep drinkin...\n",
       "Culture                                                         Greek, Attic\n",
       "Period                                                             Classical\n",
       "Dynasty                                                                  NaN\n",
       "Reign                                                                    NaN\n",
       "Portfolio                                                                NaN\n",
       "Constituent ID                                                           NaN\n",
       "Artist Role                                                              NaN\n",
       "Artist Prefix                                                            NaN\n",
       "Artist Display Name                                                      NaN\n",
       "Artist Display Bio                                                       NaN\n",
       "Artist Suffix                                                            NaN\n",
       "Artist Alpha Sort                                                        NaN\n",
       "Artist Nationality                                                       NaN\n",
       "Artist Begin Date                                                        NaN\n",
       "Artist End Date                                                          NaN\n",
       "Artist Gender                                                            NaN\n",
       "Artist ULAN URL                                                          NaN\n",
       "Artist Wikidata URL                                                      NaN\n",
       "Object Date                                                     460–440 B.C.\n",
       "Object Begin Date                                                       -530\n",
       "Object End Date                                                         -300\n",
       "Medium                                                            Terracotta\n",
       "Dimensions                                                               NaN\n",
       "Credit Line                Gift of Dietrich von Bothmer, Distinguished Re...\n",
       "Geography Type                                                           NaN\n",
       "City                                                                     NaN\n",
       "State                                                                    NaN\n",
       "County                                                                   NaN\n",
       "Country                                                                  NaN\n",
       "Region                                                                   NaN\n",
       "Subregion                                                                NaN\n",
       "Locale                                                                   NaN\n",
       "Locus                                                                    NaN\n",
       "Excavation                                                               NaN\n",
       "River                                                                    NaN\n",
       "Classification                                                         Vases\n",
       "Rights and Reproduction                                                  NaN\n",
       "Link Resource              http://www.metmuseum.org/art/collection/search...\n",
       "Object Wikidata URL                                                      NaN\n",
       "Metadata Date                                                            NaN\n",
       "Repository                          Metropolitan Museum of Art, New York, NY\n",
       "Tags                                                                     NaN\n",
       "Tags AAT URL                                                             NaN\n",
       "Tags Wikidata URL                                                        NaN\n",
       "Historical Period                                                  Antiquity\n",
       "Name: 353376, dtype: object"
      ]
     },
     "execution_count": 61,
     "metadata": {},
     "output_type": "execute_result"
    }
   ],
   "source": [
    "df.iloc[353376]"
   ]
  },
  {
   "cell_type": "code",
   "execution_count": 6,
   "id": "8086b7f7",
   "metadata": {},
   "outputs": [
    {
     "data": {
      "text/plain": [
       "(212915, 55)"
      ]
     },
     "execution_count": 6,
     "metadata": {},
     "output_type": "execute_result"
    }
   ],
   "source": [
    "df[df['Is Public Domain']].shape"
   ]
  },
  {
   "cell_type": "code",
   "execution_count": 7,
   "id": "8f2caaa7",
   "metadata": {},
   "outputs": [
    {
     "data": {
      "text/plain": [
       "<AxesSubplot:>"
      ]
     },
     "execution_count": 7,
     "metadata": {},
     "output_type": "execute_result"
    },
    {
     "data": {
      "image/png": "[encoded data removed]",
      "text/plain": [
       "<Figure size 432x288 with 1 Axes>"
      ]
     },
     "metadata": {
      "needs_background": "light"
     },
     "output_type": "display_data"
    }
   ],
   "source": [
    "df[df['Is Public Domain']]['Historical Period'].hist()"
   ]
  },
  {
   "cell_type": "code",
   "execution_count": 5,
   "id": "d7313984",
   "metadata": {},
   "outputs": [],
   "source": [
    "df_images = df[df['Is Public Domain']]"
   ]
  },
  {
   "cell_type": "code",
   "execution_count": 6,
   "id": "768f0d49",
   "metadata": {},
   "outputs": [],
   "source": [
    "df_antiquity = df_images[(df_images['Object ID'] > 0) & (df_images['Historical Period'] == 'Antiquity')]\n",
    "df_middle_ages = df_images[(df_images['Object ID'] > 0) & (df_images['Historical Period'] == 'Middle Ages')]\n",
    "df_contemporary_era = df_images[(df_images['Object ID'] > 0) & (df_images['Historical Period'] == 'Contemporary Era')]\n",
    "df_modern_times = df_images[(df_images['Object ID'] > 0) & (df_images['Historical Period'] == 'Modern Times')]"
   ]
  },
  {
   "cell_type": "code",
   "execution_count": 7,
   "id": "6bf4161a",
   "metadata": {},
   "outputs": [],
   "source": [
    "df_antiquity = df_antiquity[[\"Object ID\", \"Historical Period\"]]\n",
    "df_middle_ages = df_middle_ages[[\"Object ID\", \"Historical Period\"]]\n",
    "df_contemporary_era = df_contemporary_era[[\"Object ID\", \"Historical Period\"]]\n",
    "df_modern_times = df_modern_times[[\"Object ID\", \"Historical Period\"]]"
   ]
  },
  {
   "cell_type": "code",
   "execution_count": 8,
   "id": "3899b336",
   "metadata": {},
   "outputs": [],
   "source": [
    "num_samples = 1000\n",
    "antiquity = df_antiquity.sample(n=num_samples, random_state=42)\n",
    "middle_ages = df_middle_ages.sample(n=num_samples, random_state=42)\n",
    "contemporary_era = df_contemporary_era.sample(n=num_samples, random_state=42)\n",
    "modern_times = df_modern_times.sample(n=num_samples, random_state=42)"
   ]
  },
  {
   "cell_type": "code",
   "execution_count": 9,
   "id": "9790baed",
   "metadata": {},
   "outputs": [],
   "source": [
    "import os\n",
    "import urllib.request\n",
    "import requests"
   ]
  },
  {
   "cell_type": "code",
   "execution_count": 10,
   "id": "35f39831",
   "metadata": {},
   "outputs": [],
   "source": [
    "def save_images(folder,df):\n",
    "    n = df.shape[0]\n",
    "    if not os.path.exists(folder):\n",
    "         os.makedirs(folder)\n",
    "    os.chdir(folder)\n",
    "    for i in range(n):\n",
    "        Id = df.iloc[i]['Object ID']\n",
    "        url = 'https://collectionapi.metmuseum.org/public/collection/v1/objects/'+str(Id)\n",
    "        #r = requests.get(url)\n",
    "        try:\n",
    "            #urlopen(url)\n",
    "            r = requests.get(url)\n",
    "            url_image = r.json()['primaryImageSmall']\n",
    "            name = folder+\"_\"+str(Id)+\".jpg\"\n",
    "            urllib.request.urlretrieve(url_image, name)  \n",
    "            r.close()\n",
    "        except:\n",
    "            print(i)\n",
    "            pass\n",
    "        \"\"\"\n",
    "        url_image = r.json()['primaryImageSmall']\n",
    "        name = folder+\"_\"+str(Id)+\".jpg\"\n",
    "        urllib.request.urlretrieve(url_image, name)  \n",
    "        r.close()\n",
    "        \"\"\"\n",
    "    os.chdir('C:\\\\Users\\\\MARY Loïc\\\\Desktop\\\\PROJET MUSEE')\n"
   ]
  },
  {
   "cell_type": "code",
   "execution_count": 62,
   "id": "a81b4043",
   "metadata": {},
   "outputs": [
    {
     "data": {
      "text/plain": [
       "Object ID               325698\n",
       "Historical Period    Antiquity\n",
       "Name: 152091, dtype: object"
      ]
     },
     "execution_count": 62,
     "metadata": {},
     "output_type": "execute_result"
    }
   ],
   "source": [
    "antiquity.iloc[315]"
   ]
  },
  {
   "cell_type": "code",
   "execution_count": 11,
   "id": "c03e204d",
   "metadata": {},
   "outputs": [
    {
     "name": "stdout",
     "output_type": "stream",
     "text": [
      "314\n",
      "481\n",
      "630\n",
      "672\n",
      "710\n",
      "818\n",
      "ok\n",
      "288\n",
      "395\n",
      "483\n",
      "970\n",
      "ok\n",
      "219\n",
      "620\n",
      "631\n",
      "665\n",
      "752\n",
      "909\n",
      "ok\n",
      "74\n",
      "266\n",
      "678\n",
      "776\n",
      "828\n",
      "999\n",
      "Finish !\n"
     ]
    }
   ],
   "source": [
    "save_images(\"Antiquity\",antiquity)\n",
    "print(\"ok\")\n",
    "save_images(\"Middle_Ages\",middle_ages)\n",
    "print(\"ok\")\n",
    "save_images(\"Contemporary_Era\",contemporary_era)\n",
    "print(\"ok\")\n",
    "save_images(\"Modern_Times\",modern_times)\n",
    "print(\"Finish !\")"
   ]
  }
 ],
 "metadata": {
  "kernelspec": {
   "display_name": "Python 3 (ipykernel)",
   "language": "python",
   "name": "python3"
  },
  "language_info": {
   "codemirror_mode": {
    "name": "ipython",
    "version": 3
   },
   "file_extension": ".py",
   "mimetype": "text/x-python",
   "name": "python",
   "nbconvert_exporter": "python",
   "pygments_lexer": "ipython3",
   "version": "3.9.7"
  }
 },
 "nbformat": 4,
 "nbformat_minor": 5
}
