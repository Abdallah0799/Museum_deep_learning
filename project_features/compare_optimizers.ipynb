{
  "cells": [
    {
      "cell_type": "code",
      "execution_count": 2,
      "metadata": {
        "colab": {
          "base_uri": "https://localhost:8080/",
          "height": 206
        },
        "id": "sA0STTVOzRL8",
        "outputId": "f10ff821-107a-4c9f-d8da-ef2acc8d58f5"
      },
      "outputs": [
        {
          "output_type": "execute_result",
          "data": {
            "text/plain": [
              "  Historical Period  height  diam  width  depth  num_period  medium_num  \\\n",
              "0         Antiquity     7.1  -1.0   10.8   -1.0         4.0    3.046062   \n",
              "1         Antiquity    -1.0   3.7   -1.0   -1.0         4.0    3.046062   \n",
              "2         Antiquity     2.9  -1.0    9.2   -1.0         4.0    3.875496   \n",
              "3         Antiquity     2.7  -1.0    2.2   -1.0         4.0    3.046062   \n",
              "4         Antiquity    -1.0  -1.0   -1.0   -1.0         4.0    3.119048   \n",
              "\n",
              "   classif_num  culture_num  \n",
              "0     2.533376     2.136866  \n",
              "1     3.998735     4.000000  \n",
              "2     3.993417     3.905965  \n",
              "3     2.533376     3.301802  \n",
              "4     2.533376     3.841270  "
            ],
            "text/html": [
              "\n",
              "  <div id=\"df-bdffdda9-e889-45af-84d2-966fc42ed4b1\">\n",
              "    <div class=\"colab-df-container\">\n",
              "      <div>\n",
              "<style scoped>\n",
              "    .dataframe tbody tr th:only-of-type {\n",
              "        vertical-align: middle;\n",
              "    }\n",
              "\n",
              "    .dataframe tbody tr th {\n",
              "        vertical-align: top;\n",
              "    }\n",
              "\n",
              "    .dataframe thead th {\n",
              "        text-align: right;\n",
              "    }\n",
              "</style>\n",
              "<table border=\"1\" class=\"dataframe\">\n",
              "  <thead>\n",
              "    <tr style=\"text-align: right;\">\n",
              "      <th></th>\n",
              "      <th>Historical Period</th>\n",
              "      <th>height</th>\n",
              "      <th>diam</th>\n",
              "      <th>width</th>\n",
              "      <th>depth</th>\n",
              "      <th>num_period</th>\n",
              "      <th>medium_num</th>\n",
              "      <th>classif_num</th>\n",
              "      <th>culture_num</th>\n",
              "    </tr>\n",
              "  </thead>\n",
              "  <tbody>\n",
              "    <tr>\n",
              "      <th>0</th>\n",
              "      <td>Antiquity</td>\n",
              "      <td>7.1</td>\n",
              "      <td>-1.0</td>\n",
              "      <td>10.8</td>\n",
              "      <td>-1.0</td>\n",
              "      <td>4.0</td>\n",
              "      <td>3.046062</td>\n",
              "      <td>2.533376</td>\n",
              "      <td>2.136866</td>\n",
              "    </tr>\n",
              "    <tr>\n",
              "      <th>1</th>\n",
              "      <td>Antiquity</td>\n",
              "      <td>-1.0</td>\n",
              "      <td>3.7</td>\n",
              "      <td>-1.0</td>\n",
              "      <td>-1.0</td>\n",
              "      <td>4.0</td>\n",
              "      <td>3.046062</td>\n",
              "      <td>3.998735</td>\n",
              "      <td>4.000000</td>\n",
              "    </tr>\n",
              "    <tr>\n",
              "      <th>2</th>\n",
              "      <td>Antiquity</td>\n",
              "      <td>2.9</td>\n",
              "      <td>-1.0</td>\n",
              "      <td>9.2</td>\n",
              "      <td>-1.0</td>\n",
              "      <td>4.0</td>\n",
              "      <td>3.875496</td>\n",
              "      <td>3.993417</td>\n",
              "      <td>3.905965</td>\n",
              "    </tr>\n",
              "    <tr>\n",
              "      <th>3</th>\n",
              "      <td>Antiquity</td>\n",
              "      <td>2.7</td>\n",
              "      <td>-1.0</td>\n",
              "      <td>2.2</td>\n",
              "      <td>-1.0</td>\n",
              "      <td>4.0</td>\n",
              "      <td>3.046062</td>\n",
              "      <td>2.533376</td>\n",
              "      <td>3.301802</td>\n",
              "    </tr>\n",
              "    <tr>\n",
              "      <th>4</th>\n",
              "      <td>Antiquity</td>\n",
              "      <td>-1.0</td>\n",
              "      <td>-1.0</td>\n",
              "      <td>-1.0</td>\n",
              "      <td>-1.0</td>\n",
              "      <td>4.0</td>\n",
              "      <td>3.119048</td>\n",
              "      <td>2.533376</td>\n",
              "      <td>3.841270</td>\n",
              "    </tr>\n",
              "  </tbody>\n",
              "</table>\n",
              "</div>\n",
              "      <button class=\"colab-df-convert\" onclick=\"convertToInteractive('df-bdffdda9-e889-45af-84d2-966fc42ed4b1')\"\n",
              "              title=\"Convert this dataframe to an interactive table.\"\n",
              "              style=\"display:none;\">\n",
              "        \n",
              "  <svg xmlns=\"http://www.w3.org/2000/svg\" height=\"24px\"viewBox=\"0 0 24 24\"\n",
              "       width=\"24px\">\n",
              "    <path d=\"M0 0h24v24H0V0z\" fill=\"none\"/>\n",
              "    <path d=\"M18.56 5.44l.94 2.06.94-2.06 2.06-.94-2.06-.94-.94-2.06-.94 2.06-2.06.94zm-11 1L8.5 8.5l.94-2.06 2.06-.94-2.06-.94L8.5 2.5l-.94 2.06-2.06.94zm10 10l.94 2.06.94-2.06 2.06-.94-2.06-.94-.94-2.06-.94 2.06-2.06.94z\"/><path d=\"M17.41 7.96l-1.37-1.37c-.4-.4-.92-.59-1.43-.59-.52 0-1.04.2-1.43.59L10.3 9.45l-7.72 7.72c-.78.78-.78 2.05 0 2.83L4 21.41c.39.39.9.59 1.41.59.51 0 1.02-.2 1.41-.59l7.78-7.78 2.81-2.81c.8-.78.8-2.07 0-2.86zM5.41 20L4 18.59l7.72-7.72 1.47 1.35L5.41 20z\"/>\n",
              "  </svg>\n",
              "      </button>\n",
              "      \n",
              "  <style>\n",
              "    .colab-df-container {\n",
              "      display:flex;\n",
              "      flex-wrap:wrap;\n",
              "      gap: 12px;\n",
              "    }\n",
              "\n",
              "    .colab-df-convert {\n",
              "      background-color: #E8F0FE;\n",
              "      border: none;\n",
              "      border-radius: 50%;\n",
              "      cursor: pointer;\n",
              "      display: none;\n",
              "      fill: #1967D2;\n",
              "      height: 32px;\n",
              "      padding: 0 0 0 0;\n",
              "      width: 32px;\n",
              "    }\n",
              "\n",
              "    .colab-df-convert:hover {\n",
              "      background-color: #E2EBFA;\n",
              "      box-shadow: 0px 1px 2px rgba(60, 64, 67, 0.3), 0px 1px 3px 1px rgba(60, 64, 67, 0.15);\n",
              "      fill: #174EA6;\n",
              "    }\n",
              "\n",
              "    [theme=dark] .colab-df-convert {\n",
              "      background-color: #3B4455;\n",
              "      fill: #D2E3FC;\n",
              "    }\n",
              "\n",
              "    [theme=dark] .colab-df-convert:hover {\n",
              "      background-color: #434B5C;\n",
              "      box-shadow: 0px 1px 3px 1px rgba(0, 0, 0, 0.15);\n",
              "      filter: drop-shadow(0px 1px 2px rgba(0, 0, 0, 0.3));\n",
              "      fill: #FFFFFF;\n",
              "    }\n",
              "  </style>\n",
              "\n",
              "      <script>\n",
              "        const buttonEl =\n",
              "          document.querySelector('#df-bdffdda9-e889-45af-84d2-966fc42ed4b1 button.colab-df-convert');\n",
              "        buttonEl.style.display =\n",
              "          google.colab.kernel.accessAllowed ? 'block' : 'none';\n",
              "\n",
              "        async function convertToInteractive(key) {\n",
              "          const element = document.querySelector('#df-bdffdda9-e889-45af-84d2-966fc42ed4b1');\n",
              "          const dataTable =\n",
              "            await google.colab.kernel.invokeFunction('convertToInteractive',\n",
              "                                                     [key], {});\n",
              "          if (!dataTable) return;\n",
              "\n",
              "          const docLinkHtml = 'Like what you see? Visit the ' +\n",
              "            '<a target=\"_blank\" href=https://colab.research.google.com/notebooks/data_table.ipynb>data table notebook</a>'\n",
              "            + ' to learn more about interactive tables.';\n",
              "          element.innerHTML = '';\n",
              "          dataTable['output_type'] = 'display_data';\n",
              "          await google.colab.output.renderOutput(dataTable, element);\n",
              "          const docLink = document.createElement('div');\n",
              "          docLink.innerHTML = docLinkHtml;\n",
              "          element.appendChild(docLink);\n",
              "        }\n",
              "      </script>\n",
              "    </div>\n",
              "  </div>\n",
              "  "
            ]
          },
          "metadata": {},
          "execution_count": 2
        }
      ],
      "source": [
        "import pandas as pd\n",
        "\n",
        "#df = pd.read_csv('../data/museum_data_mean_target_encoding.csv')\n",
        "df_train = pd.read_csv(\"/content/drive/MyDrive/data/museum_data_mean_target_encoding_train.csv\")\n",
        "df_train.drop(['Unnamed: 0', 'Object Begin Date'], axis=1, inplace=True)\n",
        "\n",
        "df_test = pd.read_csv(\"/content/drive/MyDrive/data/museum_data_mean_target_encoding_test.csv\")\n",
        "df_test.drop(['Unnamed: 0', 'Object Begin Date'], axis=1, inplace=True)\n",
        "df_train.head()"
      ]
    },
    {
      "cell_type": "code",
      "source": [
        "from google.colab import drive\n",
        "drive.mount('/content/drive')"
      ],
      "metadata": {
        "colab": {
          "base_uri": "https://localhost:8080/"
        },
        "id": "ziDgjlIvzZMZ",
        "outputId": "eb18fa88-71f9-4242-9ec8-c041abf096aa"
      },
      "execution_count": 3,
      "outputs": [
        {
          "output_type": "stream",
          "name": "stdout",
          "text": [
            "Drive already mounted at /content/drive; to attempt to forcibly remount, call drive.mount(\"/content/drive\", force_remount=True).\n"
          ]
        }
      ]
    },
    {
      "cell_type": "code",
      "execution_count": 4,
      "metadata": {
        "colab": {
          "base_uri": "https://localhost:8080/"
        },
        "id": "tDXPfCRMzRMF",
        "outputId": "e9d6f5e7-5724-41e3-81ef-58bb1efff5d8"
      },
      "outputs": [
        {
          "output_type": "execute_result",
          "data": {
            "text/plain": [
              "Historical Period    Contemporary Era\n",
              "height                          241.9\n",
              "diam                             -1.0\n",
              "width                           117.5\n",
              "depth                            -1.0\n",
              "num_period                        1.0\n",
              "medium_num                   1.728041\n",
              "classif_num                  2.153191\n",
              "culture_num                  2.136866\n",
              "Name: 20000, dtype: object"
            ]
          },
          "metadata": {},
          "execution_count": 4
        }
      ],
      "source": [
        "df_train.iloc[20000,:]"
      ]
    },
    {
      "cell_type": "markdown",
      "metadata": {
        "id": "xxkcVDm-zRMG"
      },
      "source": [
        "### Preprocessing\n",
        "\n",
        "#### Get X and y"
      ]
    },
    {
      "cell_type": "code",
      "execution_count": 5,
      "metadata": {
        "colab": {
          "base_uri": "https://localhost:8080/"
        },
        "id": "3ksPg9rvzRMJ",
        "outputId": "7376b1cf-298d-402e-8a7f-5d2529664168"
      },
      "outputs": [
        {
          "output_type": "execute_result",
          "data": {
            "text/plain": [
              "array([[1., 0., 0., 0.],\n",
              "       [1., 0., 0., 0.],\n",
              "       [1., 0., 0., 0.],\n",
              "       ...,\n",
              "       [0., 0., 0., 1.],\n",
              "       [0., 0., 0., 1.],\n",
              "       [0., 0., 0., 1.]])"
            ]
          },
          "metadata": {},
          "execution_count": 5
        }
      ],
      "source": [
        "from sklearn.preprocessing import OneHotEncoder\n",
        "import numpy as np\n",
        "\n",
        "periods_train = np.array(df_train[\"Historical Period\"]).reshape(-1, 1)\n",
        "\n",
        "ohe = OneHotEncoder(sparse=False)\n",
        "ohe.fit(periods_train)\n",
        "y_ohe_train = ohe.transform(periods_train)\n",
        "\n",
        "periods_test = np.array(df_test[\"Historical Period\"]).reshape(-1, 1)\n",
        "y_ohe_test = ohe.transform(periods_test)\n",
        "y_ohe_train"
      ]
    },
    {
      "cell_type": "code",
      "execution_count": 7,
      "metadata": {
        "colab": {
          "base_uri": "https://localhost:8080/"
        },
        "id": "_-GwykEzzRMM",
        "outputId": "daf8058e-cb18-4f56-b463-bd1bcf515a54"
      },
      "outputs": [
        {
          "output_type": "execute_result",
          "data": {
            "text/plain": [
              "array([4., 4., 4., ..., 2., 2., 2.])"
            ]
          },
          "metadata": {},
          "execution_count": 7
        }
      ],
      "source": [
        "import numpy as np\n",
        "y_train = np.array(df_train[\"num_period\"])\n",
        "y_train"
      ]
    },
    {
      "cell_type": "code",
      "execution_count": 8,
      "metadata": {
        "colab": {
          "base_uri": "https://localhost:8080/"
        },
        "id": "Zqa1JWEuzRMN",
        "outputId": "97f512e3-385a-49a9-cf6a-df4b5fee98f3"
      },
      "outputs": [
        {
          "output_type": "execute_result",
          "data": {
            "text/plain": [
              "(40180, 7)"
            ]
          },
          "metadata": {},
          "execution_count": 8
        }
      ],
      "source": [
        "X_train = np.array(df_train.drop(columns=[\"Historical Period\", \"num_period\"]))\n",
        "X_train.shape"
      ]
    },
    {
      "cell_type": "code",
      "execution_count": 9,
      "metadata": {
        "id": "ilSwUQ5czRMO"
      },
      "outputs": [],
      "source": [
        "y_test = np.array(df_test[\"num_period\"])\n",
        "X_test = np.array(df_test.drop(columns=[\"Historical Period\", \"num_period\"]))"
      ]
    },
    {
      "cell_type": "code",
      "execution_count": 78,
      "metadata": {
        "id": "2nbjJxqJzRMG"
      },
      "outputs": [],
      "source": [
        "dico_map_ohe = {}\n",
        "\n",
        "for i,val in enumerate(y_test):\n",
        "  if val not in dico_map_ohe.keys():\n",
        "    dico_map_ohe[val] = np.argmax(y_ohe_test[i,:])\n",
        "  if len(dico_map_ohe)==4:\n",
        "    break"
      ]
    },
    {
      "cell_type": "code",
      "source": [
        "dico_map_ohe"
      ],
      "metadata": {
        "colab": {
          "base_uri": "https://localhost:8080/"
        },
        "id": "Jdn0jkiRA8sh",
        "outputId": "359bd895-1e8b-48f4-efb1-6d300bbd2951"
      },
      "execution_count": 79,
      "outputs": [
        {
          "output_type": "execute_result",
          "data": {
            "text/plain": [
              "{1.0: 1, 2.0: 3, 3.0: 2, 4.0: 0}"
            ]
          },
          "metadata": {},
          "execution_count": 79
        }
      ]
    },
    {
      "cell_type": "code",
      "source": [
        "y_train_ = [dico_map_ohe[target] for target in y_train]\n",
        "y_test_ = [dico_map_ohe[target] for target in y_test]"
      ],
      "metadata": {
        "id": "QoG5NMvA-jSb"
      },
      "execution_count": 125,
      "outputs": []
    },
    {
      "cell_type": "markdown",
      "metadata": {
        "id": "Z4P9O07gzRMO"
      },
      "source": [
        "#### Rescaling the features"
      ]
    },
    {
      "cell_type": "markdown",
      "metadata": {
        "id": "6Klp7WoMzRMP"
      },
      "source": [
        "medium_num, culture_num and classif_num are bounded between 1 and 4 by construction (fine).\n",
        "\n",
        "\n",
        "Let's transform the features related to dimensions: height, width, depth and diam. It doesn't really make sense (from a physical point of view) to normalize them to zero mean and unit variance. Instead, let's rescale them so that they are between 0 and 1:"
      ]
    },
    {
      "cell_type": "code",
      "execution_count": 83,
      "metadata": {
        "colab": {
          "base_uri": "https://localhost:8080/"
        },
        "id": "S52pfLx8zRMP",
        "outputId": "e395d1fd-7731-4de6-9291-bbd223e452da"
      },
      "outputs": [
        {
          "output_type": "execute_result",
          "data": {
            "text/plain": [
              "array([0.00339836, 0.        , 0.00640886, 0.        , 3.04606152,\n",
              "       2.53337623, 2.13686557])"
            ]
          },
          "metadata": {},
          "execution_count": 83
        }
      ],
      "source": [
        "X_train[0,:]"
      ]
    },
    {
      "cell_type": "code",
      "execution_count": 11,
      "metadata": {
        "id": "vdysC5oEzRMQ"
      },
      "outputs": [],
      "source": [
        "from sklearn.preprocessing import MinMaxScaler\n",
        "\n",
        "scaler = MinMaxScaler()\n",
        "scaler.fit(X_train[:,:4])\n",
        "dims_train_minmax = scaler.transform(X_train[:,:4])"
      ]
    },
    {
      "cell_type": "code",
      "execution_count": 12,
      "metadata": {
        "colab": {
          "base_uri": "https://localhost:8080/"
        },
        "id": "qT6qrgUpzRMQ",
        "outputId": "7ec2c6a5-d09b-42ee-8a14-bacfa2bc258d"
      },
      "outputs": [
        {
          "output_type": "stream",
          "name": "stdout",
          "text": [
            "[0. 0. 0. 0.] [1. 1. 1. 1.]\n"
          ]
        }
      ],
      "source": [
        "# check\n",
        "print(np.min(dims_train_minmax, axis=0), np.max(dims_train_minmax, axis=0))"
      ]
    },
    {
      "cell_type": "code",
      "execution_count": 13,
      "metadata": {
        "colab": {
          "base_uri": "https://localhost:8080/"
        },
        "id": "MkS9xBMKzRMR",
        "outputId": "b9ed612b-e1b1-4f0d-8512-13a29a853562"
      },
      "outputs": [
        {
          "output_type": "stream",
          "name": "stdout",
          "text": [
            "[0.00339836 0.         0.00640886 0.         3.04606152 2.53337623\n",
            " 2.13686557]\n"
          ]
        }
      ],
      "source": [
        "X_train[:,:4] = dims_train_minmax\n",
        "print(X_train[0,:])"
      ]
    },
    {
      "cell_type": "code",
      "execution_count": 14,
      "metadata": {
        "colab": {
          "base_uri": "https://localhost:8080/"
        },
        "id": "-nPSIi30zRMR",
        "outputId": "d03296a1-bec3-4694-a254-a2059699e909"
      },
      "outputs": [
        {
          "output_type": "execute_result",
          "data": {
            "text/plain": [
              "array([0.        , 0.00655793, 0.        , 0.        , 2.93310463,\n",
              "       3.05988515, 2.96666667])"
            ]
          },
          "metadata": {},
          "execution_count": 14
        }
      ],
      "source": [
        "# apply the same transformation on testing set\n",
        "dims_test_minmax = scaler.transform(X_test[:,:4])\n",
        "X_test[:,:4] = dims_test_minmax\n",
        "X_test[0,:]"
      ]
    },
    {
      "cell_type": "code",
      "source": [
        "#@title Imports libraries\n",
        "import numpy as np\n",
        "import matplotlib.pyplot as plt\n",
        "from keras import layers\n",
        "from tensorflow.keras.models import Sequential, Model\n",
        "from tensorflow.keras.layers import Dense, Dropout, Activation, Flatten, Input\n",
        "from glob import glob\n",
        "import os\n",
        "import tensorflow as tf\n",
        "from sklearn.metrics import confusion_matrix\n",
        "import seaborn as sns"
      ],
      "metadata": {
        "cellView": "form",
        "id": "I2wE7O0F1-vx"
      },
      "execution_count": 17,
      "outputs": []
    },
    {
      "cell_type": "markdown",
      "source": [
        "## $\\textbf{Impact of the optimizer parametrization on performances of MLP}$"
      ],
      "metadata": {
        "id": "VYAntONKHNya"
      }
    },
    {
      "cell_type": "code",
      "source": [
        "from tensorflow.keras import optimizers\n",
        "\n",
        "dir(optimizers)"
      ],
      "metadata": {
        "colab": {
          "base_uri": "https://localhost:8080/"
        },
        "id": "LnZ_DohKIews",
        "outputId": "9e26a995-8a72-459f-9f1e-77fd0c2f2a15"
      },
      "execution_count": 91,
      "outputs": [
        {
          "output_type": "execute_result",
          "data": {
            "text/plain": [
              "['Adadelta',\n",
              " 'Adagrad',\n",
              " 'Adam',\n",
              " 'Adamax',\n",
              " 'Ftrl',\n",
              " 'Nadam',\n",
              " 'Optimizer',\n",
              " 'RMSprop',\n",
              " 'SGD',\n",
              " '__builtins__',\n",
              " '__cached__',\n",
              " '__doc__',\n",
              " '__file__',\n",
              " '__loader__',\n",
              " '__name__',\n",
              " '__package__',\n",
              " '__path__',\n",
              " '__spec__',\n",
              " '_sys',\n",
              " 'deserialize',\n",
              " 'get',\n",
              " 'schedules',\n",
              " 'serialize']"
            ]
          },
          "metadata": {},
          "execution_count": 91
        }
      ]
    },
    {
      "cell_type": "code",
      "source": [
        "optimizers_available = [r for r in dir(optimizers) if r[0].isupper()]\n",
        "optimizers_available"
      ],
      "metadata": {
        "colab": {
          "base_uri": "https://localhost:8080/"
        },
        "id": "3hPyFR5eIs_l",
        "outputId": "5b69a484-3080-4e7d-d0e7-cb9a305b0d85"
      },
      "execution_count": 95,
      "outputs": [
        {
          "output_type": "execute_result",
          "data": {
            "text/plain": [
              "['Adadelta',\n",
              " 'Adagrad',\n",
              " 'Adam',\n",
              " 'Adamax',\n",
              " 'Ftrl',\n",
              " 'Nadam',\n",
              " 'Optimizer',\n",
              " 'RMSprop',\n",
              " 'SGD']"
            ]
          },
          "metadata": {},
          "execution_count": 95
        }
      ]
    },
    {
      "cell_type": "code",
      "source": [
        "def mlp(optimizer=\"adam\", lr=1e-3):\n",
        "  assert(optimizer in optimizers_available)\n",
        "  num_features = X_train.shape[1]\n",
        "  num_classes = 4\n",
        "\n",
        "  mlp = Sequential()\n",
        "  mlp.add(Dense(20, activation='relu'))\n",
        "  mlp.add(Dense(num_classes, activation='softmax'))\n",
        "  mlp.compile(optimizer=eval(\"optimizers.{}(learning_rate={})\".format(optimizer, lr)),\n",
        "              loss='categorical_crossentropy',\n",
        "              metrics=['accuracy'])\n",
        "  return mlp"
      ],
      "metadata": {
        "id": "e045tWBaHNip"
      },
      "execution_count": 107,
      "outputs": []
    },
    {
      "cell_type": "code",
      "source": [
        "learning_rates = [10**i for i in range(-8,2,1)]\n",
        "learning_rates"
      ],
      "metadata": {
        "colab": {
          "base_uri": "https://localhost:8080/"
        },
        "id": "Rd-sxo8YRjQd",
        "outputId": "a23717a1-a16a-46ef-e41a-cbcf13afe0d5"
      },
      "execution_count": 128,
      "outputs": [
        {
          "output_type": "execute_result",
          "data": {
            "text/plain": [
              "[1e-08, 1e-07, 1e-06, 1e-05, 0.0001, 0.001, 0.01, 0.1, 1, 10]"
            ]
          },
          "metadata": {},
          "execution_count": 128
        }
      ]
    },
    {
      "cell_type": "markdown",
      "source": [
        "### $\\textbf{Learning rate impact on Adam}$"
      ],
      "metadata": {
        "id": "ewWqOAQfUMJ7"
      }
    },
    {
      "cell_type": "code",
      "source": [
        "from sklearn.metrics import accuracy_score\n",
        "train_accs_adam = []\n",
        "test_accs_adam = []\n",
        "\n",
        "for lr in learning_rates:\n",
        "  mlp_tmp = mlp(optimizer=\"Adam\", lr=lr)\n",
        "  mlp_tmp.fit(X_train, y_ohe_train, epochs=10)\n",
        "  train_acc = accuracy_score(y_train_, np.argmax(mlp_tmp.predict(X_train), axis=1))\n",
        "  test_acc = accuracy_score(y_test_, np.argmax(mlp_tmp.predict(X_test), axis=1))\n",
        "  train_accs_adam.append(train_acc)\n",
        "  test_accs_adam.append(test_acc)"
      ],
      "metadata": {
        "id": "Txe6QCPlJmHb"
      },
      "execution_count": null,
      "outputs": []
    },
    {
      "cell_type": "code",
      "source": [
        "import matplotlib.pyplot as plt\n",
        "\n",
        "plt.figure(figsize=(10,6))\n",
        "plt.plot(train_accs_adam, label=\"train\", color=\"blue\", alpha=0.7, linestyle=\":\")\n",
        "plt.plot(test_accs_adam, label=\"test\", color=\"red\", alpha=0.7)\n",
        "plt.legend()\n",
        "plt.xlabel(\"learning rate (1e-08, 1e-07, 1e-06, 1e-05, 1e-04, 1e-03, 0.01, 0.1, 1, 10)\")\n",
        "plt.ylabel(\"accuracy\")\n",
        "plt.title(\"MLP performances with different learning rates for Adam optimizer\")\n",
        "plt.show()"
      ],
      "metadata": {
        "colab": {
          "base_uri": "https://localhost:8080/",
          "height": 404
        },
        "id": "_g6DnWqjOsqQ",
        "outputId": "5f0b8c9c-d212-43cf-c830-5305c365cb79"
      },
      "execution_count": 134,
      "outputs": [
        {
          "output_type": "display_data",
          "data": {
            "text/plain": [
              "<Figure size 720x432 with 1 Axes>"
            ],
            "image/png": "[encoded data removed]"
          },
          "metadata": {
            "needs_background": "light"
          }
        }
      ]
    },
    {
      "cell_type": "markdown",
      "source": [
        "### $\\textbf{Learning rate impact on SGD}$"
      ],
      "metadata": {
        "id": "SR1zyXIMUIBG"
      }
    },
    {
      "cell_type": "code",
      "source": [
        "train_accs_sgd = []\n",
        "test_accs_sgd = []\n",
        "\n",
        "for lr in learning_rates:\n",
        "  mlp_tmp = mlp(optimizer=\"SGD\", lr=lr)\n",
        "  mlp_tmp.fit(X_train, y_ohe_train, epochs=10)\n",
        "  train_acc = accuracy_score(y_train_, np.argmax(mlp_tmp.predict(X_train), axis=1))\n",
        "  test_acc = accuracy_score(y_test_, np.argmax(mlp_tmp.predict(X_test), axis=1))\n",
        "  train_accs_sgd.append(train_acc)\n",
        "  test_accs_sgd.append(test_acc)"
      ],
      "metadata": {
        "id": "7eX59BG3RpPd"
      },
      "execution_count": null,
      "outputs": []
    },
    {
      "cell_type": "code",
      "source": [
        "plt.figure(figsize=(10,6))\n",
        "plt.plot(train_accs_sgd, label=\"train\", color=\"blue\", alpha=0.7, linestyle=\":\")\n",
        "plt.plot(test_accs_sgd, label=\"test\", color=\"red\", alpha=0.7)\n",
        "plt.legend()\n",
        "plt.xlabel(\"learning rate (1e-08, 1e-07, 1e-06, 1e-05, 1e-04, 1e-03, 0.01, 0.1, 1, 10)\")\n",
        "plt.ylabel(\"accuracy\")\n",
        "plt.title(\"MLP performances with different learning rates for SGD optimizer\")\n",
        "plt.show()"
      ],
      "metadata": {
        "colab": {
          "base_uri": "https://localhost:8080/",
          "height": 404
        },
        "id": "phslObPMTL5K",
        "outputId": "985539ae-34a2-4360-9ac1-ebcaaef424fa"
      },
      "execution_count": 136,
      "outputs": [
        {
          "output_type": "display_data",
          "data": {
            "text/plain": [
              "<Figure size 720x432 with 1 Axes>"
            ],
            "image/png": "[encoded data removed]"
          },
          "metadata": {
            "needs_background": "light"
          }
        }
      ]
    },
    {
      "cell_type": "markdown",
      "source": [
        "### $\\textbf{Learning rate impact on Adagrad}$"
      ],
      "metadata": {
        "id": "VelHBMgAYC3y"
      }
    },
    {
      "cell_type": "code",
      "source": [
        "train_accs_adagrad = []\n",
        "test_accs_adagrad = []\n",
        "\n",
        "for lr in learning_rates:\n",
        "  mlp_tmp = mlp(optimizer=\"Adagrad\", lr=lr)\n",
        "  mlp_tmp.fit(X_train, y_ohe_train, epochs=10)\n",
        "  train_acc = accuracy_score(y_train_, np.argmax(mlp_tmp.predict(X_train), axis=1))\n",
        "  test_acc = accuracy_score(y_test_, np.argmax(mlp_tmp.predict(X_test), axis=1))\n",
        "  train_accs_adagrad.append(train_acc)\n",
        "  test_accs_adagrad.append(test_acc)"
      ],
      "metadata": {
        "id": "MHhlkdv_YMSE"
      },
      "execution_count": null,
      "outputs": []
    },
    {
      "cell_type": "code",
      "source": [
        "plt.figure(figsize=(10,6))\n",
        "plt.plot(train_accs_adagrad, label=\"train\", color=\"blue\", alpha=0.7, linestyle=\":\")\n",
        "plt.plot(test_accs_adagrad, label=\"test\", color=\"red\", alpha=0.7)\n",
        "plt.legend()\n",
        "plt.xlabel(\"learning rate (1e-08, 1e-07, 1e-06, 1e-05, 1e-04, 1e-03, 0.01, 0.1, 1, 10)\")\n",
        "plt.ylabel(\"accuracy\")\n",
        "plt.title(\"MLP performances with different learning rates for Adagrad optimizer\")\n",
        "plt.show()"
      ],
      "metadata": {
        "colab": {
          "base_uri": "https://localhost:8080/",
          "height": 404
        },
        "id": "og3QOAtzZ_ar",
        "outputId": "c006ac4a-5ce4-4f9c-f251-b3ba6ad54a84"
      },
      "execution_count": 138,
      "outputs": [
        {
          "output_type": "display_data",
          "data": {
            "text/plain": [
              "<Figure size 720x432 with 1 Axes>"
            ],
            "image/png": "[encoded data removed]"
          },
          "metadata": {
            "needs_background": "light"
          }
        }
      ]
    },
    {
      "cell_type": "markdown",
      "source": [
        "### $\\textbf{Learning rate impact on Adamax}$"
      ],
      "metadata": {
        "id": "l_gjVUWKa-6T"
      }
    },
    {
      "cell_type": "code",
      "source": [
        "train_accs_adamax = []\n",
        "test_accs_adamax = []\n",
        "\n",
        "for lr in learning_rates:\n",
        "  mlp_tmp = mlp(optimizer=\"Adamax\", lr=lr)\n",
        "  mlp_tmp.fit(X_train, y_ohe_train, epochs=10)\n",
        "  train_acc = accuracy_score(y_train_, np.argmax(mlp_tmp.predict(X_train), axis=1))\n",
        "  test_acc = accuracy_score(y_test_, np.argmax(mlp_tmp.predict(X_test), axis=1))\n",
        "  train_accs_adamax.append(train_acc)\n",
        "  test_accs_adamax.append(test_acc)"
      ],
      "metadata": {
        "colab": {
          "base_uri": "https://localhost:8080/"
        },
        "id": "i_kXiiPra4j3",
        "outputId": "8dbea00c-8bb2-4feb-8339-8ae7c99fd0c2"
      },
      "execution_count": 143,
      "outputs": [
        {
          "output_type": "stream",
          "name": "stdout",
          "text": [
            "Epoch 1/10\n",
            "1256/1256 [==============================] - 4s 3ms/step - loss: 1.5603 - accuracy: 0.2536\n",
            "Epoch 2/10\n",
            "1256/1256 [==============================] - 2s 2ms/step - loss: 1.5603 - accuracy: 0.2536\n",
            "Epoch 3/10\n",
            "1256/1256 [==============================] - 2s 2ms/step - loss: 1.5603 - accuracy: 0.2536\n",
            "Epoch 4/10\n",
            "1256/1256 [==============================] - 2s 2ms/step - loss: 1.5603 - accuracy: 0.2536\n",
            "Epoch 5/10\n",
            "1256/1256 [==============================] - 2s 2ms/step - loss: 1.5602 - accuracy: 0.2536\n",
            "Epoch 6/10\n",
            "1256/1256 [==============================] - 2s 2ms/step - loss: 1.5602 - accuracy: 0.2536\n",
            "Epoch 7/10\n",
            "1256/1256 [==============================] - 2s 2ms/step - loss: 1.5602 - accuracy: 0.2536\n",
            "Epoch 8/10\n",
            "1256/1256 [==============================] - 2s 2ms/step - loss: 1.5602 - accuracy: 0.2536\n",
            "Epoch 9/10\n",
            "1256/1256 [==============================] - 2s 2ms/step - loss: 1.5602 - accuracy: 0.2536\n",
            "Epoch 10/10\n",
            "1256/1256 [==============================] - 2s 2ms/step - loss: 1.5601 - accuracy: 0.2536\n",
            "Epoch 1/10\n",
            "1256/1256 [==============================] - 4s 3ms/step - loss: 1.6878 - accuracy: 0.2500\n",
            "Epoch 2/10\n",
            "1256/1256 [==============================] - 3s 2ms/step - loss: 1.6869 - accuracy: 0.2500\n",
            "Epoch 3/10\n",
            "1256/1256 [==============================] - 2s 2ms/step - loss: 1.6860 - accuracy: 0.2500\n",
            "Epoch 4/10\n",
            "1256/1256 [==============================] - 2s 2ms/step - loss: 1.6851 - accuracy: 0.2500\n",
            "Epoch 5/10\n",
            "1256/1256 [==============================] - 2s 2ms/step - loss: 1.6842 - accuracy: 0.2500\n",
            "Epoch 6/10\n",
            "1256/1256 [==============================] - 2s 2ms/step - loss: 1.6833 - accuracy: 0.2500\n",
            "Epoch 7/10\n",
            "1256/1256 [==============================] - 2s 2ms/step - loss: 1.6824 - accuracy: 0.2500\n",
            "Epoch 8/10\n",
            "1256/1256 [==============================] - 2s 2ms/step - loss: 1.6815 - accuracy: 0.2500\n",
            "Epoch 9/10\n",
            "1256/1256 [==============================] - 3s 2ms/step - loss: 1.6806 - accuracy: 0.2500\n",
            "Epoch 10/10\n",
            "1256/1256 [==============================] - 4s 3ms/step - loss: 1.6797 - accuracy: 0.2500\n",
            "Epoch 1/10\n",
            "1256/1256 [==============================] - 4s 3ms/step - loss: 2.3697 - accuracy: 0.2500\n",
            "Epoch 2/10\n",
            "1256/1256 [==============================] - 3s 3ms/step - loss: 2.3418 - accuracy: 0.2500\n",
            "Epoch 3/10\n",
            "1256/1256 [==============================] - 4s 3ms/step - loss: 2.3142 - accuracy: 0.2500\n",
            "Epoch 4/10\n",
            "1256/1256 [==============================] - 3s 2ms/step - loss: 2.2873 - accuracy: 0.2500\n",
            "Epoch 5/10\n",
            "1256/1256 [==============================] - 4s 3ms/step - loss: 2.2609 - accuracy: 0.2500\n",
            "Epoch 6/10\n",
            "1256/1256 [==============================] - 4s 3ms/step - loss: 2.2354 - accuracy: 0.2500\n",
            "Epoch 7/10\n",
            "1256/1256 [==============================] - 3s 3ms/step - loss: 2.2104 - accuracy: 0.2500\n",
            "Epoch 8/10\n",
            "1256/1256 [==============================] - 5s 4ms/step - loss: 2.1860 - accuracy: 0.2500\n",
            "Epoch 9/10\n",
            "1256/1256 [==============================] - 4s 3ms/step - loss: 2.1618 - accuracy: 0.2500\n",
            "Epoch 10/10\n",
            "1256/1256 [==============================] - 2s 2ms/step - loss: 2.1383 - accuracy: 0.2500\n",
            "Epoch 1/10\n",
            "1256/1256 [==============================] - 3s 2ms/step - loss: 1.4067 - accuracy: 0.2693\n",
            "Epoch 2/10\n",
            "1256/1256 [==============================] - 2s 2ms/step - loss: 1.3860 - accuracy: 0.2814\n",
            "Epoch 3/10\n",
            "1256/1256 [==============================] - 3s 2ms/step - loss: 1.3696 - accuracy: 0.2858\n",
            "Epoch 4/10\n",
            "1256/1256 [==============================] - 4s 3ms/step - loss: 1.3569 - accuracy: 0.2893\n",
            "Epoch 5/10\n",
            "1256/1256 [==============================] - 4s 3ms/step - loss: 1.3468 - accuracy: 0.2923\n",
            "Epoch 6/10\n",
            "1256/1256 [==============================] - 3s 2ms/step - loss: 1.3384 - accuracy: 0.2943\n",
            "Epoch 7/10\n",
            "1256/1256 [==============================] - 2s 2ms/step - loss: 1.3316 - accuracy: 0.2955\n",
            "Epoch 8/10\n",
            "1256/1256 [==============================] - 3s 3ms/step - loss: 1.3258 - accuracy: 0.2973\n",
            "Epoch 9/10\n",
            "1256/1256 [==============================] - 4s 3ms/step - loss: 1.3208 - accuracy: 0.2980\n",
            "Epoch 10/10\n",
            "1256/1256 [==============================] - 2s 2ms/step - loss: 1.3169 - accuracy: 0.2988\n",
            "Epoch 1/10\n",
            "1256/1256 [==============================] - 3s 2ms/step - loss: 1.4052 - accuracy: 0.2775\n",
            "Epoch 2/10\n",
            "1256/1256 [==============================] - 2s 2ms/step - loss: 1.3320 - accuracy: 0.2643\n",
            "Epoch 3/10\n",
            "1256/1256 [==============================] - 2s 2ms/step - loss: 1.3041 - accuracy: 0.3069\n",
            "Epoch 4/10\n",
            "1256/1256 [==============================] - 3s 2ms/step - loss: 1.2739 - accuracy: 0.3556\n",
            "Epoch 5/10\n",
            "1256/1256 [==============================] - 4s 3ms/step - loss: 1.2454 - accuracy: 0.3724\n",
            "Epoch 6/10\n",
            "1256/1256 [==============================] - 6s 5ms/step - loss: 1.2199 - accuracy: 0.3916\n",
            "Epoch 7/10\n",
            "1256/1256 [==============================] - 6s 4ms/step - loss: 1.1959 - accuracy: 0.4058\n",
            "Epoch 8/10\n",
            "1256/1256 [==============================] - 4s 3ms/step - loss: 1.1724 - accuracy: 0.4272\n",
            "Epoch 9/10\n",
            "1256/1256 [==============================] - 4s 3ms/step - loss: 1.1485 - accuracy: 0.4411\n",
            "Epoch 10/10\n",
            "1256/1256 [==============================] - 4s 3ms/step - loss: 1.1253 - accuracy: 0.4488\n",
            "Epoch 1/10\n",
            "1256/1256 [==============================] - 3s 2ms/step - loss: 1.2588 - accuracy: 0.3377\n",
            "Epoch 2/10\n",
            "1256/1256 [==============================] - 3s 2ms/step - loss: 1.0268 - accuracy: 0.5517\n",
            "Epoch 3/10\n",
            "1256/1256 [==============================] - 3s 2ms/step - loss: 0.8949 - accuracy: 0.6164\n",
            "Epoch 4/10\n",
            "1256/1256 [==============================] - 3s 3ms/step - loss: 0.8281 - accuracy: 0.6477\n",
            "Epoch 5/10\n",
            "1256/1256 [==============================] - 3s 2ms/step - loss: 0.7906 - accuracy: 0.6692\n",
            "Epoch 6/10\n",
            "1256/1256 [==============================] - 3s 3ms/step - loss: 0.7695 - accuracy: 0.6732\n",
            "Epoch 7/10\n",
            "1256/1256 [==============================] - 4s 3ms/step - loss: 0.7570 - accuracy: 0.6761\n",
            "Epoch 8/10\n",
            "1256/1256 [==============================] - 3s 3ms/step - loss: 0.7477 - accuracy: 0.6801\n",
            "Epoch 9/10\n",
            "1256/1256 [==============================] - 3s 2ms/step - loss: 0.7384 - accuracy: 0.6941\n",
            "Epoch 10/10\n",
            "1256/1256 [==============================] - 3s 2ms/step - loss: 0.7311 - accuracy: 0.6996\n",
            "Epoch 1/10\n",
            "1256/1256 [==============================] - 3s 2ms/step - loss: 0.8847 - accuracy: 0.5958\n",
            "Epoch 2/10\n",
            "1256/1256 [==============================] - 2s 2ms/step - loss: 0.7218 - accuracy: 0.6928\n",
            "Epoch 3/10\n",
            "1256/1256 [==============================] - 2s 2ms/step - loss: 0.7053 - accuracy: 0.7025\n",
            "Epoch 4/10\n",
            "1256/1256 [==============================] - 2s 2ms/step - loss: 0.6968 - accuracy: 0.7136\n",
            "Epoch 5/10\n",
            "1256/1256 [==============================] - 2s 2ms/step - loss: 0.6906 - accuracy: 0.7161\n",
            "Epoch 6/10\n",
            "1256/1256 [==============================] - 2s 2ms/step - loss: 0.6883 - accuracy: 0.7192\n",
            "Epoch 7/10\n",
            "1256/1256 [==============================] - 2s 2ms/step - loss: 0.6839 - accuracy: 0.7226\n",
            "Epoch 8/10\n",
            "1256/1256 [==============================] - 2s 2ms/step - loss: 0.6827 - accuracy: 0.7232\n",
            "Epoch 9/10\n",
            "1256/1256 [==============================] - 2s 2ms/step - loss: 0.6808 - accuracy: 0.7245\n",
            "Epoch 10/10\n",
            "1256/1256 [==============================] - 2s 2ms/step - loss: 0.6806 - accuracy: 0.7249\n",
            "Epoch 1/10\n",
            "1256/1256 [==============================] - 3s 2ms/step - loss: 0.7777 - accuracy: 0.6557\n",
            "Epoch 2/10\n",
            "1256/1256 [==============================] - 2s 2ms/step - loss: 0.6928 - accuracy: 0.7023\n",
            "Epoch 3/10\n",
            "1256/1256 [==============================] - 2s 2ms/step - loss: 0.6788 - accuracy: 0.7137\n",
            "Epoch 4/10\n",
            "1256/1256 [==============================] - 2s 2ms/step - loss: 0.6728 - accuracy: 0.7160\n",
            "Epoch 5/10\n",
            "1256/1256 [==============================] - 3s 2ms/step - loss: 0.6714 - accuracy: 0.7164\n",
            "Epoch 6/10\n",
            "1256/1256 [==============================] - 2s 2ms/step - loss: 0.6667 - accuracy: 0.7196\n",
            "Epoch 7/10\n",
            "1256/1256 [==============================] - 2s 2ms/step - loss: 0.6632 - accuracy: 0.7197\n",
            "Epoch 8/10\n",
            "1256/1256 [==============================] - 2s 2ms/step - loss: 0.6665 - accuracy: 0.7198\n",
            "Epoch 9/10\n",
            "1256/1256 [==============================] - 3s 2ms/step - loss: 0.6626 - accuracy: 0.7212\n",
            "Epoch 10/10\n",
            "1256/1256 [==============================] - 2s 2ms/step - loss: 0.6620 - accuracy: 0.7247\n",
            "Epoch 1/10\n",
            "1256/1256 [==============================] - 2s 2ms/step - loss: 1.5237 - accuracy: 0.2520\n",
            "Epoch 2/10\n",
            "1256/1256 [==============================] - 2s 2ms/step - loss: 1.4117 - accuracy: 0.2463\n",
            "Epoch 3/10\n",
            "1256/1256 [==============================] - 2s 2ms/step - loss: 1.4080 - accuracy: 0.2507\n",
            "Epoch 4/10\n",
            "1256/1256 [==============================] - 2s 2ms/step - loss: 1.4119 - accuracy: 0.2480\n",
            "Epoch 5/10\n",
            "1256/1256 [==============================] - 2s 2ms/step - loss: 1.4102 - accuracy: 0.2503\n",
            "Epoch 6/10\n",
            "1256/1256 [==============================] - 2s 2ms/step - loss: 1.4109 - accuracy: 0.2530\n",
            "Epoch 7/10\n",
            "1256/1256 [==============================] - 2s 2ms/step - loss: 1.4087 - accuracy: 0.2491\n",
            "Epoch 8/10\n",
            "1256/1256 [==============================] - 2s 2ms/step - loss: 1.4109 - accuracy: 0.2487\n",
            "Epoch 9/10\n",
            "1256/1256 [==============================] - 2s 2ms/step - loss: 1.4113 - accuracy: 0.2490\n",
            "Epoch 10/10\n",
            "1256/1256 [==============================] - 2s 2ms/step - loss: 1.4087 - accuracy: 0.2446\n",
            "Epoch 1/10\n",
            "1256/1256 [==============================] - 3s 2ms/step - loss: 3.5721 - accuracy: 0.2468\n",
            "Epoch 2/10\n",
            "1256/1256 [==============================] - 2s 2ms/step - loss: 1.5591 - accuracy: 0.2508\n",
            "Epoch 3/10\n",
            "1256/1256 [==============================] - 2s 2ms/step - loss: 1.5713 - accuracy: 0.2523\n",
            "Epoch 4/10\n",
            "1256/1256 [==============================] - 2s 2ms/step - loss: 1.5496 - accuracy: 0.2500\n",
            "Epoch 5/10\n",
            "1256/1256 [==============================] - 2s 2ms/step - loss: 1.5747 - accuracy: 0.2527\n",
            "Epoch 6/10\n",
            "1256/1256 [==============================] - 2s 2ms/step - loss: 1.5449 - accuracy: 0.2529\n",
            "Epoch 7/10\n",
            "1256/1256 [==============================] - 2s 2ms/step - loss: 1.5675 - accuracy: 0.2493\n",
            "Epoch 8/10\n",
            "1256/1256 [==============================] - 2s 2ms/step - loss: 1.5688 - accuracy: 0.2525\n",
            "Epoch 9/10\n",
            "1256/1256 [==============================] - 2s 2ms/step - loss: 1.5462 - accuracy: 0.2471\n",
            "Epoch 10/10\n",
            "1256/1256 [==============================] - 2s 2ms/step - loss: 1.5479 - accuracy: 0.2501\n"
          ]
        }
      ]
    },
    {
      "cell_type": "code",
      "source": [
        "plt.figure(figsize=(10,6))\n",
        "plt.plot(train_accs_adamax, label=\"train\", color=\"blue\", alpha=0.7, linestyle=\":\")\n",
        "plt.plot(test_accs_adamax, label=\"test\", color=\"red\", alpha=0.7)\n",
        "plt.legend()\n",
        "plt.xlabel(\"learning rate (1e-08, 1e-07, 1e-06, 1e-05, 1e-04, 1e-03, 0.01, 0.1, 1, 10)\")\n",
        "plt.ylabel(\"accuracy\")\n",
        "plt.title(\"MLP performances with different learning rates for Adamax optimizer\")\n",
        "plt.show()"
      ],
      "metadata": {
        "colab": {
          "base_uri": "https://localhost:8080/",
          "height": 404
        },
        "id": "3bRZpznNbCMM",
        "outputId": "2c1f71e6-ca8f-4c55-aa68-a3612bfe98c6"
      },
      "execution_count": 144,
      "outputs": [
        {
          "output_type": "display_data",
          "data": {
            "text/plain": [
              "<Figure size 720x432 with 1 Axes>"
            ],
            "image/png": "[encoded data removed]"
          },
          "metadata": {
            "needs_background": "light"
          }
        }
      ]
    },
    {
      "cell_type": "markdown",
      "source": [
        "### $\\textbf{Find the best optimizer}$\n",
        "\n"
      ],
      "metadata": {
        "id": "tVIgUw1pXokp"
      }
    },
    {
      "cell_type": "code",
      "source": [
        "import numpy as np \n",
        "import matplotlib.pyplot as plt \n",
        "\n",
        "X = ['Adam','SGD','Adagrad', 'Adamax']\n",
        "\n",
        "args = [np.argmax(test_accs_adam), np.argmax(test_accs_sgd), np.argmax(test_accs_adagrad), np.argmax(test_accs_adamax)]\n",
        "train_accs = [train_accs_sgd[args[0]], train_accs_sgd[args[1]], train_accs_adagrad[args[2]], train_accs_adamax[args[3]]]\n",
        "test_accs = [test_accs_sgd[args[0]], test_accs_sgd[args[1]], test_accs_adagrad[args[2]], test_accs_adamax[args[3]]]\n",
        "  \n",
        "X_axis = np.arange(len(X))\n",
        "\n",
        "plt.figure(figsize=(10,6))\n",
        "plt.bar(X_axis - 0.2, train_accs, 0.4, label = 'train', color=\"blue\", alpha=0.7)\n",
        "plt.bar(X_axis + 0.2, test_accs, 0.4, label = 'test', color=\"red\", alpha=0.7)\n",
        "  \n",
        "plt.xticks(X_axis, X)\n",
        "plt.xlabel(\"Optimizer\")\n",
        "plt.ylabel(\"Accuracy\")\n",
        "plt.title(\"Comparison of performances of MLP trained with different optimizers\")\n",
        "plt.legend()\n",
        "plt.show()"
      ],
      "metadata": {
        "colab": {
          "base_uri": "https://localhost:8080/",
          "height": 404
        },
        "id": "eo3LHVZYYBB8",
        "outputId": "edbe3e65-5f3c-40d4-8264-e22336fcb89b"
      },
      "execution_count": 145,
      "outputs": [
        {
          "output_type": "display_data",
          "data": {
            "text/plain": [
              "<Figure size 720x432 with 1 Axes>"
            ],
            "image/png": "[encoded data removed]"
          },
          "metadata": {
            "needs_background": "light"
          }
        }
      ]
    },
    {
      "cell_type": "code",
      "source": [
        "args"
      ],
      "metadata": {
        "colab": {
          "base_uri": "https://localhost:8080/"
        },
        "id": "0CX9Pyjsc5GI",
        "outputId": "e0edb4ff-de3c-4d54-a86f-360de750079a"
      },
      "execution_count": 146,
      "outputs": [
        {
          "output_type": "execute_result",
          "data": {
            "text/plain": [
              "[6, 7, 7, 7]"
            ]
          },
          "metadata": {},
          "execution_count": 146
        }
      ]
    },
    {
      "cell_type": "code",
      "source": [
        "learning_rates[7]"
      ],
      "metadata": {
        "colab": {
          "base_uri": "https://localhost:8080/"
        },
        "id": "XuumLgVAdi_j",
        "outputId": "f1f640b4-a582-4c8c-bd78-71d8ffd0b61a"
      },
      "execution_count": 150,
      "outputs": [
        {
          "output_type": "execute_result",
          "data": {
            "text/plain": [
              "0.1"
            ]
          },
          "metadata": {},
          "execution_count": 150
        }
      ]
    },
    {
      "cell_type": "code",
      "source": [
        "test_accs_adamax[7]"
      ],
      "metadata": {
        "colab": {
          "base_uri": "https://localhost:8080/"
        },
        "id": "11pK-CuHdSCb",
        "outputId": "21767c65-6bc8-4030-8560-cd43f56632d4"
      },
      "execution_count": 148,
      "outputs": [
        {
          "output_type": "execute_result",
          "data": {
            "text/plain": [
              "0.7267841146610928"
            ]
          },
          "metadata": {},
          "execution_count": 148
        }
      ]
    },
    {
      "cell_type": "code",
      "source": [
        "mlp_best = mlp(optimizer=\"Adamax\", lr=learning_rates[7])\n",
        "mlp_best.fit(X_train, y_ohe_train, epochs=10)"
      ],
      "metadata": {
        "colab": {
          "base_uri": "https://localhost:8080/"
        },
        "id": "HaTnv_00bTcW",
        "outputId": "f7c719bf-9c2a-4a3e-917d-c30a840c407d"
      },
      "execution_count": 152,
      "outputs": [
        {
          "output_type": "stream",
          "name": "stdout",
          "text": [
            "Epoch 1/10\n",
            "1256/1256 [==============================] - 3s 2ms/step - loss: 0.7705 - accuracy: 0.6602\n",
            "Epoch 2/10\n",
            "1256/1256 [==============================] - 2s 2ms/step - loss: 0.7094 - accuracy: 0.7063\n",
            "Epoch 3/10\n",
            "1256/1256 [==============================] - 2s 2ms/step - loss: 0.7002 - accuracy: 0.7069\n",
            "Epoch 4/10\n",
            "1256/1256 [==============================] - 2s 2ms/step - loss: 0.6922 - accuracy: 0.7121\n",
            "Epoch 5/10\n",
            "1256/1256 [==============================] - 2s 2ms/step - loss: 0.6869 - accuracy: 0.7146\n",
            "Epoch 6/10\n",
            "1256/1256 [==============================] - 2s 2ms/step - loss: 0.6823 - accuracy: 0.7174\n",
            "Epoch 7/10\n",
            "1256/1256 [==============================] - 2s 2ms/step - loss: 0.6818 - accuracy: 0.7135\n",
            "Epoch 8/10\n",
            "1256/1256 [==============================] - 2s 2ms/step - loss: 0.6763 - accuracy: 0.7173\n",
            "Epoch 9/10\n",
            "1256/1256 [==============================] - 2s 2ms/step - loss: 0.6710 - accuracy: 0.7190\n",
            "Epoch 10/10\n",
            "1256/1256 [==============================] - 2s 2ms/step - loss: 0.6680 - accuracy: 0.7215\n"
          ]
        },
        {
          "output_type": "execute_result",
          "data": {
            "text/plain": [
              "<keras.callbacks.History at 0x7f8966bd8fd0>"
            ]
          },
          "metadata": {},
          "execution_count": 152
        }
      ]
    },
    {
      "cell_type": "code",
      "source": [
        "def plot_confusion_matrix(model, X_test, y_test, model_name=\"\"):\n",
        "  from sklearn.metrics import confusion_matrix\n",
        "  import matplotlib.pyplot as plt\n",
        "  import seaborn as sns\n",
        "\n",
        "  preds = np.argmax(model.predict(X_test), axis=1) # adapt to softmax\n",
        "  conf_mat = confusion_matrix(y_test, preds)\n",
        "  plt.figure(figsize=(8,8))\n",
        "  sns.heatmap(conf_mat, cmap=\"Blues\",\n",
        "  annot=True,\n",
        "  )\n",
        "  plt.title(\"Confusion matrix of {}\".format(model_name))\n",
        "  plt.xlabel(\"Predicted class\")\n",
        "  plt.ylabel(\"True class\")\n",
        "  plt.show()\n",
        "\n",
        "plot_confusion_matrix(mlp_best, X_test, y_test=y_test_, model_name=\"Confusion matrix of MLP trained with the best found optimizer (Adamax, lr=0.1)\")"
      ],
      "metadata": {
        "colab": {
          "base_uri": "https://localhost:8080/",
          "height": 513
        },
        "id": "PPl5rwISTTL9",
        "outputId": "9f6e83a3-130b-4f44-a24e-0d01ccd8d026"
      },
      "execution_count": 153,
      "outputs": [
        {
          "output_type": "display_data",
          "data": {
            "text/plain": [
              "<Figure size 576x576 with 2 Axes>"
            ],
            "image/png": "[encoded data removed]"
          },
          "metadata": {
            "needs_background": "light"
          }
        }
      ]
    }
  ],
  "metadata": {
    "interpreter": {
      "hash": "77c238a0cc12af622f616fb772f1cf88baee4107fd8364344241573b1fa60874"
    },
    "kernelspec": {
      "display_name": "Python 3.7.6 ('base')",
      "language": "python",
      "name": "python3"
    },
    "language_info": {
      "codemirror_mode": {
        "name": "ipython",
        "version": 3
      },
      "file_extension": ".py",
      "mimetype": "text/x-python",
      "name": "python",
      "nbconvert_exporter": "python",
      "pygments_lexer": "ipython3",
      "version": "3.7.6"
    },
    "orig_nbformat": 4,
    "colab": {
      "name": "dl_culture.ipynb",
      "provenance": [],
      "collapsed_sections": []
    }
  },
  "nbformat": 4,
  "nbformat_minor": 0
}