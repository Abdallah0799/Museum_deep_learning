{
  "cells": [
    {
      "cell_type": "code",
      "execution_count": 2,
      "metadata": {
        "colab": {
          "base_uri": "https://localhost:8080/",
          "height": 206
        },
        "id": "sA0STTVOzRL8",
        "outputId": "f10ff821-107a-4c9f-d8da-ef2acc8d58f5"
      },
      "outputs": [
        {
          "output_type": "execute_result",
          "data": {
            "text/plain": [
              "  Historical Period  height  diam  width  depth  num_period  medium_num  \\\n",
              "0         Antiquity     7.1  -1.0   10.8   -1.0         4.0    3.046062   \n",
              "1         Antiquity    -1.0   3.7   -1.0   -1.0         4.0    3.046062   \n",
              "2         Antiquity     2.9  -1.0    9.2   -1.0         4.0    3.875496   \n",
              "3         Antiquity     2.7  -1.0    2.2   -1.0         4.0    3.046062   \n",
              "4         Antiquity    -1.0  -1.0   -1.0   -1.0         4.0    3.119048   \n",
              "\n",
              "   classif_num  culture_num  \n",
              "0     2.533376     2.136866  \n",
              "1     3.998735     4.000000  \n",
              "2     3.993417     3.905965  \n",
              "3     2.533376     3.301802  \n",
              "4     2.533376     3.841270  "
            ],
            "text/html": [
              "\n",
              "  <div id=\"df-bdffdda9-e889-45af-84d2-966fc42ed4b1\">\n",
              "    <div class=\"colab-df-container\">\n",
              "      <div>\n",
              "<style scoped>\n",
              "    .dataframe tbody tr th:only-of-type {\n",
              "        vertical-align: middle;\n",
              "    }\n",
              "\n",
              "    .dataframe tbody tr th {\n",
              "        vertical-align: top;\n",
              "    }\n",
              "\n",
              "    .dataframe thead th {\n",
              "        text-align: right;\n",
              "    }\n",
              "</style>\n",
              "<table border=\"1\" class=\"dataframe\">\n",
              "  <thead>\n",
              "    <tr style=\"text-align: right;\">\n",
              "      <th></th>\n",
              "      <th>Historical Period</th>\n",
              "      <th>height</th>\n",
              "      <th>diam</th>\n",
              "      <th>width</th>\n",
              "      <th>depth</th>\n",
              "      <th>num_period</th>\n",
              "      <th>medium_num</th>\n",
              "      <th>classif_num</th>\n",
              "      <th>culture_num</th>\n",
              "    </tr>\n",
              "  </thead>\n",
              "  <tbody>\n",
              "    <tr>\n",
              "      <th>0</th>\n",
              "      <td>Antiquity</td>\n",
              "      <td>7.1</td>\n",
              "      <td>-1.0</td>\n",
              "      <td>10.8</td>\n",
              "      <td>-1.0</td>\n",
              "      <td>4.0</td>\n",
              "      <td>3.046062</td>\n",
              "      <td>2.533376</td>\n",
              "      <td>2.136866</td>\n",
              "    </tr>\n",
              "    <tr>\n",
              "      <th>1</th>\n",
              "      <td>Antiquity</td>\n",
              "      <td>-1.0</td>\n",
              "      <td>3.7</td>\n",
              "      <td>-1.0</td>\n",
              "      <td>-1.0</td>\n",
              "      <td>4.0</td>\n",
              "      <td>3.046062</td>\n",
              "      <td>3.998735</td>\n",
              "      <td>4.000000</td>\n",
              "    </tr>\n",
              "    <tr>\n",
              "      <th>2</th>\n",
              "      <td>Antiquity</td>\n",
              "      <td>2.9</td>\n",
              "      <td>-1.0</td>\n",
              "      <td>9.2</td>\n",
              "      <td>-1.0</td>\n",
              "      <td>4.0</td>\n",
              "      <td>3.875496</td>\n",
              "      <td>3.993417</td>\n",
              "      <td>3.905965</td>\n",
              "    </tr>\n",
              "    <tr>\n",
              "      <th>3</th>\n",
              "      <td>Antiquity</td>\n",
              "      <td>2.7</td>\n",
              "      <td>-1.0</td>\n",
              "      <td>2.2</td>\n",
              "      <td>-1.0</td>\n",
              "      <td>4.0</td>\n",
              "      <td>3.046062</td>\n",
              "      <td>2.533376</td>\n",
              "      <td>3.301802</td>\n",
              "    </tr>\n",
              "    <tr>\n",
              "      <th>4</th>\n",
              "      <td>Antiquity</td>\n",
              "      <td>-1.0</td>\n",
              "      <td>-1.0</td>\n",
              "      <td>-1.0</td>\n",
              "      <td>-1.0</td>\n",
              "      <td>4.0</td>\n",
              "      <td>3.119048</td>\n",
              "      <td>2.533376</td>\n",
              "      <td>3.841270</td>\n",
              "    </tr>\n",
              "  </tbody>\n",
              "</table>\n",
              "</div>\n",
              "      <button class=\"colab-df-convert\" onclick=\"convertToInteractive('df-bdffdda9-e889-45af-84d2-966fc42ed4b1')\"\n",
              "              title=\"Convert this dataframe to an interactive table.\"\n",
              "              style=\"display:none;\">\n",
              "        \n",
              "  <svg xmlns=\"http://www.w3.org/2000/svg\" height=\"24px\"viewBox=\"0 0 24 24\"\n",
              "       width=\"24px\">\n",
              "    <path d=\"M0 0h24v24H0V0z\" fill=\"none\"/>\n",
              "    <path d=\"M18.56 5.44l.94 2.06.94-2.06 2.06-.94-2.06-.94-.94-2.06-.94 2.06-2.06.94zm-11 1L8.5 8.5l.94-2.06 2.06-.94-2.06-.94L8.5 2.5l-.94 2.06-2.06.94zm10 10l.94 2.06.94-2.06 2.06-.94-2.06-.94-.94-2.06-.94 2.06-2.06.94z\"/><path d=\"M17.41 7.96l-1.37-1.37c-.4-.4-.92-.59-1.43-.59-.52 0-1.04.2-1.43.59L10.3 9.45l-7.72 7.72c-.78.78-.78 2.05 0 2.83L4 21.41c.39.39.9.59 1.41.59.51 0 1.02-.2 1.41-.59l7.78-7.78 2.81-2.81c.8-.78.8-2.07 0-2.86zM5.41 20L4 18.59l7.72-7.72 1.47 1.35L5.41 20z\"/>\n",
              "  </svg>\n",
              "      </button>\n",
              "      \n",
              "  <style>\n",
              "    .colab-df-container {\n",
              "      display:flex;\n",
              "      flex-wrap:wrap;\n",
              "      gap: 12px;\n",
              "    }\n",
              "\n",
              "    .colab-df-convert {\n",
              "      background-color: #E8F0FE;\n",
              "      border: none;\n",
              "      border-radius: 50%;\n",
              "      cursor: pointer;\n",
              "      display: none;\n",
              "      fill: #1967D2;\n",
              "      height: 32px;\n",
              "      padding: 0 0 0 0;\n",
              "      width: 32px;\n",
              "    }\n",
              "\n",
              "    .colab-df-convert:hover {\n",
              "      background-color: #E2EBFA;\n",
              "      box-shadow: 0px 1px 2px rgba(60, 64, 67, 0.3), 0px 1px 3px 1px rgba(60, 64, 67, 0.15);\n",
              "      fill: #174EA6;\n",
              "    }\n",
              "\n",
              "    [theme=dark] .colab-df-convert {\n",
              "      background-color: #3B4455;\n",
              "      fill: #D2E3FC;\n",
              "    }\n",
              "\n",
              "    [theme=dark] .colab-df-convert:hover {\n",
              "      background-color: #434B5C;\n",
              "      box-shadow: 0px 1px 3px 1px rgba(0, 0, 0, 0.15);\n",
              "      filter: drop-shadow(0px 1px 2px rgba(0, 0, 0, 0.3));\n",
              "      fill: #FFFFFF;\n",
              "    }\n",
              "  </style>\n",
              "\n",
              "      <script>\n",
              "        const buttonEl =\n",
              "          document.querySelector('#df-bdffdda9-e889-45af-84d2-966fc42ed4b1 button.colab-df-convert');\n",
              "        buttonEl.style.display =\n",
              "          google.colab.kernel.accessAllowed ? 'block' : 'none';\n",
              "\n",
              "        async function convertToInteractive(key) {\n",
              "          const element = document.querySelector('#df-bdffdda9-e889-45af-84d2-966fc42ed4b1');\n",
              "          const dataTable =\n",
              "            await google.colab.kernel.invokeFunction('convertToInteractive',\n",
              "                                                     [key], {});\n",
              "          if (!dataTable) return;\n",
              "\n",
              "          const docLinkHtml = 'Like what you see? Visit the ' +\n",
              "            '<a target=\"_blank\" href=https://colab.research.google.com/notebooks/data_table.ipynb>data table notebook</a>'\n",
              "            + ' to learn more about interactive tables.';\n",
              "          element.innerHTML = '';\n",
              "          dataTable['output_type'] = 'display_data';\n",
              "          await google.colab.output.renderOutput(dataTable, element);\n",
              "          const docLink = document.createElement('div');\n",
              "          docLink.innerHTML = docLinkHtml;\n",
              "          element.appendChild(docLink);\n",
              "        }\n",
              "      </script>\n",
              "    </div>\n",
              "  </div>\n",
              "  "
            ]
          },
          "metadata": {},
          "execution_count": 2
        }
      ],
      "source": [
        "import pandas as pd\n",
        "\n",
        "#df = pd.read_csv('../data/museum_data_mean_target_encoding.csv')\n",
        "df_train = pd.read_csv(\"/content/drive/MyDrive/data/museum_data_mean_target_encoding_train.csv\")\n",
        "df_train.drop(['Unnamed: 0', 'Object Begin Date'], axis=1, inplace=True)\n",
        "\n",
        "df_test = pd.read_csv(\"/content/drive/MyDrive/data/museum_data_mean_target_encoding_test.csv\")\n",
        "df_test.drop(['Unnamed: 0', 'Object Begin Date'], axis=1, inplace=True)\n",
        "df_train.head()"
      ]
    },
    {
      "cell_type": "code",
      "source": [
        "from google.colab import drive\n",
        "drive.mount('/content/drive')"
      ],
      "metadata": {
        "colab": {
          "base_uri": "https://localhost:8080/"
        },
        "id": "ziDgjlIvzZMZ",
        "outputId": "eb18fa88-71f9-4242-9ec8-c041abf096aa"
      },
      "execution_count": 3,
      "outputs": [
        {
          "output_type": "stream",
          "name": "stdout",
          "text": [
            "Drive already mounted at /content/drive; to attempt to forcibly remount, call drive.mount(\"/content/drive\", force_remount=True).\n"
          ]
        }
      ]
    },
    {
      "cell_type": "code",
      "execution_count": 4,
      "metadata": {
        "colab": {
          "base_uri": "https://localhost:8080/"
        },
        "id": "tDXPfCRMzRMF",
        "outputId": "e9d6f5e7-5724-41e3-81ef-58bb1efff5d8"
      },
      "outputs": [
        {
          "output_type": "execute_result",
          "data": {
            "text/plain": [
              "Historical Period    Contemporary Era\n",
              "height                          241.9\n",
              "diam                             -1.0\n",
              "width                           117.5\n",
              "depth                            -1.0\n",
              "num_period                        1.0\n",
              "medium_num                   1.728041\n",
              "classif_num                  2.153191\n",
              "culture_num                  2.136866\n",
              "Name: 20000, dtype: object"
            ]
          },
          "metadata": {},
          "execution_count": 4
        }
      ],
      "source": [
        "df_train.iloc[20000,:]"
      ]
    },
    {
      "cell_type": "markdown",
      "metadata": {
        "id": "xxkcVDm-zRMG"
      },
      "source": [
        "### Preprocessing\n",
        "\n",
        "#### Get X and y"
      ]
    },
    {
      "cell_type": "code",
      "execution_count": 5,
      "metadata": {
        "colab": {
          "base_uri": "https://localhost:8080/"
        },
        "id": "3ksPg9rvzRMJ",
        "outputId": "7376b1cf-298d-402e-8a7f-5d2529664168"
      },
      "outputs": [
        {
          "output_type": "execute_result",
          "data": {
            "text/plain": [
              "array([[1., 0., 0., 0.],\n",
              "       [1., 0., 0., 0.],\n",
              "       [1., 0., 0., 0.],\n",
              "       ...,\n",
              "       [0., 0., 0., 1.],\n",
              "       [0., 0., 0., 1.],\n",
              "       [0., 0., 0., 1.]])"
            ]
          },
          "metadata": {},
          "execution_count": 5
        }
      ],
      "source": [
        "from sklearn.preprocessing import OneHotEncoder\n",
        "import numpy as np\n",
        "\n",
        "periods_train = np.array(df_train[\"Historical Period\"]).reshape(-1, 1)\n",
        "\n",
        "ohe = OneHotEncoder(sparse=False)\n",
        "ohe.fit(periods_train)\n",
        "y_ohe_train = ohe.transform(periods_train)\n",
        "\n",
        "periods_test = np.array(df_test[\"Historical Period\"]).reshape(-1, 1)\n",
        "y_ohe_test = ohe.transform(periods_test)\n",
        "y_ohe_train"
      ]
    },
    {
      "cell_type": "code",
      "execution_count": 6,
      "metadata": {
        "id": "FhVfkaWIzRMK"
      },
      "outputs": [],
      "source": [
        "# key: name of the class; item: index of the column in y\n",
        "#dico_period_ohe = {\"Modern Times\":3, \"Contemporary Era\":1, \"Antiquity\":0, \"Middle Ages\":2}"
      ]
    },
    {
      "cell_type": "code",
      "execution_count": 7,
      "metadata": {
        "colab": {
          "base_uri": "https://localhost:8080/"
        },
        "id": "_-GwykEzzRMM",
        "outputId": "daf8058e-cb18-4f56-b463-bd1bcf515a54"
      },
      "outputs": [
        {
          "output_type": "execute_result",
          "data": {
            "text/plain": [
              "array([4., 4., 4., ..., 2., 2., 2.])"
            ]
          },
          "metadata": {},
          "execution_count": 7
        }
      ],
      "source": [
        "import numpy as np\n",
        "y_train = np.array(df_train[\"num_period\"])\n",
        "y_train"
      ]
    },
    {
      "cell_type": "code",
      "execution_count": 8,
      "metadata": {
        "colab": {
          "base_uri": "https://localhost:8080/"
        },
        "id": "Zqa1JWEuzRMN",
        "outputId": "97f512e3-385a-49a9-cf6a-df4b5fee98f3"
      },
      "outputs": [
        {
          "output_type": "execute_result",
          "data": {
            "text/plain": [
              "(40180, 7)"
            ]
          },
          "metadata": {},
          "execution_count": 8
        }
      ],
      "source": [
        "X_train = np.array(df_train.drop(columns=[\"Historical Period\", \"num_period\"]))\n",
        "X_train.shape"
      ]
    },
    {
      "cell_type": "code",
      "execution_count": 9,
      "metadata": {
        "id": "ilSwUQ5czRMO"
      },
      "outputs": [],
      "source": [
        "y_test = np.array(df_test[\"num_period\"])\n",
        "X_test = np.array(df_test.drop(columns=[\"Historical Period\", \"num_period\"]))"
      ]
    },
    {
      "cell_type": "code",
      "execution_count": 78,
      "metadata": {
        "id": "2nbjJxqJzRMG"
      },
      "outputs": [],
      "source": [
        "# keys: initial classes ; values: position of the column in ohe output data\n",
        "#dico_map_init_ohe = {\"1.0\":\"Contemporary Era\", \"2.0\":\"Modern Times\", \"3.0\":\"Middle Ages\", \"4.0\":\"Antiquity\"}\n",
        "#map_period = {\"Antiquity\":1., \"Contemporary Era\": 2., \"Middle Ages\":3., \"Modern Times\":4.}\n",
        "dico_map_ohe = {}\n",
        "\n",
        "for i,val in enumerate(y_test):\n",
        "  if val not in dico_map_ohe.keys():\n",
        "    dico_map_ohe[val] = np.argmax(y_ohe_test[i,:])\n",
        "  if len(dico_map_ohe)==4:\n",
        "    break"
      ]
    },
    {
      "cell_type": "code",
      "source": [
        "dico_map_ohe"
      ],
      "metadata": {
        "colab": {
          "base_uri": "https://localhost:8080/"
        },
        "id": "Jdn0jkiRA8sh",
        "outputId": "359bd895-1e8b-48f4-efb1-6d300bbd2951"
      },
      "execution_count": 79,
      "outputs": [
        {
          "output_type": "execute_result",
          "data": {
            "text/plain": [
              "{1.0: 1, 2.0: 3, 3.0: 2, 4.0: 0}"
            ]
          },
          "metadata": {},
          "execution_count": 79
        }
      ]
    },
    {
      "cell_type": "code",
      "source": [
        "y_train_ = [dico_map_ohe[target] for target in y_train]\n",
        "y_test_ = [dico_map_ohe[target] for target in y_test]"
      ],
      "metadata": {
        "id": "QoG5NMvA-jSb"
      },
      "execution_count": 82,
      "outputs": []
    },
    {
      "cell_type": "markdown",
      "metadata": {
        "id": "Z4P9O07gzRMO"
      },
      "source": [
        "#### Rescaling the features"
      ]
    },
    {
      "cell_type": "markdown",
      "metadata": {
        "id": "6Klp7WoMzRMP"
      },
      "source": [
        "medium_num, culture_num and classif_num are bounded between 1 and 4 by construction (fine).\n",
        "\n",
        "\n",
        "Let's transform the features related to dimensions: height, width, depth and diam. It doesn't really make sense (from a physical point of view) to normalize them to zero mean and unit variance. Instead, let's rescale them so that they are between 0 and 1:"
      ]
    },
    {
      "cell_type": "code",
      "execution_count": 83,
      "metadata": {
        "colab": {
          "base_uri": "https://localhost:8080/"
        },
        "id": "S52pfLx8zRMP",
        "outputId": "e395d1fd-7731-4de6-9291-bbd223e452da"
      },
      "outputs": [
        {
          "output_type": "execute_result",
          "data": {
            "text/plain": [
              "array([0.00339836, 0.        , 0.00640886, 0.        , 3.04606152,\n",
              "       2.53337623, 2.13686557])"
            ]
          },
          "metadata": {},
          "execution_count": 83
        }
      ],
      "source": [
        "X_train[0,:]"
      ]
    },
    {
      "cell_type": "code",
      "execution_count": 11,
      "metadata": {
        "id": "vdysC5oEzRMQ"
      },
      "outputs": [],
      "source": [
        "from sklearn.preprocessing import MinMaxScaler\n",
        "\n",
        "scaler = MinMaxScaler()\n",
        "scaler.fit(X_train[:,:4])\n",
        "dims_train_minmax = scaler.transform(X_train[:,:4])"
      ]
    },
    {
      "cell_type": "code",
      "execution_count": 12,
      "metadata": {
        "colab": {
          "base_uri": "https://localhost:8080/"
        },
        "id": "qT6qrgUpzRMQ",
        "outputId": "7ec2c6a5-d09b-42ee-8a14-bacfa2bc258d"
      },
      "outputs": [
        {
          "output_type": "stream",
          "name": "stdout",
          "text": [
            "[0. 0. 0. 0.] [1. 1. 1. 1.]\n"
          ]
        }
      ],
      "source": [
        "# check\n",
        "print(np.min(dims_train_minmax, axis=0), np.max(dims_train_minmax, axis=0))"
      ]
    },
    {
      "cell_type": "code",
      "execution_count": 13,
      "metadata": {
        "colab": {
          "base_uri": "https://localhost:8080/"
        },
        "id": "MkS9xBMKzRMR",
        "outputId": "b9ed612b-e1b1-4f0d-8512-13a29a853562"
      },
      "outputs": [
        {
          "output_type": "stream",
          "name": "stdout",
          "text": [
            "[0.00339836 0.         0.00640886 0.         3.04606152 2.53337623\n",
            " 2.13686557]\n"
          ]
        }
      ],
      "source": [
        "X_train[:,:4] = dims_train_minmax\n",
        "print(X_train[0,:])"
      ]
    },
    {
      "cell_type": "code",
      "execution_count": 14,
      "metadata": {
        "colab": {
          "base_uri": "https://localhost:8080/"
        },
        "id": "-nPSIi30zRMR",
        "outputId": "d03296a1-bec3-4694-a254-a2059699e909"
      },
      "outputs": [
        {
          "output_type": "execute_result",
          "data": {
            "text/plain": [
              "array([0.        , 0.00655793, 0.        , 0.        , 2.93310463,\n",
              "       3.05988515, 2.96666667])"
            ]
          },
          "metadata": {},
          "execution_count": 14
        }
      ],
      "source": [
        "# apply the same transformation on testing set\n",
        "dims_test_minmax = scaler.transform(X_test[:,:4])\n",
        "X_test[:,:4] = dims_test_minmax\n",
        "X_test[0,:]"
      ]
    },
    {
      "cell_type": "markdown",
      "metadata": {
        "id": "c13dJzIuzRMS"
      },
      "source": [
        "### Deep learning architectures\n",
        "\n",
        "MLP"
      ]
    },
    {
      "cell_type": "code",
      "source": [
        "#@title Imports libraries\n",
        "import numpy as np\n",
        "import matplotlib.pyplot as plt\n",
        "from keras import layers\n",
        "from tensorflow.keras.models import Sequential, Model\n",
        "from tensorflow.keras.layers import Dense, Dropout, Activation, Flatten, Input\n",
        "from glob import glob\n",
        "import os\n",
        "import tensorflow as tf\n",
        "from sklearn.metrics import confusion_matrix\n",
        "import seaborn as sns"
      ],
      "metadata": {
        "cellView": "form",
        "id": "I2wE7O0F1-vx"
      },
      "execution_count": 17,
      "outputs": []
    },
    {
      "cell_type": "code",
      "source": [
        "num_features = X_train.shape[1]\n",
        "num_classes = 4\n",
        "\n",
        "mlp_baseline = Sequential()\n",
        "mlp_baseline.add(Dense(10, activation='relu'))\n",
        "mlp_baseline.add(Dense(num_classes, activation = 'softmax'))"
      ],
      "metadata": {
        "id": "fi2MJ_4d2K-T"
      },
      "execution_count": 28,
      "outputs": []
    },
    {
      "cell_type": "code",
      "source": [
        "mlp_baseline.compile(optimizer='adam',\n",
        "              loss = 'categorical_crossentropy',\n",
        "              metrics=['accuracy'])\n",
        "mlp_baseline.fit(X_train, y_ohe_train, epochs=5)"
      ],
      "metadata": {
        "colab": {
          "base_uri": "https://localhost:8080/"
        },
        "id": "l6Hgj22f3Y7a",
        "outputId": "df40764c-c29a-47ec-ed15-5464ec02ce5b"
      },
      "execution_count": 29,
      "outputs": [
        {
          "output_type": "stream",
          "name": "stdout",
          "text": [
            "Epoch 1/5\n",
            "1256/1256 [==============================] - 2s 2ms/step - loss: 1.1561 - accuracy: 0.4700\n",
            "Epoch 2/5\n",
            "1256/1256 [==============================] - 2s 2ms/step - loss: 0.8495 - accuracy: 0.6341\n",
            "Epoch 3/5\n",
            "1256/1256 [==============================] - 2s 2ms/step - loss: 0.7674 - accuracy: 0.6777\n",
            "Epoch 4/5\n",
            "1256/1256 [==============================] - 2s 2ms/step - loss: 0.7306 - accuracy: 0.6972\n",
            "Epoch 5/5\n",
            "1256/1256 [==============================] - 2s 2ms/step - loss: 0.7097 - accuracy: 0.7040\n"
          ]
        },
        {
          "output_type": "execute_result",
          "data": {
            "text/plain": [
              "<keras.callbacks.History at 0x7f8978d35d90>"
            ]
          },
          "metadata": {},
          "execution_count": 29
        }
      ]
    },
    {
      "cell_type": "code",
      "source": [
        "mlp_baseline.summary()"
      ],
      "metadata": {
        "colab": {
          "base_uri": "https://localhost:8080/"
        },
        "id": "iXs_fqwc33BW",
        "outputId": "0e287f04-5ce1-4561-d30c-6338256263a4"
      },
      "execution_count": 56,
      "outputs": [
        {
          "output_type": "stream",
          "name": "stdout",
          "text": [
            "Model: \"sequential_4\"\n",
            "_________________________________________________________________\n",
            " Layer (type)                Output Shape              Param #   \n",
            "=================================================================\n",
            " dense_8 (Dense)             (None, 10)                80        \n",
            "                                                                 \n",
            " dense_9 (Dense)             (None, 4)                 44        \n",
            "                                                                 \n",
            "=================================================================\n",
            "Total params: 124\n",
            "Trainable params: 124\n",
            "Non-trainable params: 0\n",
            "_________________________________________________________________\n"
          ]
        }
      ]
    },
    {
      "cell_type": "code",
      "execution_count": 85,
      "metadata": {
        "id": "w6oLIqxDzRMS"
      },
      "outputs": [],
      "source": [
        "def plot_confusion_matrix(model, X_test, y_test, model_name=\"\"):\n",
        "    from sklearn.metrics import confusion_matrix\n",
        "    import matplotlib.pyplot as plt\n",
        "    import seaborn as sns\n",
        "\n",
        "    #preds = model.predict(X_test)\n",
        "    preds = np.argmax(model.predict(X_test), axis=1) # adapt to softmax\n",
        "    conf_mat = confusion_matrix(y_test, preds)\n",
        "    plt.figure(figsize=(8,8))\n",
        "    sns.heatmap(conf_mat, cmap=\"Blues\",\n",
        "    annot=True,\n",
        "    )\n",
        "    plt.title(\"Confusion matrix of {}\".format(model_name))\n",
        "    plt.xlabel(\"Predicted class\")\n",
        "    plt.ylabel(\"True class\")\n",
        "    plt.show()"
      ]
    },
    {
      "cell_type": "code",
      "execution_count": 86,
      "metadata": {
        "colab": {
          "base_uri": "https://localhost:8080/",
          "height": 513
        },
        "id": "CbyNLhBbzRMT",
        "outputId": "057eda77-45ee-4b58-b4ed-5bb8dfdc98f4"
      },
      "outputs": [
        {
          "output_type": "display_data",
          "data": {
            "text/plain": [
              "<Figure size 576x576 with 2 Axes>"
            ],
            "image/png": "[encoded data removed]"
          },
          "metadata": {
            "needs_background": "light"
          }
        }
      ],
      "source": [
        "plot_confusion_matrix(mlp_baseline, X_test, y_test=y_test_, model_name=\"Baseline Logistic Regression\")"
      ]
    },
    {
      "cell_type": "code",
      "execution_count": 87,
      "metadata": {
        "colab": {
          "base_uri": "https://localhost:8080/"
        },
        "id": "ngi8lJpmzRMT",
        "outputId": "84b8f691-0837-48e1-e237-2b99aa1f3a15"
      },
      "outputs": [
        {
          "output_type": "execute_result",
          "data": {
            "text/plain": [
              "0.6881158554792476"
            ]
          },
          "metadata": {},
          "execution_count": 87
        }
      ],
      "source": [
        "#from sklearn.metrics import log_loss\n",
        "from sklearn.metrics import accuracy_score\n",
        "\n",
        "accuracy_score(y_test_, np.argmax(mlp_baseline.predict(X_test), axis=1))"
      ]
    },
    {
      "cell_type": "code",
      "source": [
        "accuracy_score(y_train_, np.argmax(mlp_baseline.predict(X_train), axis=1))"
      ],
      "metadata": {
        "colab": {
          "base_uri": "https://localhost:8080/"
        },
        "id": "kyX5YG4pCFfF",
        "outputId": "62f62cc4-4156-493e-bdfb-5102fe4b1e78"
      },
      "execution_count": 88,
      "outputs": [
        {
          "output_type": "execute_result",
          "data": {
            "text/plain": [
              "0.6961672473867596"
            ]
          },
          "metadata": {},
          "execution_count": 88
        }
      ]
    }
  ],
  "metadata": {
    "interpreter": {
      "hash": "77c238a0cc12af622f616fb772f1cf88baee4107fd8364344241573b1fa60874"
    },
    "kernelspec": {
      "display_name": "Python 3.7.6 ('base')",
      "language": "python",
      "name": "python3"
    },
    "language_info": {
      "codemirror_mode": {
        "name": "ipython",
        "version": 3
      },
      "file_extension": ".py",
      "mimetype": "text/x-python",
      "name": "python",
      "nbconvert_exporter": "python",
      "pygments_lexer": "ipython3",
      "version": "3.7.6"
    },
    "orig_nbformat": 4,
    "colab": {
      "name": "dl_culture.ipynb",
      "provenance": [],
      "collapsed_sections": []
    }
  },
  "nbformat": 4,
  "nbformat_minor": 0
}