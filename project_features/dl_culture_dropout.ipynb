{
  "cells": [
    {
      "cell_type": "code",
      "execution_count": null,
      "metadata": {},
      "outputs": [],
      "source": []
    },
    {
      "cell_type": "code",
      "execution_count": 53,
      "metadata": {
        "colab": {
          "base_uri": "https://localhost:8080/",
          "height": 206
        },
        "id": "sA0STTVOzRL8",
        "outputId": "f10ff821-107a-4c9f-d8da-ef2acc8d58f5"
      },
      "outputs": [
        {
          "data": {
            "text/html": [
              "<div>\n",
              "<style scoped>\n",
              "    .dataframe tbody tr th:only-of-type {\n",
              "        vertical-align: middle;\n",
              "    }\n",
              "\n",
              "    .dataframe tbody tr th {\n",
              "        vertical-align: top;\n",
              "    }\n",
              "\n",
              "    .dataframe thead th {\n",
              "        text-align: right;\n",
              "    }\n",
              "</style>\n",
              "<table border=\"1\" class=\"dataframe\">\n",
              "  <thead>\n",
              "    <tr style=\"text-align: right;\">\n",
              "      <th></th>\n",
              "      <th>Historical Period</th>\n",
              "      <th>height</th>\n",
              "      <th>diam</th>\n",
              "      <th>width</th>\n",
              "      <th>depth</th>\n",
              "      <th>num_period</th>\n",
              "      <th>medium_num</th>\n",
              "      <th>classif_num</th>\n",
              "      <th>culture_num</th>\n",
              "    </tr>\n",
              "  </thead>\n",
              "  <tbody>\n",
              "    <tr>\n",
              "      <th>0</th>\n",
              "      <td>Antiquity</td>\n",
              "      <td>7.1</td>\n",
              "      <td>-1.0</td>\n",
              "      <td>10.8</td>\n",
              "      <td>-1.0</td>\n",
              "      <td>4.0</td>\n",
              "      <td>3.046062</td>\n",
              "      <td>2.533376</td>\n",
              "      <td>2.136866</td>\n",
              "    </tr>\n",
              "    <tr>\n",
              "      <th>1</th>\n",
              "      <td>Antiquity</td>\n",
              "      <td>-1.0</td>\n",
              "      <td>3.7</td>\n",
              "      <td>-1.0</td>\n",
              "      <td>-1.0</td>\n",
              "      <td>4.0</td>\n",
              "      <td>3.046062</td>\n",
              "      <td>3.998735</td>\n",
              "      <td>4.000000</td>\n",
              "    </tr>\n",
              "    <tr>\n",
              "      <th>2</th>\n",
              "      <td>Antiquity</td>\n",
              "      <td>2.9</td>\n",
              "      <td>-1.0</td>\n",
              "      <td>9.2</td>\n",
              "      <td>-1.0</td>\n",
              "      <td>4.0</td>\n",
              "      <td>3.875496</td>\n",
              "      <td>3.993417</td>\n",
              "      <td>3.905965</td>\n",
              "    </tr>\n",
              "    <tr>\n",
              "      <th>3</th>\n",
              "      <td>Antiquity</td>\n",
              "      <td>2.7</td>\n",
              "      <td>-1.0</td>\n",
              "      <td>2.2</td>\n",
              "      <td>-1.0</td>\n",
              "      <td>4.0</td>\n",
              "      <td>3.046062</td>\n",
              "      <td>2.533376</td>\n",
              "      <td>3.301802</td>\n",
              "    </tr>\n",
              "    <tr>\n",
              "      <th>4</th>\n",
              "      <td>Antiquity</td>\n",
              "      <td>-1.0</td>\n",
              "      <td>-1.0</td>\n",
              "      <td>-1.0</td>\n",
              "      <td>-1.0</td>\n",
              "      <td>4.0</td>\n",
              "      <td>3.119048</td>\n",
              "      <td>2.533376</td>\n",
              "      <td>3.841270</td>\n",
              "    </tr>\n",
              "  </tbody>\n",
              "</table>\n",
              "</div>"
            ],
            "text/plain": [
              "  Historical Period  height  diam  width  depth  num_period  medium_num  \\\n",
              "0         Antiquity     7.1  -1.0   10.8   -1.0         4.0    3.046062   \n",
              "1         Antiquity    -1.0   3.7   -1.0   -1.0         4.0    3.046062   \n",
              "2         Antiquity     2.9  -1.0    9.2   -1.0         4.0    3.875496   \n",
              "3         Antiquity     2.7  -1.0    2.2   -1.0         4.0    3.046062   \n",
              "4         Antiquity    -1.0  -1.0   -1.0   -1.0         4.0    3.119048   \n",
              "\n",
              "   classif_num  culture_num  \n",
              "0     2.533376     2.136866  \n",
              "1     3.998735     4.000000  \n",
              "2     3.993417     3.905965  \n",
              "3     2.533376     3.301802  \n",
              "4     2.533376     3.841270  "
            ]
          },
          "execution_count": 53,
          "metadata": {},
          "output_type": "execute_result"
        }
      ],
      "source": [
        "import pandas as pd\n",
        "\n",
        "#df = pd.read_csv('../data/museum_data_mean_target_encoding.csv')\n",
        "df_train = pd.read_csv(\"./data/train_set.csv\")\n",
        "#df_train.drop(['Unnamed: 0', 'Object Begin Date'], axis=1, inplace=True)\n",
        "\n",
        "df_test = pd.read_csv(\"./data/test_set.csv\")\n",
        "#df_test.drop(['Unnamed: 0', 'Object Begin Date'], axis=1, inplace=True)\n",
        "df_train.head()"
      ]
    },
    {
      "cell_type": "code",
      "execution_count": 54,
      "metadata": {
        "colab": {
          "base_uri": "https://localhost:8080/"
        },
        "id": "ziDgjlIvzZMZ",
        "outputId": "eb18fa88-71f9-4242-9ec8-c041abf096aa"
      },
      "outputs": [],
      "source": [
        "#from google.colab import drive\n",
        "#drive.mount('/content/drive')"
      ]
    },
    {
      "cell_type": "code",
      "execution_count": 55,
      "metadata": {
        "colab": {
          "base_uri": "https://localhost:8080/"
        },
        "id": "tDXPfCRMzRMF",
        "outputId": "e9d6f5e7-5724-41e3-81ef-58bb1efff5d8"
      },
      "outputs": [
        {
          "data": {
            "text/plain": [
              "Historical Period    Contemporary Era\n",
              "height                          241.9\n",
              "diam                             -1.0\n",
              "width                           117.5\n",
              "depth                            -1.0\n",
              "num_period                        1.0\n",
              "medium_num                   1.728041\n",
              "classif_num                  2.153191\n",
              "culture_num                  2.136866\n",
              "Name: 20000, dtype: object"
            ]
          },
          "execution_count": 55,
          "metadata": {},
          "output_type": "execute_result"
        }
      ],
      "source": [
        "df_train.iloc[20000,:]"
      ]
    },
    {
      "cell_type": "markdown",
      "metadata": {
        "id": "xxkcVDm-zRMG"
      },
      "source": [
        "### Preprocessing\n",
        "\n",
        "#### Get X and y"
      ]
    },
    {
      "cell_type": "code",
      "execution_count": 56,
      "metadata": {
        "colab": {
          "base_uri": "https://localhost:8080/"
        },
        "id": "3ksPg9rvzRMJ",
        "outputId": "7376b1cf-298d-402e-8a7f-5d2529664168"
      },
      "outputs": [
        {
          "data": {
            "text/plain": [
              "array([[1., 0., 0., 0.],\n",
              "       [1., 0., 0., 0.],\n",
              "       [1., 0., 0., 0.],\n",
              "       ...,\n",
              "       [0., 0., 0., 1.],\n",
              "       [0., 0., 0., 1.],\n",
              "       [0., 0., 0., 1.]])"
            ]
          },
          "execution_count": 56,
          "metadata": {},
          "output_type": "execute_result"
        }
      ],
      "source": [
        "from sklearn.preprocessing import OneHotEncoder\n",
        "import numpy as np\n",
        "\n",
        "periods_train = np.array(df_train[\"Historical Period\"]).reshape(-1, 1)\n",
        "\n",
        "ohe = OneHotEncoder(sparse=False)\n",
        "ohe.fit(periods_train)\n",
        "y_ohe_train = ohe.transform(periods_train)\n",
        "\n",
        "periods_test = np.array(df_test[\"Historical Period\"]).reshape(-1, 1)\n",
        "y_ohe_test = ohe.transform(periods_test)\n",
        "y_ohe_train"
      ]
    },
    {
      "cell_type": "code",
      "execution_count": 57,
      "metadata": {
        "id": "FhVfkaWIzRMK"
      },
      "outputs": [],
      "source": [
        "# key: name of the class; item: index of the column in y\n",
        "#dico_period_ohe = {\"Modern Times\":3, \"Contemporary Era\":1, \"Antiquity\":0, \"Middle Ages\":2}"
      ]
    },
    {
      "cell_type": "code",
      "execution_count": 58,
      "metadata": {
        "colab": {
          "base_uri": "https://localhost:8080/"
        },
        "id": "_-GwykEzzRMM",
        "outputId": "daf8058e-cb18-4f56-b463-bd1bcf515a54"
      },
      "outputs": [
        {
          "data": {
            "text/plain": [
              "array([4., 4., 4., ..., 2., 2., 2.])"
            ]
          },
          "execution_count": 58,
          "metadata": {},
          "output_type": "execute_result"
        }
      ],
      "source": [
        "import numpy as np\n",
        "y_train = np.array(df_train[\"num_period\"])\n",
        "y_train"
      ]
    },
    {
      "cell_type": "code",
      "execution_count": 59,
      "metadata": {
        "colab": {
          "base_uri": "https://localhost:8080/"
        },
        "id": "Zqa1JWEuzRMN",
        "outputId": "97f512e3-385a-49a9-cf6a-df4b5fee98f3"
      },
      "outputs": [
        {
          "data": {
            "text/plain": [
              "(40180, 7)"
            ]
          },
          "execution_count": 59,
          "metadata": {},
          "output_type": "execute_result"
        }
      ],
      "source": [
        "X_train = np.array(df_train.drop(columns=[\"Historical Period\", \"num_period\"]))\n",
        "X_train.shape"
      ]
    },
    {
      "cell_type": "code",
      "execution_count": 60,
      "metadata": {
        "id": "ilSwUQ5czRMO"
      },
      "outputs": [],
      "source": [
        "y_test = np.array(df_test[\"num_period\"])\n",
        "X_test = np.array(df_test.drop(columns=[\"Historical Period\", \"num_period\"]))"
      ]
    },
    {
      "cell_type": "code",
      "execution_count": 61,
      "metadata": {
        "id": "2nbjJxqJzRMG"
      },
      "outputs": [],
      "source": [
        "# keys: initial classes ; values: position of the column in ohe output data\n",
        "#dico_map_init_ohe = {\"1.0\":\"Contemporary Era\", \"2.0\":\"Modern Times\", \"3.0\":\"Middle Ages\", \"4.0\":\"Antiquity\"}\n",
        "#map_period = {\"Antiquity\":1., \"Contemporary Era\": 2., \"Middle Ages\":3., \"Modern Times\":4.}\n",
        "dico_map_ohe = {}\n",
        "\n",
        "for i,val in enumerate(y_test):\n",
        "  if val not in dico_map_ohe.keys():\n",
        "    dico_map_ohe[val] = np.argmax(y_ohe_test[i,:])\n",
        "  if len(dico_map_ohe)==4:\n",
        "    break"
      ]
    },
    {
      "cell_type": "code",
      "execution_count": 62,
      "metadata": {
        "colab": {
          "base_uri": "https://localhost:8080/"
        },
        "id": "Jdn0jkiRA8sh",
        "outputId": "359bd895-1e8b-48f4-efb1-6d300bbd2951"
      },
      "outputs": [
        {
          "data": {
            "text/plain": [
              "{4.0: 0, 1.0: 1, 3.0: 2, 2.0: 3}"
            ]
          },
          "execution_count": 62,
          "metadata": {},
          "output_type": "execute_result"
        }
      ],
      "source": [
        "dico_map_ohe"
      ]
    },
    {
      "cell_type": "code",
      "execution_count": 63,
      "metadata": {
        "id": "QoG5NMvA-jSb"
      },
      "outputs": [],
      "source": [
        "y_train_ = [dico_map_ohe[target] for target in y_train]\n",
        "y_test_ = [dico_map_ohe[target] for target in y_test]"
      ]
    },
    {
      "cell_type": "markdown",
      "metadata": {
        "id": "Z4P9O07gzRMO"
      },
      "source": [
        "#### Rescaling the features"
      ]
    },
    {
      "cell_type": "markdown",
      "metadata": {
        "id": "6Klp7WoMzRMP"
      },
      "source": [
        "medium_num, culture_num and classif_num are bounded between 1 and 4 by construction (fine).\n",
        "\n",
        "\n",
        "Let's transform the features related to dimensions: height, width, depth and diam. It doesn't really make sense (from a physical point of view) to normalize them to zero mean and unit variance. Instead, let's rescale them so that they are between 0 and 1:"
      ]
    },
    {
      "cell_type": "code",
      "execution_count": 64,
      "metadata": {
        "colab": {
          "base_uri": "https://localhost:8080/"
        },
        "id": "S52pfLx8zRMP",
        "outputId": "e395d1fd-7731-4de6-9291-bbd223e452da"
      },
      "outputs": [
        {
          "data": {
            "text/plain": [
              "array([ 7.1       , -1.        , 10.8       , -1.        ,  3.04606152,\n",
              "        2.53337623,  2.13686557])"
            ]
          },
          "execution_count": 64,
          "metadata": {},
          "output_type": "execute_result"
        }
      ],
      "source": [
        "X_train[0,:]"
      ]
    },
    {
      "cell_type": "code",
      "execution_count": 65,
      "metadata": {
        "id": "vdysC5oEzRMQ"
      },
      "outputs": [],
      "source": [
        "from sklearn.preprocessing import MinMaxScaler\n",
        "\n",
        "scaler = MinMaxScaler()\n",
        "scaler.fit(X_train[:,:4])\n",
        "dims_train_minmax = scaler.transform(X_train[:,:4])"
      ]
    },
    {
      "cell_type": "code",
      "execution_count": 66,
      "metadata": {
        "colab": {
          "base_uri": "https://localhost:8080/"
        },
        "id": "qT6qrgUpzRMQ",
        "outputId": "7ec2c6a5-d09b-42ee-8a14-bacfa2bc258d"
      },
      "outputs": [
        {
          "name": "stdout",
          "output_type": "stream",
          "text": [
            "[0. 0. 0. 0.] [1. 1. 1. 1.]\n"
          ]
        }
      ],
      "source": [
        "# check\n",
        "print(np.min(dims_train_minmax, axis=0), np.max(dims_train_minmax, axis=0))"
      ]
    },
    {
      "cell_type": "code",
      "execution_count": 67,
      "metadata": {
        "colab": {
          "base_uri": "https://localhost:8080/"
        },
        "id": "MkS9xBMKzRMR",
        "outputId": "b9ed612b-e1b1-4f0d-8512-13a29a853562"
      },
      "outputs": [
        {
          "name": "stdout",
          "output_type": "stream",
          "text": [
            "[0.00339836 0.         0.00640886 0.         3.04606152 2.53337623\n",
            " 2.13686557]\n"
          ]
        }
      ],
      "source": [
        "X_train[:,:4] = dims_train_minmax\n",
        "print(X_train[0,:])"
      ]
    },
    {
      "cell_type": "code",
      "execution_count": 68,
      "metadata": {
        "colab": {
          "base_uri": "https://localhost:8080/"
        },
        "id": "-nPSIi30zRMR",
        "outputId": "d03296a1-bec3-4694-a254-a2059699e909"
      },
      "outputs": [
        {
          "data": {
            "text/plain": [
              "array([0.        , 0.00655793, 0.        , 0.        , 2.93310463,\n",
              "       3.05988515, 2.96666667])"
            ]
          },
          "execution_count": 68,
          "metadata": {},
          "output_type": "execute_result"
        }
      ],
      "source": [
        "# apply the same transformation on testing set\n",
        "dims_test_minmax = scaler.transform(X_test[:,:4])\n",
        "X_test[:,:4] = dims_test_minmax\n",
        "X_test[0,:]"
      ]
    },
    {
      "cell_type": "markdown",
      "metadata": {
        "id": "c13dJzIuzRMS"
      },
      "source": [
        "### Deep learning architectures\n",
        "\n",
        "MLP"
      ]
    },
    {
      "cell_type": "code",
      "execution_count": 69,
      "metadata": {
        "cellView": "form",
        "id": "I2wE7O0F1-vx"
      },
      "outputs": [],
      "source": [
        "#@title Imports libraries\n",
        "import numpy as np\n",
        "import matplotlib.pyplot as plt\n",
        "from keras import layers\n",
        "from tensorflow.keras.models import Sequential, Model\n",
        "from tensorflow.keras.layers import Dense, Dropout, Activation, Flatten, Input\n",
        "from glob import glob\n",
        "import os\n",
        "import tensorflow as tf\n",
        "from sklearn.metrics import confusion_matrix\n",
        "import seaborn as sns"
      ]
    },
    {
      "cell_type": "code",
      "execution_count": 70,
      "metadata": {
        "id": "fi2MJ_4d2K-T"
      },
      "outputs": [],
      "source": [
        "num_features = X_train.shape[1]\n",
        "num_classes = 4\n",
        "\n",
        "mlp_baseline = Sequential()\n",
        "mlp_baseline.add(Dense(10, activation='relu'))\n",
        "mlp_baseline.add(Dense(num_classes, activation = 'softmax'))"
      ]
    },
    {
      "cell_type": "code",
      "execution_count": 71,
      "metadata": {
        "colab": {
          "base_uri": "https://localhost:8080/"
        },
        "id": "l6Hgj22f3Y7a",
        "outputId": "df40764c-c29a-47ec-ed15-5464ec02ce5b"
      },
      "outputs": [
        {
          "name": "stdout",
          "output_type": "stream",
          "text": [
            "Epoch 1/5\n",
            "1256/1256 [==============================] - 4s 3ms/step - loss: 1.1081 - accuracy: 0.5069\n",
            "Epoch 2/5\n",
            "1256/1256 [==============================] - 3s 2ms/step - loss: 0.8154 - accuracy: 0.6604\n",
            "Epoch 3/5\n",
            "1256/1256 [==============================] - 4s 3ms/step - loss: 0.7560 - accuracy: 0.6888\n",
            "Epoch 4/5\n",
            "1256/1256 [==============================] - 4s 3ms/step - loss: 0.7357 - accuracy: 0.6928\n",
            "Epoch 5/5\n",
            "1256/1256 [==============================] - 4s 3ms/step - loss: 0.7257 - accuracy: 0.6968\n"
          ]
        },
        {
          "data": {
            "text/plain": [
              "<keras.callbacks.History at 0x215042b0160>"
            ]
          },
          "execution_count": 71,
          "metadata": {},
          "output_type": "execute_result"
        }
      ],
      "source": [
        "mlp_baseline.compile(optimizer='adam',\n",
        "              loss = 'categorical_crossentropy',\n",
        "              metrics=['accuracy'])\n",
        "mlp_baseline.fit(X_train, y_ohe_train, epochs=5)"
      ]
    },
    {
      "cell_type": "code",
      "execution_count": 72,
      "metadata": {
        "colab": {
          "base_uri": "https://localhost:8080/"
        },
        "id": "iXs_fqwc33BW",
        "outputId": "0e287f04-5ce1-4561-d30c-6338256263a4"
      },
      "outputs": [
        {
          "name": "stdout",
          "output_type": "stream",
          "text": [
            "Model: \"sequential_6\"\n",
            "_________________________________________________________________\n",
            "Layer (type)                 Output Shape              Param #   \n",
            "=================================================================\n",
            "dense_27 (Dense)             (None, 10)                80        \n",
            "_________________________________________________________________\n",
            "dense_28 (Dense)             (None, 4)                 44        \n",
            "=================================================================\n",
            "Total params: 124\n",
            "Trainable params: 124\n",
            "Non-trainable params: 0\n",
            "_________________________________________________________________\n"
          ]
        }
      ],
      "source": [
        "mlp_baseline.summary()"
      ]
    },
    {
      "cell_type": "code",
      "execution_count": 73,
      "metadata": {
        "id": "w6oLIqxDzRMS"
      },
      "outputs": [],
      "source": [
        "def plot_confusion_matrix(model, X_test, y_test, model_name=\"\"):\n",
        "    from sklearn.metrics import confusion_matrix\n",
        "    import matplotlib.pyplot as plt\n",
        "    import seaborn as sns\n",
        "\n",
        "    #preds = model.predict(X_test)\n",
        "    preds = np.argmax(model.predict(X_test), axis=1) # adapt to softmax\n",
        "    conf_mat = confusion_matrix(y_test, preds)\n",
        "    plt.figure(figsize=(8,8))\n",
        "    sns.heatmap(conf_mat, cmap=\"Blues\",\n",
        "    annot=True,\n",
        "    )\n",
        "    plt.title(\"Confusion matrix of {}\".format(model_name))\n",
        "    plt.xlabel(\"Predicted class\")\n",
        "    plt.ylabel(\"True class\")\n",
        "    plt.show()"
      ]
    },
    {
      "cell_type": "code",
      "execution_count": 74,
      "metadata": {
        "colab": {
          "base_uri": "https://localhost:8080/",
          "height": 513
        },
        "id": "CbyNLhBbzRMT",
        "outputId": "057eda77-45ee-4b58-b4ed-5bb8dfdc98f4"
      },
      "outputs": [
        {
          "data": {
            "image/png": "[encoded data removed]",
            "text/plain": [
              "<Figure size 576x576 with 2 Axes>"
            ]
          },
          "metadata": {
            "needs_background": "light"
          },
          "output_type": "display_data"
        }
      ],
      "source": [
        "plot_confusion_matrix(mlp_baseline, X_test, y_test=y_test_, model_name=\"Baseline Logistic Regression\")"
      ]
    },
    {
      "cell_type": "code",
      "execution_count": 75,
      "metadata": {
        "colab": {
          "base_uri": "https://localhost:8080/"
        },
        "id": "ngi8lJpmzRMT",
        "outputId": "84b8f691-0837-48e1-e237-2b99aa1f3a15"
      },
      "outputs": [
        {
          "data": {
            "text/plain": [
              "0.6844580471782622"
            ]
          },
          "execution_count": 75,
          "metadata": {},
          "output_type": "execute_result"
        }
      ],
      "source": [
        "#from sklearn.metrics import log_loss\n",
        "from sklearn.metrics import accuracy_score\n",
        "\n",
        "accuracy_score(y_test_, np.argmax(mlp_baseline.predict(X_test), axis=1))"
      ]
    },
    {
      "cell_type": "code",
      "execution_count": 76,
      "metadata": {
        "colab": {
          "base_uri": "https://localhost:8080/"
        },
        "id": "kyX5YG4pCFfF",
        "outputId": "62f62cc4-4156-493e-bdfb-5102fe4b1e78"
      },
      "outputs": [
        {
          "data": {
            "text/plain": [
              "0.6929318068690891"
            ]
          },
          "execution_count": 76,
          "metadata": {},
          "output_type": "execute_result"
        }
      ],
      "source": [
        "accuracy_score(y_train_, np.argmax(mlp_baseline.predict(X_train), axis=1))"
      ]
    },
    {
      "cell_type": "markdown",
      "metadata": {},
      "source": [
        "### Test other models"
      ]
    },
    {
      "cell_type": "code",
      "execution_count": 77,
      "metadata": {},
      "outputs": [],
      "source": [
        "tf.random.set_seed(1)\n",
        "model = Sequential()\n",
        "model.add(Dense(500, activation='relu'))\n",
        "model.add(Dense(300, activation='relu'))\n",
        "model.add(Dense(100, activation='relu'))\n",
        "model.add(Dense(10, activation='relu'))\n",
        "model.add(Dense(num_classes, activation = 'softmax'))"
      ]
    },
    {
      "cell_type": "code",
      "execution_count": 81,
      "metadata": {},
      "outputs": [
        {
          "name": "stdout",
          "output_type": "stream",
          "text": [
            "Epoch 1/5\n",
            "1256/1256 [==============================] - 8s 5ms/step - loss: 0.6110 - accuracy: 0.7451\n",
            "Epoch 2/5\n",
            "1256/1256 [==============================] - 7s 5ms/step - loss: 0.6030 - accuracy: 0.7491\n",
            "Epoch 3/5\n",
            "1256/1256 [==============================] - 8s 6ms/step - loss: 0.5979 - accuracy: 0.7497\n",
            "Epoch 4/5\n",
            "1256/1256 [==============================] - 7s 6ms/step - loss: 0.5926 - accuracy: 0.7531\n",
            "Epoch 5/5\n",
            "1256/1256 [==============================] - 8s 6ms/step - loss: 0.5876 - accuracy: 0.7538\n"
          ]
        },
        {
          "data": {
            "text/plain": [
              "<keras.callbacks.History at 0x215070193a0>"
            ]
          },
          "execution_count": 81,
          "metadata": {},
          "output_type": "execute_result"
        }
      ],
      "source": [
        "model.compile(optimizer='adam',\n",
        "              loss = 'categorical_crossentropy',\n",
        "              metrics=['accuracy'])\n",
        "model.fit(X_train, y_ohe_train, epochs=5)"
      ]
    },
    {
      "cell_type": "code",
      "execution_count": 82,
      "metadata": {},
      "outputs": [
        {
          "data": {
            "image/png": "[encoded data removed]",
            "text/plain": [
              "<Figure size 576x576 with 2 Axes>"
            ]
          },
          "metadata": {
            "needs_background": "light"
          },
          "output_type": "display_data"
        }
      ],
      "source": [
        "plot_confusion_matrix(model, X_test, y_test=y_test_)"
      ]
    },
    {
      "cell_type": "code",
      "execution_count": 83,
      "metadata": {},
      "outputs": [
        {
          "data": {
            "text/plain": [
              "0.7665256346441015"
            ]
          },
          "execution_count": 83,
          "metadata": {},
          "output_type": "execute_result"
        }
      ],
      "source": [
        "accuracy_score(y_train_, np.argmax(model.predict(X_train), axis=1))"
      ]
    },
    {
      "cell_type": "code",
      "execution_count": 84,
      "metadata": {},
      "outputs": [
        {
          "data": {
            "text/plain": [
              "0.7578381606449687"
            ]
          },
          "execution_count": 84,
          "metadata": {},
          "output_type": "execute_result"
        }
      ],
      "source": [
        "accuracy_score(y_test_, np.argmax(model.predict(X_test), axis=1))"
      ]
    },
    {
      "cell_type": "code",
      "execution_count": null,
      "metadata": {},
      "outputs": [],
      "source": [
        "Acc_train = []\n",
        "Acc_test = []\n",
        "for i in range (10):\n",
        "    tf.random.set_seed(1)\n",
        "    model = Sequential()\n",
        "    model.add(Dense(500, activation='relu'))\n",
        "    model.add(Dense(300, activation='relu'))\n",
        "    model.add(Dense(100, activation='relu'))\n",
        "    model.add(Dense(10, activation='relu'))\n",
        "    model.add(Dropout(i/10))\n",
        "    model.add(Dense(num_classes, activation = 'softmax'))\n",
        "    model.compile(optimizer='adam',\n",
        "              loss = 'categorical_crossentropy',\n",
        "              metrics=['accuracy'])\n",
        "    model.fit(X_train, y_ohe_train, epochs=5, verbose=False)\n",
        "    #plot_confusion_matrix(model, X_test, y_test=y_test_)\n",
        "    Acc_test.append(accuracy_score(y_test_, np.argmax(model.predict(X_test), axis=1)))\n",
        "    Acc_train.append(accuracy_score(y_train_, np.argmax(model.predict(X_train), axis=1)))"
      ]
    },
    {
      "cell_type": "code",
      "execution_count": 30,
      "metadata": {},
      "outputs": [
        {
          "data": {
            "text/plain": [
              "[<matplotlib.lines.Line2D at 0x20f3178c1f0>]"
            ]
          },
          "execution_count": 30,
          "metadata": {},
          "output_type": "execute_result"
        },
        {
          "data": {
            "image/png": "[encoded data removed]",
            "text/plain": [
              "<Figure size 432x288 with 1 Axes>"
            ]
          },
          "metadata": {
            "needs_background": "light"
          },
          "output_type": "display_data"
        }
      ],
      "source": [
        "x = np.arange(10)\n",
        "plt.plot(x/10,Acc_train)\n",
        "plt.plot(x/10,Acc_test)"
      ]
    }
  ],
  "metadata": {
    "colab": {
      "collapsed_sections": [],
      "name": "dl_culture.ipynb",
      "provenance": []
    },
    "interpreter": {
      "hash": "77c238a0cc12af622f616fb772f1cf88baee4107fd8364344241573b1fa60874"
    },
    "kernelspec": {
      "display_name": "Python 3.7.6 ('base')",
      "language": "python",
      "name": "python3"
    },
    "language_info": {
      "codemirror_mode": {
        "name": "ipython",
        "version": 3
      },
      "file_extension": ".py",
      "mimetype": "text/x-python",
      "name": "python",
      "nbconvert_exporter": "python",
      "pygments_lexer": "ipython3",
      "version": "3.9.7"
    },
    "orig_nbformat": 4
  },
  "nbformat": 4,
  "nbformat_minor": 0
}
