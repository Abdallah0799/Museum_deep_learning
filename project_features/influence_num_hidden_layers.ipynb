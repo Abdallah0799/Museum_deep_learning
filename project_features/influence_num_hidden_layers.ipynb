{
  "cells": [
    {
      "cell_type": "code",
      "source": [
        "import numpy as np\n",
        "import matplotlib.pyplot as plt\n",
        "\n",
        "from keras.layers import Input, Lambda, Dense, Flatten\n",
        "from keras.models import Model\n",
        "\n",
        "\n",
        "from keras.models import Sequential\n",
        "import numpy as np\n",
        "from glob import glob\n",
        "import matplotlib.pyplot as plt\n",
        "import os\n",
        "import tensorflow as tf\n",
        "from google.colab import drive"
      ],
      "metadata": {
        "id": "zMhjGJleEcHp"
      },
      "execution_count": 2,
      "outputs": []
    },
    {
      "cell_type": "code",
      "source": [
        "#get access to google colab\n",
        "drive.mount('/content/gdrive')"
      ],
      "metadata": {
        "colab": {
          "base_uri": "https://localhost:8080/"
        },
        "id": "U_hfKbOfEZPA",
        "outputId": "1924b104-e911-4389-a788-d46ca19ee3d3"
      },
      "execution_count": 7,
      "outputs": [
        {
          "output_type": "stream",
          "name": "stdout",
          "text": [
            "Drive already mounted at /content/gdrive; to attempt to forcibly remount, call drive.mount(\"/content/gdrive\", force_remount=True).\n"
          ]
        }
      ]
    },
    {
      "cell_type": "code",
      "execution_count": 11,
      "metadata": {
        "colab": {
          "base_uri": "https://localhost:8080/",
          "height": 206
        },
        "id": "sA0STTVOzRL8",
        "outputId": "6e5da6e6-3326-4c7e-985f-6f071b30d3a9"
      },
      "outputs": [
        {
          "output_type": "execute_result",
          "data": {
            "text/plain": [
              "  Historical Period  height  diam  width  depth  num_period  medium_num  \\\n",
              "0         Antiquity     7.1  -1.0   10.8   -1.0         4.0    3.046062   \n",
              "1         Antiquity    -1.0   3.7   -1.0   -1.0         4.0    3.046062   \n",
              "2         Antiquity     2.9  -1.0    9.2   -1.0         4.0    3.875496   \n",
              "3         Antiquity     2.7  -1.0    2.2   -1.0         4.0    3.046062   \n",
              "4         Antiquity    -1.0  -1.0   -1.0   -1.0         4.0    3.119048   \n",
              "\n",
              "   classif_num  culture_num  \n",
              "0     2.533376     2.136866  \n",
              "1     3.998735     4.000000  \n",
              "2     3.993417     3.905965  \n",
              "3     2.533376     3.301802  \n",
              "4     2.533376     3.841270  "
            ],
            "text/html": [
              "\n",
              "  <div id=\"df-5ab9fba2-604b-45dc-a0d1-cfc119f8984e\">\n",
              "    <div class=\"colab-df-container\">\n",
              "      <div>\n",
              "<style scoped>\n",
              "    .dataframe tbody tr th:only-of-type {\n",
              "        vertical-align: middle;\n",
              "    }\n",
              "\n",
              "    .dataframe tbody tr th {\n",
              "        vertical-align: top;\n",
              "    }\n",
              "\n",
              "    .dataframe thead th {\n",
              "        text-align: right;\n",
              "    }\n",
              "</style>\n",
              "<table border=\"1\" class=\"dataframe\">\n",
              "  <thead>\n",
              "    <tr style=\"text-align: right;\">\n",
              "      <th></th>\n",
              "      <th>Historical Period</th>\n",
              "      <th>height</th>\n",
              "      <th>diam</th>\n",
              "      <th>width</th>\n",
              "      <th>depth</th>\n",
              "      <th>num_period</th>\n",
              "      <th>medium_num</th>\n",
              "      <th>classif_num</th>\n",
              "      <th>culture_num</th>\n",
              "    </tr>\n",
              "  </thead>\n",
              "  <tbody>\n",
              "    <tr>\n",
              "      <th>0</th>\n",
              "      <td>Antiquity</td>\n",
              "      <td>7.1</td>\n",
              "      <td>-1.0</td>\n",
              "      <td>10.8</td>\n",
              "      <td>-1.0</td>\n",
              "      <td>4.0</td>\n",
              "      <td>3.046062</td>\n",
              "      <td>2.533376</td>\n",
              "      <td>2.136866</td>\n",
              "    </tr>\n",
              "    <tr>\n",
              "      <th>1</th>\n",
              "      <td>Antiquity</td>\n",
              "      <td>-1.0</td>\n",
              "      <td>3.7</td>\n",
              "      <td>-1.0</td>\n",
              "      <td>-1.0</td>\n",
              "      <td>4.0</td>\n",
              "      <td>3.046062</td>\n",
              "      <td>3.998735</td>\n",
              "      <td>4.000000</td>\n",
              "    </tr>\n",
              "    <tr>\n",
              "      <th>2</th>\n",
              "      <td>Antiquity</td>\n",
              "      <td>2.9</td>\n",
              "      <td>-1.0</td>\n",
              "      <td>9.2</td>\n",
              "      <td>-1.0</td>\n",
              "      <td>4.0</td>\n",
              "      <td>3.875496</td>\n",
              "      <td>3.993417</td>\n",
              "      <td>3.905965</td>\n",
              "    </tr>\n",
              "    <tr>\n",
              "      <th>3</th>\n",
              "      <td>Antiquity</td>\n",
              "      <td>2.7</td>\n",
              "      <td>-1.0</td>\n",
              "      <td>2.2</td>\n",
              "      <td>-1.0</td>\n",
              "      <td>4.0</td>\n",
              "      <td>3.046062</td>\n",
              "      <td>2.533376</td>\n",
              "      <td>3.301802</td>\n",
              "    </tr>\n",
              "    <tr>\n",
              "      <th>4</th>\n",
              "      <td>Antiquity</td>\n",
              "      <td>-1.0</td>\n",
              "      <td>-1.0</td>\n",
              "      <td>-1.0</td>\n",
              "      <td>-1.0</td>\n",
              "      <td>4.0</td>\n",
              "      <td>3.119048</td>\n",
              "      <td>2.533376</td>\n",
              "      <td>3.841270</td>\n",
              "    </tr>\n",
              "  </tbody>\n",
              "</table>\n",
              "</div>\n",
              "      <button class=\"colab-df-convert\" onclick=\"convertToInteractive('df-5ab9fba2-604b-45dc-a0d1-cfc119f8984e')\"\n",
              "              title=\"Convert this dataframe to an interactive table.\"\n",
              "              style=\"display:none;\">\n",
              "        \n",
              "  <svg xmlns=\"http://www.w3.org/2000/svg\" height=\"24px\"viewBox=\"0 0 24 24\"\n",
              "       width=\"24px\">\n",
              "    <path d=\"M0 0h24v24H0V0z\" fill=\"none\"/>\n",
              "    <path d=\"M18.56 5.44l.94 2.06.94-2.06 2.06-.94-2.06-.94-.94-2.06-.94 2.06-2.06.94zm-11 1L8.5 8.5l.94-2.06 2.06-.94-2.06-.94L8.5 2.5l-.94 2.06-2.06.94zm10 10l.94 2.06.94-2.06 2.06-.94-2.06-.94-.94-2.06-.94 2.06-2.06.94z\"/><path d=\"M17.41 7.96l-1.37-1.37c-.4-.4-.92-.59-1.43-.59-.52 0-1.04.2-1.43.59L10.3 9.45l-7.72 7.72c-.78.78-.78 2.05 0 2.83L4 21.41c.39.39.9.59 1.41.59.51 0 1.02-.2 1.41-.59l7.78-7.78 2.81-2.81c.8-.78.8-2.07 0-2.86zM5.41 20L4 18.59l7.72-7.72 1.47 1.35L5.41 20z\"/>\n",
              "  </svg>\n",
              "      </button>\n",
              "      \n",
              "  <style>\n",
              "    .colab-df-container {\n",
              "      display:flex;\n",
              "      flex-wrap:wrap;\n",
              "      gap: 12px;\n",
              "    }\n",
              "\n",
              "    .colab-df-convert {\n",
              "      background-color: #E8F0FE;\n",
              "      border: none;\n",
              "      border-radius: 50%;\n",
              "      cursor: pointer;\n",
              "      display: none;\n",
              "      fill: #1967D2;\n",
              "      height: 32px;\n",
              "      padding: 0 0 0 0;\n",
              "      width: 32px;\n",
              "    }\n",
              "\n",
              "    .colab-df-convert:hover {\n",
              "      background-color: #E2EBFA;\n",
              "      box-shadow: 0px 1px 2px rgba(60, 64, 67, 0.3), 0px 1px 3px 1px rgba(60, 64, 67, 0.15);\n",
              "      fill: #174EA6;\n",
              "    }\n",
              "\n",
              "    [theme=dark] .colab-df-convert {\n",
              "      background-color: #3B4455;\n",
              "      fill: #D2E3FC;\n",
              "    }\n",
              "\n",
              "    [theme=dark] .colab-df-convert:hover {\n",
              "      background-color: #434B5C;\n",
              "      box-shadow: 0px 1px 3px 1px rgba(0, 0, 0, 0.15);\n",
              "      filter: drop-shadow(0px 1px 2px rgba(0, 0, 0, 0.3));\n",
              "      fill: #FFFFFF;\n",
              "    }\n",
              "  </style>\n",
              "\n",
              "      <script>\n",
              "        const buttonEl =\n",
              "          document.querySelector('#df-5ab9fba2-604b-45dc-a0d1-cfc119f8984e button.colab-df-convert');\n",
              "        buttonEl.style.display =\n",
              "          google.colab.kernel.accessAllowed ? 'block' : 'none';\n",
              "\n",
              "        async function convertToInteractive(key) {\n",
              "          const element = document.querySelector('#df-5ab9fba2-604b-45dc-a0d1-cfc119f8984e');\n",
              "          const dataTable =\n",
              "            await google.colab.kernel.invokeFunction('convertToInteractive',\n",
              "                                                     [key], {});\n",
              "          if (!dataTable) return;\n",
              "\n",
              "          const docLinkHtml = 'Like what you see? Visit the ' +\n",
              "            '<a target=\"_blank\" href=https://colab.research.google.com/notebooks/data_table.ipynb>data table notebook</a>'\n",
              "            + ' to learn more about interactive tables.';\n",
              "          element.innerHTML = '';\n",
              "          dataTable['output_type'] = 'display_data';\n",
              "          await google.colab.output.renderOutput(dataTable, element);\n",
              "          const docLink = document.createElement('div');\n",
              "          docLink.innerHTML = docLinkHtml;\n",
              "          element.appendChild(docLink);\n",
              "        }\n",
              "      </script>\n",
              "    </div>\n",
              "  </div>\n",
              "  "
            ]
          },
          "metadata": {},
          "execution_count": 11
        }
      ],
      "source": [
        "import pandas as pd\n",
        "\n",
        "\n",
        "df_train = pd.read_csv(\"/content/gdrive/MyDrive/train_set.csv\")\n",
        "\n",
        "\n",
        "df_test = pd.read_csv(\"/content/gdrive/MyDrive/test_set.csv\")\n",
        "\n",
        "df_train.head()"
      ]
    },
    {
      "cell_type": "code",
      "execution_count": 12,
      "metadata": {
        "colab": {
          "base_uri": "https://localhost:8080/"
        },
        "id": "tDXPfCRMzRMF",
        "outputId": "206629f1-5af3-4839-f6d3-4d341458ff8a"
      },
      "outputs": [
        {
          "output_type": "execute_result",
          "data": {
            "text/plain": [
              "Historical Period    Contemporary Era\n",
              "height                          241.9\n",
              "diam                             -1.0\n",
              "width                           117.5\n",
              "depth                            -1.0\n",
              "num_period                        1.0\n",
              "medium_num                   1.728041\n",
              "classif_num                  2.153191\n",
              "culture_num                  2.136866\n",
              "Name: 20000, dtype: object"
            ]
          },
          "metadata": {},
          "execution_count": 12
        }
      ],
      "source": [
        "df_train.iloc[20000,:]"
      ]
    },
    {
      "cell_type": "markdown",
      "metadata": {
        "id": "xxkcVDm-zRMG"
      },
      "source": [
        "### Preprocessing\n",
        "\n",
        "#### Get X and y"
      ]
    },
    {
      "cell_type": "code",
      "execution_count": 13,
      "metadata": {
        "colab": {
          "base_uri": "https://localhost:8080/"
        },
        "id": "3ksPg9rvzRMJ",
        "outputId": "ded0cf80-1ed5-4a45-b505-5db8eb57bc3b"
      },
      "outputs": [
        {
          "output_type": "execute_result",
          "data": {
            "text/plain": [
              "array([[1., 0., 0., 0.],\n",
              "       [1., 0., 0., 0.],\n",
              "       [1., 0., 0., 0.],\n",
              "       ...,\n",
              "       [0., 0., 0., 1.],\n",
              "       [0., 0., 0., 1.],\n",
              "       [0., 0., 0., 1.]])"
            ]
          },
          "metadata": {},
          "execution_count": 13
        }
      ],
      "source": [
        "from sklearn.preprocessing import OneHotEncoder\n",
        "import numpy as np\n",
        "\n",
        "periods_train = np.array(df_train[\"Historical Period\"]).reshape(-1, 1)\n",
        "\n",
        "ohe = OneHotEncoder(sparse=False)\n",
        "ohe.fit(periods_train)\n",
        "y_ohe_train = ohe.transform(periods_train)\n",
        "\n",
        "periods_test = np.array(df_test[\"Historical Period\"]).reshape(-1, 1)\n",
        "y_ohe_test = ohe.transform(periods_test)\n",
        "y_ohe_train"
      ]
    },
    {
      "cell_type": "code",
      "execution_count": null,
      "metadata": {
        "id": "FhVfkaWIzRMK"
      },
      "outputs": [],
      "source": [
        "# key: name of the class; item: index of the column in y\n",
        "#dico_period_ohe = {\"Modern Times\":3, \"Contemporary Era\":1, \"Antiquity\":0, \"Middle Ages\":2}"
      ]
    },
    {
      "cell_type": "code",
      "execution_count": 14,
      "metadata": {
        "colab": {
          "base_uri": "https://localhost:8080/"
        },
        "id": "_-GwykEzzRMM",
        "outputId": "ddf276f0-6862-45dc-da7f-9533f770a490"
      },
      "outputs": [
        {
          "output_type": "execute_result",
          "data": {
            "text/plain": [
              "array([4., 4., 4., ..., 2., 2., 2.])"
            ]
          },
          "metadata": {},
          "execution_count": 14
        }
      ],
      "source": [
        "import numpy as np\n",
        "y_train = np.array(df_train[\"num_period\"])\n",
        "y_train"
      ]
    },
    {
      "cell_type": "code",
      "execution_count": 15,
      "metadata": {
        "colab": {
          "base_uri": "https://localhost:8080/"
        },
        "id": "Zqa1JWEuzRMN",
        "outputId": "ac3f1ebc-0cef-44b0-befe-bdfd653a5f04"
      },
      "outputs": [
        {
          "output_type": "execute_result",
          "data": {
            "text/plain": [
              "(40180, 7)"
            ]
          },
          "metadata": {},
          "execution_count": 15
        }
      ],
      "source": [
        "X_train = np.array(df_train.drop(columns=[\"Historical Period\", \"num_period\"]))\n",
        "X_train.shape"
      ]
    },
    {
      "cell_type": "code",
      "execution_count": 16,
      "metadata": {
        "id": "ilSwUQ5czRMO"
      },
      "outputs": [],
      "source": [
        "y_test = np.array(df_test[\"num_period\"])\n",
        "X_test = np.array(df_test.drop(columns=[\"Historical Period\", \"num_period\"]))"
      ]
    },
    {
      "cell_type": "code",
      "execution_count": 17,
      "metadata": {
        "id": "2nbjJxqJzRMG"
      },
      "outputs": [],
      "source": [
        "# keys: initial classes ; values: position of the column in ohe output data\n",
        "#dico_map_init_ohe = {\"1.0\":\"Contemporary Era\", \"2.0\":\"Modern Times\", \"3.0\":\"Middle Ages\", \"4.0\":\"Antiquity\"}\n",
        "#map_period = {\"Antiquity\":1., \"Contemporary Era\": 2., \"Middle Ages\":3., \"Modern Times\":4.}\n",
        "dico_map_ohe = {}\n",
        "\n",
        "for i,val in enumerate(y_test):\n",
        "  if val not in dico_map_ohe.keys():\n",
        "    dico_map_ohe[val] = np.argmax(y_ohe_test[i,:])\n",
        "  if len(dico_map_ohe)==4:\n",
        "    break"
      ]
    },
    {
      "cell_type": "code",
      "source": [
        "dico_map_ohe"
      ],
      "metadata": {
        "colab": {
          "base_uri": "https://localhost:8080/"
        },
        "id": "Jdn0jkiRA8sh",
        "outputId": "993105d6-67c7-4d81-9347-cf481b34a7bb"
      },
      "execution_count": 18,
      "outputs": [
        {
          "output_type": "execute_result",
          "data": {
            "text/plain": [
              "{1.0: 1, 2.0: 3, 3.0: 2, 4.0: 0}"
            ]
          },
          "metadata": {},
          "execution_count": 18
        }
      ]
    },
    {
      "cell_type": "code",
      "source": [
        "y_train_ = [dico_map_ohe[target] for target in y_train]\n",
        "y_test_ = [dico_map_ohe[target] for target in y_test]"
      ],
      "metadata": {
        "id": "QoG5NMvA-jSb"
      },
      "execution_count": 19,
      "outputs": []
    },
    {
      "cell_type": "markdown",
      "metadata": {
        "id": "Z4P9O07gzRMO"
      },
      "source": [
        "#### Rescaling the features"
      ]
    },
    {
      "cell_type": "markdown",
      "metadata": {
        "id": "6Klp7WoMzRMP"
      },
      "source": [
        "medium_num, culture_num and classif_num are bounded between 1 and 4 by construction (fine).\n",
        "\n",
        "\n",
        "Let's transform the features related to dimensions: height, width, depth and diam. It doesn't really make sense (from a physical point of view) to normalize them to zero mean and unit variance. Instead, let's rescale them so that they are between 0 and 1:"
      ]
    },
    {
      "cell_type": "code",
      "execution_count": 20,
      "metadata": {
        "colab": {
          "base_uri": "https://localhost:8080/"
        },
        "id": "S52pfLx8zRMP",
        "outputId": "0c0e377e-89e5-4648-c80f-4c9aae4dea9e"
      },
      "outputs": [
        {
          "output_type": "execute_result",
          "data": {
            "text/plain": [
              "array([ 7.1       , -1.        , 10.8       , -1.        ,  3.04606152,\n",
              "        2.53337623,  2.13686557])"
            ]
          },
          "metadata": {},
          "execution_count": 20
        }
      ],
      "source": [
        "X_train[0,:]"
      ]
    },
    {
      "cell_type": "code",
      "execution_count": 21,
      "metadata": {
        "id": "vdysC5oEzRMQ"
      },
      "outputs": [],
      "source": [
        "from sklearn.preprocessing import MinMaxScaler\n",
        "\n",
        "scaler = MinMaxScaler()\n",
        "scaler.fit(X_train[:,:4])\n",
        "dims_train_minmax = scaler.transform(X_train[:,:4])"
      ]
    },
    {
      "cell_type": "code",
      "execution_count": 22,
      "metadata": {
        "colab": {
          "base_uri": "https://localhost:8080/"
        },
        "id": "qT6qrgUpzRMQ",
        "outputId": "2a7d3506-75fc-4b43-8a98-f7f5ff1c7f76"
      },
      "outputs": [
        {
          "output_type": "stream",
          "name": "stdout",
          "text": [
            "[0. 0. 0. 0.] [1. 1. 1. 1.]\n"
          ]
        }
      ],
      "source": [
        "# check\n",
        "print(np.min(dims_train_minmax, axis=0), np.max(dims_train_minmax, axis=0))"
      ]
    },
    {
      "cell_type": "code",
      "execution_count": 23,
      "metadata": {
        "colab": {
          "base_uri": "https://localhost:8080/"
        },
        "id": "MkS9xBMKzRMR",
        "outputId": "341c04ef-3c9b-4fc0-d732-3772de238f6e"
      },
      "outputs": [
        {
          "output_type": "stream",
          "name": "stdout",
          "text": [
            "[0.00339836 0.         0.00640886 0.         3.04606152 2.53337623\n",
            " 2.13686557]\n"
          ]
        }
      ],
      "source": [
        "X_train[:,:4] = dims_train_minmax\n",
        "print(X_train[0,:])"
      ]
    },
    {
      "cell_type": "code",
      "execution_count": 24,
      "metadata": {
        "colab": {
          "base_uri": "https://localhost:8080/"
        },
        "id": "-nPSIi30zRMR",
        "outputId": "57e659d9-deac-4a41-e847-1bc46fe07e1f"
      },
      "outputs": [
        {
          "output_type": "execute_result",
          "data": {
            "text/plain": [
              "array([0.        , 0.00655793, 0.        , 0.        , 2.93310463,\n",
              "       3.05988515, 2.96666667])"
            ]
          },
          "metadata": {},
          "execution_count": 24
        }
      ],
      "source": [
        "# apply the same transformation on testing set\n",
        "dims_test_minmax = scaler.transform(X_test[:,:4])\n",
        "X_test[:,:4] = dims_test_minmax\n",
        "X_test[0,:]"
      ]
    },
    {
      "cell_type": "markdown",
      "metadata": {
        "id": "c13dJzIuzRMS"
      },
      "source": [
        "### Deep learning architectures\n",
        "\n",
        "MLP"
      ]
    },
    {
      "cell_type": "code",
      "source": [
        "#@title Imports libraries\n",
        "import numpy as np\n",
        "import matplotlib.pyplot as plt\n",
        "from keras import layers\n",
        "from tensorflow.keras.models import Sequential, Model\n",
        "from tensorflow.keras.layers import Dense, Dropout, Activation, Flatten, Input\n",
        "from glob import glob\n",
        "import os\n",
        "import tensorflow as tf\n",
        "from sklearn.metrics import confusion_matrix\n",
        "import seaborn as sns"
      ],
      "metadata": {
        "cellView": "form",
        "id": "I2wE7O0F1-vx"
      },
      "execution_count": 25,
      "outputs": []
    },
    {
      "cell_type": "code",
      "source": [
        "def mlp_depending_num_hidden_layers(n_hidden_layers, num_classes):\n",
        "  mlp_baseline = Sequential()\n",
        "  for i in range(n_hidden_layers):\n",
        "    mlp_baseline.add(Dense(10, activation='relu'))\n",
        "  \n",
        "  mlp_baseline.add(Dense(num_classes, activation = 'softmax'))\n",
        "  mlp_baseline.compile(optimizer='adam',\n",
        "              loss = 'categorical_crossentropy',\n",
        "              metrics=['accuracy'])\n",
        "  mlp_baseline.fit(X_train, y_ohe_train, epochs=10, verbose=False)\n",
        "  score = mlp_baseline.evaluate(X_test, y_ohe_test, verbose=False)\n",
        "  return score[1]\n",
        "\n"
      ],
      "metadata": {
        "id": "MYuluEiKIr_O"
      },
      "execution_count": 47,
      "outputs": []
    },
    {
      "cell_type": "code",
      "source": [
        "import random\n",
        "random.seed(42)"
      ],
      "metadata": {
        "id": "-xfSORmeTnD5"
      },
      "execution_count": 49,
      "outputs": []
    },
    {
      "cell_type": "code",
      "source": [
        "accuracy = []\n",
        "for i in range(1,11):\n",
        "  acc = mlp_depending_num_hidden_layers(n_hidden_layers=i, num_classes=4)\n",
        "  accuracy.append(acc)\n",
        "  print(f'num_hidden_layers : {i}')\n",
        "\n",
        "plt.plot(accuracy)\n",
        "plt.xlabel(\"number of hidden layers\")\n",
        "plt.ylabel(\"Accuracy\")\n",
        "plt.title(\"Test Accuracy depending on the numer of hidden layers with a fixed number of neurons\")\n",
        "plt.show()"
      ],
      "metadata": {
        "colab": {
          "base_uri": "https://localhost:8080/",
          "height": 469
        },
        "id": "a1ZEaxTFJsN8",
        "outputId": "6ba2af06-241b-4d6d-b9aa-1ee833d3f886"
      },
      "execution_count": 50,
      "outputs": [
        {
          "output_type": "stream",
          "name": "stdout",
          "text": [
            "num_hidden_layers : 1\n",
            "num_hidden_layers : 2\n",
            "num_hidden_layers : 3\n",
            "num_hidden_layers : 4\n",
            "num_hidden_layers : 5\n",
            "num_hidden_layers : 6\n",
            "num_hidden_layers : 7\n",
            "num_hidden_layers : 8\n",
            "num_hidden_layers : 9\n",
            "num_hidden_layers : 10\n"
          ]
        },
        {
          "output_type": "display_data",
          "data": {
            "text/plain": [
              "<Figure size 432x288 with 1 Axes>"
            ],
            "image/png": "[encoded data removed]"
          },
          "metadata": {
            "needs_background": "light"
          }
        }
      ]
    },
    {
      "cell_type": "markdown",
      "source": [
        "In each hidden layers, we consider 10 neurons.\n",
        "We see clearly that the accuracy on the test set is better with a number of hidden layer of 10. We don't have a global evolution of the performance with the the number of hidden layer"
      ],
      "metadata": {
        "id": "E-jAOWdUNdyP"
      }
    },
    {
      "cell_type": "markdown",
      "source": [
        "Let's take the best model, and build a confusion matrix"
      ],
      "metadata": {
        "id": "knPunJxwOlAW"
      }
    },
    {
      "cell_type": "code",
      "source": [
        "num_classes = 4\n",
        "\n",
        "best_model = Sequential()\n",
        "for i in range(1,11):\n",
        "  best_model.add(Dense(10, activation='relu'))\n",
        "\n",
        "best_model.add(Dense(num_classes, activation = 'softmax'))\n",
        "\n",
        "\n",
        "best_model.compile(optimizer='adam',\n",
        "              loss = 'categorical_crossentropy',\n",
        "              metrics=['accuracy'])\n",
        "\n",
        "best_model.fit(X_train, y_ohe_train, epochs=10)"
      ],
      "metadata": {
        "colab": {
          "base_uri": "https://localhost:8080/"
        },
        "id": "dqhRQjwjOpVN",
        "outputId": "bd1da12f-883a-4dbe-d044-57184c4dab9d"
      },
      "execution_count": 51,
      "outputs": [
        {
          "output_type": "stream",
          "name": "stdout",
          "text": [
            "Epoch 1/10\n",
            "1256/1256 [==============================] - 4s 2ms/step - loss: 0.8758 - accuracy: 0.6076\n",
            "Epoch 2/10\n",
            "1256/1256 [==============================] - 3s 2ms/step - loss: 0.6956 - accuracy: 0.7035\n",
            "Epoch 3/10\n",
            "1256/1256 [==============================] - 3s 2ms/step - loss: 0.6820 - accuracy: 0.7148\n",
            "Epoch 4/10\n",
            "1256/1256 [==============================] - 3s 2ms/step - loss: 0.6758 - accuracy: 0.7188\n",
            "Epoch 5/10\n",
            "1256/1256 [==============================] - 3s 2ms/step - loss: 0.6728 - accuracy: 0.7201\n",
            "Epoch 6/10\n",
            "1256/1256 [==============================] - 3s 2ms/step - loss: 0.6732 - accuracy: 0.7203\n",
            "Epoch 7/10\n",
            "1256/1256 [==============================] - 3s 2ms/step - loss: 0.6708 - accuracy: 0.7200\n",
            "Epoch 8/10\n",
            "1256/1256 [==============================] - 3s 2ms/step - loss: 0.6699 - accuracy: 0.7196\n",
            "Epoch 9/10\n",
            "1256/1256 [==============================] - 3s 2ms/step - loss: 0.6657 - accuracy: 0.7226\n",
            "Epoch 10/10\n",
            "1256/1256 [==============================] - 3s 2ms/step - loss: 0.6634 - accuracy: 0.7230\n"
          ]
        },
        {
          "output_type": "execute_result",
          "data": {
            "text/plain": [
              "<keras.callbacks.History at 0x7fee3dc68c10>"
            ]
          },
          "metadata": {},
          "execution_count": 51
        }
      ]
    },
    {
      "cell_type": "code",
      "execution_count": 52,
      "metadata": {
        "id": "w6oLIqxDzRMS"
      },
      "outputs": [],
      "source": [
        "def plot_confusion_matrix(model, X_test, y_test, model_name=\"\"):\n",
        "    from sklearn.metrics import confusion_matrix\n",
        "    import matplotlib.pyplot as plt\n",
        "    import seaborn as sns\n",
        "\n",
        "    #preds = model.predict(X_test)\n",
        "    preds = np.argmax(model.predict(X_test), axis=1) # adapt to softmax\n",
        "    conf_mat = confusion_matrix(y_test, preds)\n",
        "    plt.figure(figsize=(8,8))\n",
        "    sns.heatmap(conf_mat, cmap=\"Blues\",\n",
        "    annot=True,\n",
        "    )\n",
        "    plt.title(\"Confusion matrix of {}\".format(model_name))\n",
        "    plt.xlabel(\"Predicted class\")\n",
        "    plt.ylabel(\"True class\")\n",
        "    plt.show()"
      ]
    },
    {
      "cell_type": "code",
      "execution_count": 53,
      "metadata": {
        "colab": {
          "base_uri": "https://localhost:8080/",
          "height": 513
        },
        "id": "CbyNLhBbzRMT",
        "outputId": "df319307-2e5d-4c97-f3ef-d4520479bdbb"
      },
      "outputs": [
        {
          "output_type": "display_data",
          "data": {
            "text/plain": [
              "<Figure size 576x576 with 2 Axes>"
            ],
            "image/png": "[encoded data removed]"
          },
          "metadata": {
            "needs_background": "light"
          }
        }
      ],
      "source": [
        "plot_confusion_matrix(best_model, X_test, y_test=y_test_, model_name=\"MLP\")"
      ]
    }
  ],
  "metadata": {
    "interpreter": {
      "hash": "77c238a0cc12af622f616fb772f1cf88baee4107fd8364344241573b1fa60874"
    },
    "kernelspec": {
      "display_name": "Python 3.7.6 ('base')",
      "language": "python",
      "name": "python3"
    },
    "language_info": {
      "codemirror_mode": {
        "name": "ipython",
        "version": 3
      },
      "file_extension": ".py",
      "mimetype": "text/x-python",
      "name": "python",
      "nbconvert_exporter": "python",
      "pygments_lexer": "ipython3",
      "version": "3.7.6"
    },
    "orig_nbformat": 4,
    "colab": {
      "name": "dl_culture.ipynb",
      "provenance": [],
      "collapsed_sections": []
    }
  },
  "nbformat": 4,
  "nbformat_minor": 0
}