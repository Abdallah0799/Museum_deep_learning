{
 "cells": [
  {
   "cell_type": "code",
   "execution_count": 26,
   "metadata": {},
   "outputs": [
    {
     "data": {
      "text/html": [
       "<div>\n",
       "<style scoped>\n",
       "    .dataframe tbody tr th:only-of-type {\n",
       "        vertical-align: middle;\n",
       "    }\n",
       "\n",
       "    .dataframe tbody tr th {\n",
       "        vertical-align: top;\n",
       "    }\n",
       "\n",
       "    .dataframe thead th {\n",
       "        text-align: right;\n",
       "    }\n",
       "</style>\n",
       "<table border=\"1\" class=\"dataframe\">\n",
       "  <thead>\n",
       "    <tr style=\"text-align: right;\">\n",
       "      <th></th>\n",
       "      <th>Historical Period</th>\n",
       "      <th>height</th>\n",
       "      <th>diam</th>\n",
       "      <th>width</th>\n",
       "      <th>depth</th>\n",
       "      <th>num_period</th>\n",
       "      <th>medium_num</th>\n",
       "      <th>classif_num</th>\n",
       "      <th>culture_num</th>\n",
       "    </tr>\n",
       "  </thead>\n",
       "  <tbody>\n",
       "    <tr>\n",
       "      <th>0</th>\n",
       "      <td>Antiquity</td>\n",
       "      <td>7.1</td>\n",
       "      <td>-1.0</td>\n",
       "      <td>10.8</td>\n",
       "      <td>-1.0</td>\n",
       "      <td>4.0</td>\n",
       "      <td>3.046062</td>\n",
       "      <td>2.533376</td>\n",
       "      <td>2.136866</td>\n",
       "    </tr>\n",
       "    <tr>\n",
       "      <th>1</th>\n",
       "      <td>Antiquity</td>\n",
       "      <td>-1.0</td>\n",
       "      <td>3.7</td>\n",
       "      <td>-1.0</td>\n",
       "      <td>-1.0</td>\n",
       "      <td>4.0</td>\n",
       "      <td>3.046062</td>\n",
       "      <td>3.998735</td>\n",
       "      <td>4.000000</td>\n",
       "    </tr>\n",
       "    <tr>\n",
       "      <th>2</th>\n",
       "      <td>Antiquity</td>\n",
       "      <td>2.9</td>\n",
       "      <td>-1.0</td>\n",
       "      <td>9.2</td>\n",
       "      <td>-1.0</td>\n",
       "      <td>4.0</td>\n",
       "      <td>3.875496</td>\n",
       "      <td>3.993417</td>\n",
       "      <td>3.905965</td>\n",
       "    </tr>\n",
       "    <tr>\n",
       "      <th>3</th>\n",
       "      <td>Antiquity</td>\n",
       "      <td>2.7</td>\n",
       "      <td>-1.0</td>\n",
       "      <td>2.2</td>\n",
       "      <td>-1.0</td>\n",
       "      <td>4.0</td>\n",
       "      <td>3.046062</td>\n",
       "      <td>2.533376</td>\n",
       "      <td>3.301802</td>\n",
       "    </tr>\n",
       "    <tr>\n",
       "      <th>4</th>\n",
       "      <td>Antiquity</td>\n",
       "      <td>-1.0</td>\n",
       "      <td>-1.0</td>\n",
       "      <td>-1.0</td>\n",
       "      <td>-1.0</td>\n",
       "      <td>4.0</td>\n",
       "      <td>3.119048</td>\n",
       "      <td>2.533376</td>\n",
       "      <td>3.841270</td>\n",
       "    </tr>\n",
       "    <tr>\n",
       "      <th>...</th>\n",
       "      <td>...</td>\n",
       "      <td>...</td>\n",
       "      <td>...</td>\n",
       "      <td>...</td>\n",
       "      <td>...</td>\n",
       "      <td>...</td>\n",
       "      <td>...</td>\n",
       "      <td>...</td>\n",
       "      <td>...</td>\n",
       "    </tr>\n",
       "    <tr>\n",
       "      <th>40175</th>\n",
       "      <td>Modern Times</td>\n",
       "      <td>24.8</td>\n",
       "      <td>-1.0</td>\n",
       "      <td>-1.0</td>\n",
       "      <td>-1.0</td>\n",
       "      <td>2.0</td>\n",
       "      <td>1.982170</td>\n",
       "      <td>2.056168</td>\n",
       "      <td>2.136866</td>\n",
       "    </tr>\n",
       "    <tr>\n",
       "      <th>40176</th>\n",
       "      <td>Modern Times</td>\n",
       "      <td>2.5</td>\n",
       "      <td>-1.0</td>\n",
       "      <td>3.8</td>\n",
       "      <td>5.1</td>\n",
       "      <td>2.0</td>\n",
       "      <td>1.702391</td>\n",
       "      <td>1.991786</td>\n",
       "      <td>1.815829</td>\n",
       "    </tr>\n",
       "    <tr>\n",
       "      <th>40177</th>\n",
       "      <td>Modern Times</td>\n",
       "      <td>48.3</td>\n",
       "      <td>-1.0</td>\n",
       "      <td>-1.0</td>\n",
       "      <td>-1.0</td>\n",
       "      <td>2.0</td>\n",
       "      <td>2.076923</td>\n",
       "      <td>2.056168</td>\n",
       "      <td>2.136866</td>\n",
       "    </tr>\n",
       "    <tr>\n",
       "      <th>40178</th>\n",
       "      <td>Modern Times</td>\n",
       "      <td>3.2</td>\n",
       "      <td>-1.0</td>\n",
       "      <td>4.4</td>\n",
       "      <td>-1.0</td>\n",
       "      <td>2.0</td>\n",
       "      <td>2.182008</td>\n",
       "      <td>1.991786</td>\n",
       "      <td>1.815829</td>\n",
       "    </tr>\n",
       "    <tr>\n",
       "      <th>40179</th>\n",
       "      <td>Modern Times</td>\n",
       "      <td>3.4</td>\n",
       "      <td>-1.0</td>\n",
       "      <td>3.2</td>\n",
       "      <td>-1.0</td>\n",
       "      <td>2.0</td>\n",
       "      <td>1.702391</td>\n",
       "      <td>1.991786</td>\n",
       "      <td>1.815829</td>\n",
       "    </tr>\n",
       "  </tbody>\n",
       "</table>\n",
       "<p>40180 rows × 9 columns</p>\n",
       "</div>"
      ],
      "text/plain": [
       "      Historical Period  height  diam  width  depth  num_period  medium_num  \\\n",
       "0             Antiquity     7.1  -1.0   10.8   -1.0         4.0    3.046062   \n",
       "1             Antiquity    -1.0   3.7   -1.0   -1.0         4.0    3.046062   \n",
       "2             Antiquity     2.9  -1.0    9.2   -1.0         4.0    3.875496   \n",
       "3             Antiquity     2.7  -1.0    2.2   -1.0         4.0    3.046062   \n",
       "4             Antiquity    -1.0  -1.0   -1.0   -1.0         4.0    3.119048   \n",
       "...                 ...     ...   ...    ...    ...         ...         ...   \n",
       "40175      Modern Times    24.8  -1.0   -1.0   -1.0         2.0    1.982170   \n",
       "40176      Modern Times     2.5  -1.0    3.8    5.1         2.0    1.702391   \n",
       "40177      Modern Times    48.3  -1.0   -1.0   -1.0         2.0    2.076923   \n",
       "40178      Modern Times     3.2  -1.0    4.4   -1.0         2.0    2.182008   \n",
       "40179      Modern Times     3.4  -1.0    3.2   -1.0         2.0    1.702391   \n",
       "\n",
       "       classif_num  culture_num  \n",
       "0         2.533376     2.136866  \n",
       "1         3.998735     4.000000  \n",
       "2         3.993417     3.905965  \n",
       "3         2.533376     3.301802  \n",
       "4         2.533376     3.841270  \n",
       "...            ...          ...  \n",
       "40175     2.056168     2.136866  \n",
       "40176     1.991786     1.815829  \n",
       "40177     2.056168     2.136866  \n",
       "40178     1.991786     1.815829  \n",
       "40179     1.991786     1.815829  \n",
       "\n",
       "[40180 rows x 9 columns]"
      ]
     },
     "execution_count": 26,
     "metadata": {},
     "output_type": "execute_result"
    }
   ],
   "source": [
    "import pandas as pd\n",
    "\n",
    "#df = pd.read_csv('../data/museum_data_mean_target_encoding.csv')\n",
    "df_train = pd.read_csv(\"data/museum_data_mean_target_encoding_train.csv\")\n",
    "df_train.drop(['Unnamed: 0', 'Object Begin Date'], axis=1, inplace=True)\n",
    "\n",
    "df_test = pd.read_csv(\"data/museum_data_mean_target_encoding_test.csv\")\n",
    "df_test.drop(['Unnamed: 0', 'Object Begin Date'], axis=1, inplace=True)\n",
    "df_train"
   ]
  },
  {
   "cell_type": "code",
   "execution_count": 32,
   "metadata": {},
   "outputs": [
    {
     "data": {
      "text/html": [
       "<div>\n",
       "<style scoped>\n",
       "    .dataframe tbody tr th:only-of-type {\n",
       "        vertical-align: middle;\n",
       "    }\n",
       "\n",
       "    .dataframe tbody tr th {\n",
       "        vertical-align: top;\n",
       "    }\n",
       "\n",
       "    .dataframe thead th {\n",
       "        text-align: right;\n",
       "    }\n",
       "</style>\n",
       "<table border=\"1\" class=\"dataframe\">\n",
       "  <thead>\n",
       "    <tr style=\"text-align: right;\">\n",
       "      <th></th>\n",
       "      <th>Object ID</th>\n",
       "      <th>Object ID.1</th>\n",
       "      <th>Medium</th>\n",
       "      <th>Classification</th>\n",
       "      <th>Dimensions</th>\n",
       "      <th>Culture</th>\n",
       "      <th>Object Begin Date</th>\n",
       "      <th>Object End Date</th>\n",
       "    </tr>\n",
       "  </thead>\n",
       "  <tbody>\n",
       "    <tr>\n",
       "      <th>0</th>\n",
       "      <td>0</td>\n",
       "      <td>1</td>\n",
       "      <td>Gold</td>\n",
       "      <td>NaN</td>\n",
       "      <td>Dimensions unavailable</td>\n",
       "      <td>NaN</td>\n",
       "      <td>1853</td>\n",
       "      <td>1853</td>\n",
       "    </tr>\n",
       "    <tr>\n",
       "      <th>1</th>\n",
       "      <td>1</td>\n",
       "      <td>2</td>\n",
       "      <td>Gold</td>\n",
       "      <td>NaN</td>\n",
       "      <td>Dimensions unavailable</td>\n",
       "      <td>NaN</td>\n",
       "      <td>1901</td>\n",
       "      <td>1901</td>\n",
       "    </tr>\n",
       "    <tr>\n",
       "      <th>2</th>\n",
       "      <td>2</td>\n",
       "      <td>3</td>\n",
       "      <td>Gold</td>\n",
       "      <td>NaN</td>\n",
       "      <td>Diam. 11/16 in. (1.7 cm)</td>\n",
       "      <td>NaN</td>\n",
       "      <td>1909</td>\n",
       "      <td>1927</td>\n",
       "    </tr>\n",
       "    <tr>\n",
       "      <th>3</th>\n",
       "      <td>3</td>\n",
       "      <td>4</td>\n",
       "      <td>Gold</td>\n",
       "      <td>NaN</td>\n",
       "      <td>Diam. 11/16 in. (1.7 cm)</td>\n",
       "      <td>NaN</td>\n",
       "      <td>1909</td>\n",
       "      <td>1927</td>\n",
       "    </tr>\n",
       "    <tr>\n",
       "      <th>4</th>\n",
       "      <td>4</td>\n",
       "      <td>5</td>\n",
       "      <td>Gold</td>\n",
       "      <td>NaN</td>\n",
       "      <td>Diam. 11/16 in. (1.7 cm)</td>\n",
       "      <td>NaN</td>\n",
       "      <td>1909</td>\n",
       "      <td>1927</td>\n",
       "    </tr>\n",
       "  </tbody>\n",
       "</table>\n",
       "</div>"
      ],
      "text/plain": [
       "   Object ID  Object ID.1 Medium Classification                Dimensions  \\\n",
       "0          0            1   Gold            NaN    Dimensions unavailable   \n",
       "1          1            2   Gold            NaN    Dimensions unavailable   \n",
       "2          2            3   Gold            NaN  Diam. 11/16 in. (1.7 cm)   \n",
       "3          3            4   Gold            NaN  Diam. 11/16 in. (1.7 cm)   \n",
       "4          4            5   Gold            NaN  Diam. 11/16 in. (1.7 cm)   \n",
       "\n",
       "  Culture  Object Begin Date  Object End Date  \n",
       "0     NaN               1853             1853  \n",
       "1     NaN               1901             1901  \n",
       "2     NaN               1909             1927  \n",
       "3     NaN               1909             1927  \n",
       "4     NaN               1909             1927  "
      ]
     },
     "execution_count": 32,
     "metadata": {},
     "output_type": "execute_result"
    }
   ],
   "source": [
    "hello = pd.read_csv(\"data/met_dataset.csv\")\n",
    "hello.head()"
   ]
  },
  {
   "cell_type": "code",
   "execution_count": 31,
   "metadata": {},
   "outputs": [
    {
     "data": {
      "text/plain": [
       "7181"
      ]
     },
     "execution_count": 31,
     "metadata": {},
     "output_type": "execute_result"
    }
   ],
   "source": [
    "len(hello[\"Culture\"].unique())"
   ]
  },
  {
   "cell_type": "code",
   "execution_count": 24,
   "metadata": {},
   "outputs": [
    {
     "data": {
      "text/plain": [
       "Historical Period    Contemporary Era\n",
       "height                          241.9\n",
       "diam                               -1\n",
       "width                           117.5\n",
       "depth                              -1\n",
       "num_period                          1\n",
       "medium_num                    1.72804\n",
       "classif_num                   2.15319\n",
       "culture_num                   2.13687\n",
       "Name: 20000, dtype: object"
      ]
     },
     "execution_count": 24,
     "metadata": {},
     "output_type": "execute_result"
    }
   ],
   "source": [
    "df_train.iloc[20000,:]"
   ]
  },
  {
   "cell_type": "code",
   "execution_count": 22,
   "metadata": {},
   "outputs": [],
   "source": [
    "map_period = {\"Contemporary Era\":1., \"Modern Times\": 2., \"Middle Ages\":3., \"Antiquity\":4.}"
   ]
  },
  {
   "cell_type": "markdown",
   "metadata": {},
   "source": [
    "### Preprocessing\n",
    "\n",
    "#### Get X and y"
   ]
  },
  {
   "cell_type": "code",
   "execution_count": 23,
   "metadata": {},
   "outputs": [
    {
     "data": {
      "text/plain": [
       "array([[1., 0., 0., 0.],\n",
       "       [1., 0., 0., 0.],\n",
       "       [1., 0., 0., 0.],\n",
       "       ...,\n",
       "       [0., 0., 0., 1.],\n",
       "       [0., 0., 0., 1.],\n",
       "       [0., 0., 0., 1.]])"
      ]
     },
     "execution_count": 23,
     "metadata": {},
     "output_type": "execute_result"
    }
   ],
   "source": [
    "from sklearn.preprocessing import OneHotEncoder\n",
    "import numpy as np\n",
    "\n",
    "periods_train = np.array(df_train[\"Historical Period\"]).reshape(-1, 1)\n",
    "\n",
    "ohe = OneHotEncoder(sparse=False)\n",
    "ohe.fit(periods_train)\n",
    "y_ohe_train = ohe.transform(periods_train)\n",
    "\n",
    "periods_test = np.array(df_test[\"Historical Period\"]).reshape(-1, 1)\n",
    "y_ohe_test = ohe.transform(periods_test)\n",
    "y_ohe_train"
   ]
  },
  {
   "cell_type": "code",
   "execution_count": null,
   "metadata": {},
   "outputs": [],
   "source": [
    "# key: name of the class; item: index of the column in y\n",
    "dico_period_ohe = {\"Modern Times\":3, \"Contemporary Era\":1, \"Antiquity\":0, \"Middle Ages\":2}"
   ]
  },
  {
   "cell_type": "code",
   "execution_count": 5,
   "metadata": {},
   "outputs": [
    {
     "data": {
      "text/plain": [
       "array([4., 4., 4., ..., 2., 2., 2.])"
      ]
     },
     "execution_count": 5,
     "metadata": {},
     "output_type": "execute_result"
    }
   ],
   "source": [
    "import numpy as np\n",
    "y_train = np.array(df_train[\"num_period\"])\n",
    "y_train"
   ]
  },
  {
   "cell_type": "code",
   "execution_count": 6,
   "metadata": {},
   "outputs": [
    {
     "data": {
      "text/plain": [
       "(40180, 7)"
      ]
     },
     "execution_count": 6,
     "metadata": {},
     "output_type": "execute_result"
    }
   ],
   "source": [
    "X_train = np.array(df_train.drop(columns=[\"Historical Period\", \"num_period\"]))\n",
    "X_train.shape"
   ]
  },
  {
   "cell_type": "code",
   "execution_count": 7,
   "metadata": {},
   "outputs": [],
   "source": [
    "y_test = np.array(df_test[\"num_period\"])\n",
    "X_test = np.array(df_test.drop(columns=[\"Historical Period\", \"num_period\"]))"
   ]
  },
  {
   "cell_type": "markdown",
   "metadata": {},
   "source": [
    "#### Rescaling the features"
   ]
  },
  {
   "cell_type": "markdown",
   "metadata": {},
   "source": [
    "medium_num, culture_num and classif_num are bounded between 1 and 4 by construction (fine).\n",
    "\n",
    "\n",
    "Let's transform the features related to dimensions: height, width, depth and diam. It doesn't really make sense (from a physical point of view) to normalize them to zero mean and unit variance. Instead, let's rescale them so that they are between 0 and 1:"
   ]
  },
  {
   "cell_type": "code",
   "execution_count": 8,
   "metadata": {},
   "outputs": [
    {
     "data": {
      "text/plain": [
       "array([ 7.1       , -1.        , 10.8       , -1.        ,  3.04606152,\n",
       "        2.53337623,  2.13686557])"
      ]
     },
     "execution_count": 8,
     "metadata": {},
     "output_type": "execute_result"
    }
   ],
   "source": [
    "X_train[0,:]"
   ]
  },
  {
   "cell_type": "code",
   "execution_count": 9,
   "metadata": {},
   "outputs": [],
   "source": [
    "from sklearn.preprocessing import MinMaxScaler\n",
    "\n",
    "scaler = MinMaxScaler()\n",
    "scaler.fit(X_train[:,:4])\n",
    "dims_train_minmax = scaler.transform(X_train[:,:4])"
   ]
  },
  {
   "cell_type": "code",
   "execution_count": 10,
   "metadata": {},
   "outputs": [
    {
     "name": "stdout",
     "output_type": "stream",
     "text": [
      "[0. 0. 0. 0.] [1. 1. 1. 1.]\n"
     ]
    }
   ],
   "source": [
    "# check\n",
    "print(np.min(dims_train_minmax, axis=0), np.max(dims_train_minmax, axis=0))"
   ]
  },
  {
   "cell_type": "code",
   "execution_count": 11,
   "metadata": {},
   "outputs": [
    {
     "name": "stdout",
     "output_type": "stream",
     "text": [
      "[0.00339836 0.         0.00640886 0.         3.04606152 2.53337623\n",
      " 2.13686557]\n"
     ]
    }
   ],
   "source": [
    "X_train[:,:4] = dims_train_minmax\n",
    "print(X_train[0,:])"
   ]
  },
  {
   "cell_type": "code",
   "execution_count": 12,
   "metadata": {},
   "outputs": [
    {
     "data": {
      "text/plain": [
       "array([0.        , 0.00655793, 0.        , 0.        , 2.93310463,\n",
       "       3.05988515, 2.96666667])"
      ]
     },
     "execution_count": 12,
     "metadata": {},
     "output_type": "execute_result"
    }
   ],
   "source": [
    "# apply the same transformation on testing set\n",
    "dims_test_minmax = scaler.transform(X_test[:,:4])\n",
    "X_test[:,:4] = dims_test_minmax\n",
    "X_test[0,:]"
   ]
  },
  {
   "cell_type": "markdown",
   "metadata": {},
   "source": [
    "### Machine Learning models"
   ]
  },
  {
   "cell_type": "markdown",
   "metadata": {},
   "source": [
    "#### Baseline Multinomial Logistic Regression"
   ]
  },
  {
   "cell_type": "code",
   "execution_count": 13,
   "metadata": {},
   "outputs": [
    {
     "name": "stderr",
     "output_type": "stream",
     "text": [
      "/Users/terencengo/opt/anaconda3/lib/python3.7/site-packages/sklearn/linear_model/_logistic.py:940: ConvergenceWarning: lbfgs failed to converge (status=1):\n",
      "STOP: TOTAL NO. of ITERATIONS REACHED LIMIT.\n",
      "\n",
      "Increase the number of iterations (max_iter) or scale the data as shown in:\n",
      "    https://scikit-learn.org/stable/modules/preprocessing.html\n",
      "Please also refer to the documentation for alternative solver options:\n",
      "    https://scikit-learn.org/stable/modules/linear_model.html#logistic-regression\n",
      "  extra_warning_msg=_LOGISTIC_SOLVER_CONVERGENCE_MSG)\n"
     ]
    },
    {
     "data": {
      "text/plain": [
       "LogisticRegression(C=1.0, class_weight=None, dual=False, fit_intercept=True,\n",
       "                   intercept_scaling=1, l1_ratio=None, max_iter=100,\n",
       "                   multi_class='multinomial', n_jobs=None, penalty='l2',\n",
       "                   random_state=0, solver='lbfgs', tol=0.0001, verbose=0,\n",
       "                   warm_start=False)"
      ]
     },
     "execution_count": 13,
     "metadata": {},
     "output_type": "execute_result"
    }
   ],
   "source": [
    "from sklearn.linear_model import LogisticRegression\n",
    "\n",
    "logit = LogisticRegression(random_state=0, multi_class=\"multinomial\")\n",
    "logit.fit(X_train, y_train)"
   ]
  },
  {
   "cell_type": "code",
   "execution_count": 14,
   "metadata": {},
   "outputs": [],
   "source": [
    "\n",
    "def plot_confusion_matrix(model, X_test, y_test, model_name=\"\"):\n",
    "    from sklearn.metrics import confusion_matrix\n",
    "    import matplotlib.pyplot as plt\n",
    "    import seaborn as sns\n",
    "\n",
    "    preds = model.predict(X_test)\n",
    "    conf_mat = confusion_matrix(y_test, preds)\n",
    "    plt.figure(figsize=(8,8))\n",
    "    sns.heatmap(conf_mat, cmap=\"Blues\",\n",
    "    annot=True, xticklabels=map_period.keys(),\n",
    "    yticklabels=map_period.keys(),\n",
    "    )\n",
    "    plt.title(\"Confusion matrix of {}\".format(model_name))\n",
    "    plt.xlabel(\"Predicted class\")\n",
    "    plt.ylabel(\"True class\")\n",
    "    plt.show()"
   ]
  },
  {
   "cell_type": "code",
   "execution_count": 15,
   "metadata": {},
   "outputs": [
    {
     "data": {
      "image/png": "[encoded data removed]",
      "text/plain": [
       "<Figure size 576x576 with 2 Axes>"
      ]
     },
     "metadata": {
      "needs_background": "light"
     },
     "output_type": "display_data"
    }
   ],
   "source": [
    "plot_confusion_matrix(logit, X_test, y_test, model_name=\"Baseline Logistic Regression\")"
   ]
  },
  {
   "cell_type": "code",
   "execution_count": 25,
   "metadata": {},
   "outputs": [
    {
     "data": {
      "text/plain": [
       "0.6860256793072559"
      ]
     },
     "execution_count": 25,
     "metadata": {},
     "output_type": "execute_result"
    }
   ],
   "source": [
    "#from sklearn.metrics import log_loss\n",
    "from sklearn.metrics import accuracy_score\n",
    "\n",
    "accuracy_score(y_test, logit.predict(X_test))"
   ]
  },
  {
   "cell_type": "markdown",
   "metadata": {},
   "source": [
    "#### Tuned Multinomial Logistic Regression"
   ]
  },
  {
   "cell_type": "code",
   "execution_count": null,
   "metadata": {},
   "outputs": [],
   "source": [
    "from sklearn.model_selection import GridSearchCV\n",
    "\n",
    "grid_logit_params = {\"C\": np.linspace(1e-4,0.1,10)} # quite computationnally expensive\n",
    "\n",
    "logit_base = LogisticRegression(penalty=\"elasticnet\", l1_ratio=0.5, solver=\"saga\", random_state=0, multi_class=\"multinomial\")\n",
    "clf = GridSearchCV(logit_base, grid_logit_params, cv=5, scoring=\"accuracy\")\n",
    "clf.fit(X_train, y_train)"
   ]
  },
  {
   "cell_type": "code",
   "execution_count": 40,
   "metadata": {},
   "outputs": [
    {
     "data": {
      "text/html": [
       "<div>\n",
       "<style scoped>\n",
       "    .dataframe tbody tr th:only-of-type {\n",
       "        vertical-align: middle;\n",
       "    }\n",
       "\n",
       "    .dataframe tbody tr th {\n",
       "        vertical-align: top;\n",
       "    }\n",
       "\n",
       "    .dataframe thead th {\n",
       "        text-align: right;\n",
       "    }\n",
       "</style>\n",
       "<table border=\"1\" class=\"dataframe\">\n",
       "  <thead>\n",
       "    <tr style=\"text-align: right;\">\n",
       "      <th></th>\n",
       "      <th>mean_fit_time</th>\n",
       "      <th>std_fit_time</th>\n",
       "      <th>mean_score_time</th>\n",
       "      <th>std_score_time</th>\n",
       "      <th>param_C</th>\n",
       "      <th>params</th>\n",
       "      <th>split0_test_score</th>\n",
       "      <th>split1_test_score</th>\n",
       "      <th>split2_test_score</th>\n",
       "      <th>split3_test_score</th>\n",
       "      <th>split4_test_score</th>\n",
       "      <th>mean_test_score</th>\n",
       "      <th>std_test_score</th>\n",
       "      <th>rank_test_score</th>\n",
       "    </tr>\n",
       "  </thead>\n",
       "  <tbody>\n",
       "    <tr>\n",
       "      <th>0</th>\n",
       "      <td>0.239001</td>\n",
       "      <td>0.065407</td>\n",
       "      <td>0.000856</td>\n",
       "      <td>0.000069</td>\n",
       "      <td>0.0001</td>\n",
       "      <td>{'C': 0.0001}</td>\n",
       "      <td>0.490169</td>\n",
       "      <td>0.489049</td>\n",
       "      <td>0.481707</td>\n",
       "      <td>0.478472</td>\n",
       "      <td>0.491289</td>\n",
       "      <td>0.486137</td>\n",
       "      <td>0.005092</td>\n",
       "      <td>10</td>\n",
       "    </tr>\n",
       "    <tr>\n",
       "      <th>1</th>\n",
       "      <td>0.198858</td>\n",
       "      <td>0.009559</td>\n",
       "      <td>0.000880</td>\n",
       "      <td>0.000004</td>\n",
       "      <td>0.0112</td>\n",
       "      <td>{'C': 0.0112}</td>\n",
       "      <td>0.672847</td>\n",
       "      <td>0.668243</td>\n",
       "      <td>0.675958</td>\n",
       "      <td>0.665879</td>\n",
       "      <td>0.675834</td>\n",
       "      <td>0.671752</td>\n",
       "      <td>0.004059</td>\n",
       "      <td>9</td>\n",
       "    </tr>\n",
       "    <tr>\n",
       "      <th>2</th>\n",
       "      <td>0.196750</td>\n",
       "      <td>0.008008</td>\n",
       "      <td>0.000921</td>\n",
       "      <td>0.000068</td>\n",
       "      <td>0.0223</td>\n",
       "      <td>{'C': 0.0223}</td>\n",
       "      <td>0.685416</td>\n",
       "      <td>0.678820</td>\n",
       "      <td>0.688527</td>\n",
       "      <td>0.678198</td>\n",
       "      <td>0.677700</td>\n",
       "      <td>0.681732</td>\n",
       "      <td>0.004404</td>\n",
       "      <td>8</td>\n",
       "    </tr>\n",
       "    <tr>\n",
       "      <th>3</th>\n",
       "      <td>0.207664</td>\n",
       "      <td>0.018009</td>\n",
       "      <td>0.001050</td>\n",
       "      <td>0.000175</td>\n",
       "      <td>0.0334</td>\n",
       "      <td>{'C': 0.033400000000000006}</td>\n",
       "      <td>0.686287</td>\n",
       "      <td>0.678447</td>\n",
       "      <td>0.688776</td>\n",
       "      <td>0.678571</td>\n",
       "      <td>0.685789</td>\n",
       "      <td>0.683574</td>\n",
       "      <td>0.004258</td>\n",
       "      <td>7</td>\n",
       "    </tr>\n",
       "    <tr>\n",
       "      <th>4</th>\n",
       "      <td>0.227582</td>\n",
       "      <td>0.007403</td>\n",
       "      <td>0.001057</td>\n",
       "      <td>0.000051</td>\n",
       "      <td>0.0445</td>\n",
       "      <td>{'C': 0.044500000000000005}</td>\n",
       "      <td>0.686536</td>\n",
       "      <td>0.679069</td>\n",
       "      <td>0.687904</td>\n",
       "      <td>0.679567</td>\n",
       "      <td>0.687656</td>\n",
       "      <td>0.684146</td>\n",
       "      <td>0.003972</td>\n",
       "      <td>6</td>\n",
       "    </tr>\n",
       "    <tr>\n",
       "      <th>5</th>\n",
       "      <td>0.255526</td>\n",
       "      <td>0.022393</td>\n",
       "      <td>0.001026</td>\n",
       "      <td>0.000137</td>\n",
       "      <td>0.0556</td>\n",
       "      <td>{'C': 0.055600000000000004}</td>\n",
       "      <td>0.687282</td>\n",
       "      <td>0.679318</td>\n",
       "      <td>0.688029</td>\n",
       "      <td>0.679567</td>\n",
       "      <td>0.687904</td>\n",
       "      <td>0.684420</td>\n",
       "      <td>0.004073</td>\n",
       "      <td>5</td>\n",
       "    </tr>\n",
       "    <tr>\n",
       "      <th>6</th>\n",
       "      <td>0.292053</td>\n",
       "      <td>0.016302</td>\n",
       "      <td>0.001071</td>\n",
       "      <td>0.000086</td>\n",
       "      <td>0.0667</td>\n",
       "      <td>{'C': 0.06670000000000001}</td>\n",
       "      <td>0.687158</td>\n",
       "      <td>0.679816</td>\n",
       "      <td>0.687780</td>\n",
       "      <td>0.679567</td>\n",
       "      <td>0.688153</td>\n",
       "      <td>0.684495</td>\n",
       "      <td>0.003936</td>\n",
       "      <td>4</td>\n",
       "    </tr>\n",
       "    <tr>\n",
       "      <th>7</th>\n",
       "      <td>0.358323</td>\n",
       "      <td>0.019783</td>\n",
       "      <td>0.001038</td>\n",
       "      <td>0.000045</td>\n",
       "      <td>0.0778</td>\n",
       "      <td>{'C': 0.07780000000000001}</td>\n",
       "      <td>0.687158</td>\n",
       "      <td>0.679567</td>\n",
       "      <td>0.688402</td>\n",
       "      <td>0.679069</td>\n",
       "      <td>0.688527</td>\n",
       "      <td>0.684545</td>\n",
       "      <td>0.004297</td>\n",
       "      <td>3</td>\n",
       "    </tr>\n",
       "    <tr>\n",
       "      <th>8</th>\n",
       "      <td>0.403196</td>\n",
       "      <td>0.021846</td>\n",
       "      <td>0.001184</td>\n",
       "      <td>0.000282</td>\n",
       "      <td>0.0889</td>\n",
       "      <td>{'C': 0.0889}</td>\n",
       "      <td>0.687033</td>\n",
       "      <td>0.679940</td>\n",
       "      <td>0.688527</td>\n",
       "      <td>0.679069</td>\n",
       "      <td>0.689522</td>\n",
       "      <td>0.684818</td>\n",
       "      <td>0.004419</td>\n",
       "      <td>2</td>\n",
       "    </tr>\n",
       "    <tr>\n",
       "      <th>9</th>\n",
       "      <td>0.426948</td>\n",
       "      <td>0.024982</td>\n",
       "      <td>0.000993</td>\n",
       "      <td>0.000126</td>\n",
       "      <td>0.1</td>\n",
       "      <td>{'C': 0.1}</td>\n",
       "      <td>0.687033</td>\n",
       "      <td>0.680314</td>\n",
       "      <td>0.688651</td>\n",
       "      <td>0.678945</td>\n",
       "      <td>0.689647</td>\n",
       "      <td>0.684918</td>\n",
       "      <td>0.004419</td>\n",
       "      <td>1</td>\n",
       "    </tr>\n",
       "  </tbody>\n",
       "</table>\n",
       "</div>"
      ],
      "text/plain": [
       "   mean_fit_time  std_fit_time  mean_score_time  std_score_time param_C  \\\n",
       "0       0.239001      0.065407         0.000856        0.000069  0.0001   \n",
       "1       0.198858      0.009559         0.000880        0.000004  0.0112   \n",
       "2       0.196750      0.008008         0.000921        0.000068  0.0223   \n",
       "3       0.207664      0.018009         0.001050        0.000175  0.0334   \n",
       "4       0.227582      0.007403         0.001057        0.000051  0.0445   \n",
       "5       0.255526      0.022393         0.001026        0.000137  0.0556   \n",
       "6       0.292053      0.016302         0.001071        0.000086  0.0667   \n",
       "7       0.358323      0.019783         0.001038        0.000045  0.0778   \n",
       "8       0.403196      0.021846         0.001184        0.000282  0.0889   \n",
       "9       0.426948      0.024982         0.000993        0.000126     0.1   \n",
       "\n",
       "                        params  split0_test_score  split1_test_score  \\\n",
       "0                {'C': 0.0001}           0.490169           0.489049   \n",
       "1                {'C': 0.0112}           0.672847           0.668243   \n",
       "2                {'C': 0.0223}           0.685416           0.678820   \n",
       "3  {'C': 0.033400000000000006}           0.686287           0.678447   \n",
       "4  {'C': 0.044500000000000005}           0.686536           0.679069   \n",
       "5  {'C': 0.055600000000000004}           0.687282           0.679318   \n",
       "6   {'C': 0.06670000000000001}           0.687158           0.679816   \n",
       "7   {'C': 0.07780000000000001}           0.687158           0.679567   \n",
       "8                {'C': 0.0889}           0.687033           0.679940   \n",
       "9                   {'C': 0.1}           0.687033           0.680314   \n",
       "\n",
       "   split2_test_score  split3_test_score  split4_test_score  mean_test_score  \\\n",
       "0           0.481707           0.478472           0.491289         0.486137   \n",
       "1           0.675958           0.665879           0.675834         0.671752   \n",
       "2           0.688527           0.678198           0.677700         0.681732   \n",
       "3           0.688776           0.678571           0.685789         0.683574   \n",
       "4           0.687904           0.679567           0.687656         0.684146   \n",
       "5           0.688029           0.679567           0.687904         0.684420   \n",
       "6           0.687780           0.679567           0.688153         0.684495   \n",
       "7           0.688402           0.679069           0.688527         0.684545   \n",
       "8           0.688527           0.679069           0.689522         0.684818   \n",
       "9           0.688651           0.678945           0.689647         0.684918   \n",
       "\n",
       "   std_test_score  rank_test_score  \n",
       "0        0.005092               10  \n",
       "1        0.004059                9  \n",
       "2        0.004404                8  \n",
       "3        0.004258                7  \n",
       "4        0.003972                6  \n",
       "5        0.004073                5  \n",
       "6        0.003936                4  \n",
       "7        0.004297                3  \n",
       "8        0.004419                2  \n",
       "9        0.004419                1  "
      ]
     },
     "execution_count": 40,
     "metadata": {},
     "output_type": "execute_result"
    }
   ],
   "source": [
    "grid_logit_results = pd.DataFrame(data=clf.cv_results_)\n",
    "grid_logit_results"
   ]
  },
  {
   "cell_type": "code",
   "execution_count": 42,
   "metadata": {},
   "outputs": [
    {
     "data": {
      "image/png": "[encoded data removed]",
      "text/plain": [
       "<Figure size 576x576 with 2 Axes>"
      ]
     },
     "metadata": {
      "needs_background": "light"
     },
     "output_type": "display_data"
    }
   ],
   "source": [
    "logit_best = clf.best_estimator_\n",
    "plot_confusion_matrix(logit_best, X_test, y_test, model_name=\"Best Logistic Regression\")"
   ]
  },
  {
   "cell_type": "code",
   "execution_count": 43,
   "metadata": {},
   "outputs": [
    {
     "data": {
      "text/plain": [
       "0.6828904150492684"
      ]
     },
     "execution_count": 43,
     "metadata": {},
     "output_type": "execute_result"
    }
   ],
   "source": [
    "accuracy_score(y_test, logit_best.predict(X_test))"
   ]
  },
  {
   "cell_type": "markdown",
   "metadata": {},
   "source": [
    "#### Random Forest"
   ]
  },
  {
   "cell_type": "code",
   "execution_count": 50,
   "metadata": {},
   "outputs": [
    {
     "data": {
      "text/plain": [
       "RandomForestClassifier(bootstrap=True, ccp_alpha=0.0, class_weight=None,\n",
       "                       criterion='gini', max_depth=None, max_features='auto',\n",
       "                       max_leaf_nodes=None, max_samples=None,\n",
       "                       min_impurity_decrease=0.0, min_impurity_split=None,\n",
       "                       min_samples_leaf=1, min_samples_split=2,\n",
       "                       min_weight_fraction_leaf=0.0, n_estimators=100,\n",
       "                       n_jobs=None, oob_score=False, random_state=0, verbose=0,\n",
       "                       warm_start=False)"
      ]
     },
     "execution_count": 50,
     "metadata": {},
     "output_type": "execute_result"
    }
   ],
   "source": [
    "from sklearn.ensemble import RandomForestClassifier\n",
    "\n",
    "rfc = RandomForestClassifier(n_estimators=100, random_state=0)\n",
    "rfc.fit(X_train, y_train)"
   ]
  },
  {
   "cell_type": "code",
   "execution_count": 51,
   "metadata": {},
   "outputs": [
    {
     "data": {
      "image/png": "[encoded data removed]",
      "text/plain": [
       "<Figure size 576x576 with 2 Axes>"
      ]
     },
     "metadata": {
      "needs_background": "light"
     },
     "output_type": "display_data"
    }
   ],
   "source": [
    "plot_confusion_matrix(rfc, X_test, y_test, model_name=\"Baseline Random Forest\")"
   ]
  },
  {
   "cell_type": "code",
   "execution_count": 52,
   "metadata": {},
   "outputs": [
    {
     "data": {
      "text/plain": [
       "0.8369662585846521"
      ]
     },
     "execution_count": 52,
     "metadata": {},
     "output_type": "execute_result"
    }
   ],
   "source": [
    "accuracy_score(y_test, rfc.predict(X_test))"
   ]
  },
  {
   "cell_type": "markdown",
   "metadata": {},
   "source": [
    "#### Tuned Random Forest"
   ]
  },
  {
   "cell_type": "code",
   "execution_count": 53,
   "metadata": {},
   "outputs": [
    {
     "data": {
      "text/plain": [
       "GridSearchCV(cv=5, error_score=nan,\n",
       "             estimator=RandomForestClassifier(bootstrap=True, ccp_alpha=0.0,\n",
       "                                              class_weight=None,\n",
       "                                              criterion='gini', max_depth=None,\n",
       "                                              max_features='auto',\n",
       "                                              max_leaf_nodes=None,\n",
       "                                              max_samples=None,\n",
       "                                              min_impurity_decrease=0.0,\n",
       "                                              min_impurity_split=None,\n",
       "                                              min_samples_leaf=1,\n",
       "                                              min_samples_split=2,\n",
       "                                              min_weight_fraction_leaf=0.0,\n",
       "                                              n_estimators=100, n_jobs=None,\n",
       "                                              oob_score=False, random_state=0,\n",
       "                                              verbose=0, warm_start=False),\n",
       "             iid='deprecated', n_jobs=None,\n",
       "             param_grid={'max_depth': range(20, 60, 10)},\n",
       "             pre_dispatch='2*n_jobs', refit=True, return_train_score=False,\n",
       "             scoring='accuracy', verbose=0)"
      ]
     },
     "execution_count": 53,
     "metadata": {},
     "output_type": "execute_result"
    }
   ],
   "source": [
    "grid_rfc_params = {\"max_depth\": range(20,60,10)} # quite computationnally expensive\n",
    "\n",
    "rfc_base = RandomForestClassifier(n_estimators=100, random_state=0)\n",
    "clf_rfc = GridSearchCV(rfc_base, grid_rfc_params, cv=5, scoring=\"accuracy\")\n",
    "clf_rfc.fit(X_train, y_train)"
   ]
  },
  {
   "cell_type": "code",
   "execution_count": 54,
   "metadata": {},
   "outputs": [
    {
     "data": {
      "text/html": [
       "<div>\n",
       "<style scoped>\n",
       "    .dataframe tbody tr th:only-of-type {\n",
       "        vertical-align: middle;\n",
       "    }\n",
       "\n",
       "    .dataframe tbody tr th {\n",
       "        vertical-align: top;\n",
       "    }\n",
       "\n",
       "    .dataframe thead th {\n",
       "        text-align: right;\n",
       "    }\n",
       "</style>\n",
       "<table border=\"1\" class=\"dataframe\">\n",
       "  <thead>\n",
       "    <tr style=\"text-align: right;\">\n",
       "      <th></th>\n",
       "      <th>mean_fit_time</th>\n",
       "      <th>std_fit_time</th>\n",
       "      <th>mean_score_time</th>\n",
       "      <th>std_score_time</th>\n",
       "      <th>param_max_depth</th>\n",
       "      <th>params</th>\n",
       "      <th>split0_test_score</th>\n",
       "      <th>split1_test_score</th>\n",
       "      <th>split2_test_score</th>\n",
       "      <th>split3_test_score</th>\n",
       "      <th>split4_test_score</th>\n",
       "      <th>mean_test_score</th>\n",
       "      <th>std_test_score</th>\n",
       "      <th>rank_test_score</th>\n",
       "    </tr>\n",
       "  </thead>\n",
       "  <tbody>\n",
       "    <tr>\n",
       "      <th>0</th>\n",
       "      <td>2.106230</td>\n",
       "      <td>0.155338</td>\n",
       "      <td>0.133751</td>\n",
       "      <td>0.003573</td>\n",
       "      <td>20</td>\n",
       "      <td>{'max_depth': 20}</td>\n",
       "      <td>0.837979</td>\n",
       "      <td>0.836610</td>\n",
       "      <td>0.839721</td>\n",
       "      <td>0.840841</td>\n",
       "      <td>0.833375</td>\n",
       "      <td>0.837705</td>\n",
       "      <td>0.002605</td>\n",
       "      <td>1</td>\n",
       "    </tr>\n",
       "    <tr>\n",
       "      <th>1</th>\n",
       "      <td>2.173057</td>\n",
       "      <td>0.029409</td>\n",
       "      <td>0.141267</td>\n",
       "      <td>0.001538</td>\n",
       "      <td>30</td>\n",
       "      <td>{'max_depth': 30}</td>\n",
       "      <td>0.832753</td>\n",
       "      <td>0.831882</td>\n",
       "      <td>0.834868</td>\n",
       "      <td>0.836486</td>\n",
       "      <td>0.828273</td>\n",
       "      <td>0.832852</td>\n",
       "      <td>0.002800</td>\n",
       "      <td>4</td>\n",
       "    </tr>\n",
       "    <tr>\n",
       "      <th>2</th>\n",
       "      <td>2.248317</td>\n",
       "      <td>0.036355</td>\n",
       "      <td>0.153841</td>\n",
       "      <td>0.017438</td>\n",
       "      <td>40</td>\n",
       "      <td>{'max_depth': 40}</td>\n",
       "      <td>0.834868</td>\n",
       "      <td>0.833873</td>\n",
       "      <td>0.834619</td>\n",
       "      <td>0.837606</td>\n",
       "      <td>0.829393</td>\n",
       "      <td>0.834072</td>\n",
       "      <td>0.002659</td>\n",
       "      <td>2</td>\n",
       "    </tr>\n",
       "    <tr>\n",
       "      <th>3</th>\n",
       "      <td>2.374790</td>\n",
       "      <td>0.050772</td>\n",
       "      <td>0.153899</td>\n",
       "      <td>0.004062</td>\n",
       "      <td>50</td>\n",
       "      <td>{'max_depth': 50}</td>\n",
       "      <td>0.834370</td>\n",
       "      <td>0.833499</td>\n",
       "      <td>0.834121</td>\n",
       "      <td>0.837606</td>\n",
       "      <td>0.829268</td>\n",
       "      <td>0.833773</td>\n",
       "      <td>0.002666</td>\n",
       "      <td>3</td>\n",
       "    </tr>\n",
       "  </tbody>\n",
       "</table>\n",
       "</div>"
      ],
      "text/plain": [
       "   mean_fit_time  std_fit_time  mean_score_time  std_score_time  \\\n",
       "0       2.106230      0.155338         0.133751        0.003573   \n",
       "1       2.173057      0.029409         0.141267        0.001538   \n",
       "2       2.248317      0.036355         0.153841        0.017438   \n",
       "3       2.374790      0.050772         0.153899        0.004062   \n",
       "\n",
       "  param_max_depth             params  split0_test_score  split1_test_score  \\\n",
       "0              20  {'max_depth': 20}           0.837979           0.836610   \n",
       "1              30  {'max_depth': 30}           0.832753           0.831882   \n",
       "2              40  {'max_depth': 40}           0.834868           0.833873   \n",
       "3              50  {'max_depth': 50}           0.834370           0.833499   \n",
       "\n",
       "   split2_test_score  split3_test_score  split4_test_score  mean_test_score  \\\n",
       "0           0.839721           0.840841           0.833375         0.837705   \n",
       "1           0.834868           0.836486           0.828273         0.832852   \n",
       "2           0.834619           0.837606           0.829393         0.834072   \n",
       "3           0.834121           0.837606           0.829268         0.833773   \n",
       "\n",
       "   std_test_score  rank_test_score  \n",
       "0        0.002605                1  \n",
       "1        0.002800                4  \n",
       "2        0.002659                2  \n",
       "3        0.002666                3  "
      ]
     },
     "execution_count": 54,
     "metadata": {},
     "output_type": "execute_result"
    }
   ],
   "source": [
    "grid_rfc_results = pd.DataFrame(data=clf_rfc.cv_results_)\n",
    "grid_rfc_results"
   ]
  },
  {
   "cell_type": "markdown",
   "metadata": {},
   "source": [
    "Not impact on the perfs:"
   ]
  },
  {
   "cell_type": "code",
   "execution_count": 75,
   "metadata": {},
   "outputs": [
    {
     "data": {
      "image/png": "[encoded data removed]",
      "text/plain": [
       "<Figure size 432x288 with 1 Axes>"
      ]
     },
     "metadata": {
      "needs_background": "light"
     },
     "output_type": "display_data"
    }
   ],
   "source": [
    "import matplotlib.pyplot as plt\n",
    "grid_rfc_results[\"mean_test_score\"].plot()\n",
    "plt.xlabel(\"max_depth\")\n",
    "plt.ylabel(\"mean_test_score\")\n",
    "plt.title(\"Accuracy of Random Forest wrt max_depth\")\n",
    "plt.show()"
   ]
  },
  {
   "cell_type": "markdown",
   "metadata": {},
   "source": [
    "### Support Vector Machines"
   ]
  },
  {
   "cell_type": "code",
   "execution_count": 83,
   "metadata": {},
   "outputs": [
    {
     "data": {
      "text/plain": [
       "SVC(C=10, break_ties=False, cache_size=200, class_weight=None, coef0=0.0,\n",
       "    decision_function_shape='ovr', degree=3, gamma='scale', kernel='rbf',\n",
       "    max_iter=-1, probability=False, random_state=0, shrinking=True, tol=0.001,\n",
       "    verbose=False)"
      ]
     },
     "execution_count": 83,
     "metadata": {},
     "output_type": "execute_result"
    }
   ],
   "source": [
    "from sklearn.svm import SVC\n",
    "\n",
    "svc = SVC(C=10, kernel=\"rbf\", gamma=\"scale\", random_state=0)\n",
    "svc.fit(X_train, y_train)"
   ]
  },
  {
   "cell_type": "code",
   "execution_count": 84,
   "metadata": {},
   "outputs": [
    {
     "data": {
      "image/png": "[encoded data removed]",
      "text/plain": [
       "<Figure size 576x576 with 2 Axes>"
      ]
     },
     "metadata": {
      "needs_background": "light"
     },
     "output_type": "display_data"
    }
   ],
   "source": [
    "plot_confusion_matrix(svc, X_test, y_test, model_name=\"Baseline SVC\")"
   ]
  },
  {
   "cell_type": "code",
   "execution_count": 85,
   "metadata": {},
   "outputs": [
    {
     "data": {
      "text/plain": [
       "0.7194684980591222"
      ]
     },
     "execution_count": 85,
     "metadata": {},
     "output_type": "execute_result"
    }
   ],
   "source": [
    "accuracy_score(y_test, svc.predict(X_test))"
   ]
  }
 ],
 "metadata": {
  "interpreter": {
   "hash": "77c238a0cc12af622f616fb772f1cf88baee4107fd8364344241573b1fa60874"
  },
  "kernelspec": {
   "display_name": "Python 3.7.6 ('base')",
   "language": "python",
   "name": "python3"
  },
  "language_info": {
   "codemirror_mode": {
    "name": "ipython",
    "version": 3
   },
   "file_extension": ".py",
   "mimetype": "text/x-python",
   "name": "python",
   "nbconvert_exporter": "python",
   "pygments_lexer": "ipython3",
   "version": "3.7.6"
  },
  "orig_nbformat": 4
 },
 "nbformat": 4,
 "nbformat_minor": 2
}
